{
 "cells": [
  {
   "cell_type": "markdown",
   "id": "26c4d51f6023772c",
   "metadata": {},
   "source": [
    "### Word Embeddings\n",
    "\n",
    "En esencia, las representaciones de palabras (word embeddings) son representaciones numéricas de datos del mundo real como texto, imágenes, voz o video. Se expresan como vectores de baja dimensionalidad, donde las distancias geométricas de dos vectores en el espacio vectorial son una proyección de las relaciones entre los dos objetos del mundo real que los vectores representan. En otras palabras, te ayudan a proporcionar una representación compacta de datos de diferentes tipos, mientras que simultáneamente te permiten comparar dos objetos de datos diferentes y decir cuán similares o diferentes son en una escala numérica.\n",
    "\n",
    "Estas representaciones de baja dimensionalidad de datos del mundo real ayudan significativamente a un procesamiento y almacenamiento de datos a gran escala de manera eficiente, actuando como un medio de compresión con pérdida de los datos originales mientras se conservan sus propiedades importantes.\n",
    "\n",
    "Los \"word embeddings\" se construyen con diferentes técnica y con modelos de aprendizaje automático, generalmente se pueden usar los word embeddings creados por ChatGPT (OpenAI), Google AI etc.\n",
    "\n",
    "\n",
    "\n"
   ]
  },
  {
   "cell_type": "code",
   "execution_count": 1,
   "id": "3d2aae61",
   "metadata": {},
   "outputs": [
    {
     "name": "stdout",
     "output_type": "stream",
     "text": [
      "Collecting PyPDF2\n",
      "  Downloading pypdf2-3.0.1-py3-none-any.whl.metadata (6.8 kB)\n",
      "Requirement already satisfied: langchain==0.3.9 in c:\\users\\l03564299\\appdata\\local\\miniconda3\\lib\\site-packages (0.3.9)\n",
      "Collecting langchain-community==0.3.9\n",
      "  Downloading langchain_community-0.3.9-py3-none-any.whl.metadata (2.9 kB)\n",
      "Requirement already satisfied: langchain-core==0.3.21 in c:\\users\\l03564299\\appdata\\local\\miniconda3\\lib\\site-packages (0.3.21)\n",
      "Collecting langchain-experimental==0.3.3\n",
      "  Downloading langchain_experimental-0.3.3-py3-none-any.whl.metadata (1.7 kB)\n",
      "Collecting huggingface-hub==0.23.2\n",
      "  Downloading huggingface_hub-0.23.2-py3-none-any.whl.metadata (12 kB)\n",
      "Collecting instructor==1.7.0\n",
      "  Downloading instructor-1.7.0-py3-none-any.whl.metadata (17 kB)\n",
      "Collecting InstructorEmbedding==1.0.1\n",
      "  Downloading InstructorEmbedding-1.0.1-py2.py3-none-any.whl.metadata (20 kB)\n",
      "Collecting sentence-transformers==2.2.2\n",
      "  Downloading sentence-transformers-2.2.2.tar.gz (85 kB)\n",
      "  Preparing metadata (setup.py): started\n",
      "  Preparing metadata (setup.py): finished with status 'done'\n",
      "Collecting torch\n",
      "  Downloading torch-2.5.1-cp312-cp312-win_amd64.whl.metadata (28 kB)\n",
      "Collecting pdfplumber\n",
      "  Downloading pdfplumber-0.11.5-py3-none-any.whl.metadata (42 kB)\n",
      "Collecting faiss-cpu\n",
      "  Downloading faiss_cpu-1.9.0.post1-cp312-cp312-win_amd64.whl.metadata (4.5 kB)\n",
      "Requirement already satisfied: PyYAML>=5.3 in c:\\users\\l03564299\\appdata\\local\\miniconda3\\lib\\site-packages (from langchain==0.3.9) (6.0.2)\n",
      "Requirement already satisfied: SQLAlchemy<3,>=1.4 in c:\\users\\l03564299\\appdata\\local\\miniconda3\\lib\\site-packages (from langchain==0.3.9) (2.0.37)\n",
      "Requirement already satisfied: aiohttp<4.0.0,>=3.8.3 in c:\\users\\l03564299\\appdata\\local\\miniconda3\\lib\\site-packages (from langchain==0.3.9) (3.11.11)\n",
      "Requirement already satisfied: langchain-text-splitters<0.4.0,>=0.3.0 in c:\\users\\l03564299\\appdata\\local\\miniconda3\\lib\\site-packages (from langchain==0.3.9) (0.3.2)\n",
      "Requirement already satisfied: langsmith<0.2.0,>=0.1.17 in c:\\users\\l03564299\\appdata\\local\\miniconda3\\lib\\site-packages (from langchain==0.3.9) (0.1.147)\n",
      "Requirement already satisfied: numpy<3,>=1.26.2 in c:\\users\\l03564299\\appdata\\local\\miniconda3\\lib\\site-packages (from langchain==0.3.9) (2.2.1)\n",
      "Requirement already satisfied: pydantic<3.0.0,>=2.7.4 in c:\\users\\l03564299\\appdata\\local\\miniconda3\\lib\\site-packages (from langchain==0.3.9) (2.10.5)\n",
      "Requirement already satisfied: requests<3,>=2 in c:\\users\\l03564299\\appdata\\local\\miniconda3\\lib\\site-packages (from langchain==0.3.9) (2.32.3)\n",
      "Requirement already satisfied: tenacity!=8.4.0,<10,>=8.1.0 in c:\\users\\l03564299\\appdata\\local\\miniconda3\\lib\\site-packages (from langchain==0.3.9) (9.0.0)\n",
      "Collecting dataclasses-json<0.7,>=0.5.7 (from langchain-community==0.3.9)\n",
      "  Downloading dataclasses_json-0.6.7-py3-none-any.whl.metadata (25 kB)\n",
      "Collecting httpx-sse<0.5.0,>=0.4.0 (from langchain-community==0.3.9)\n",
      "  Downloading httpx_sse-0.4.0-py3-none-any.whl.metadata (9.0 kB)\n",
      "Collecting pydantic-settings<3.0.0,>=2.4.0 (from langchain-community==0.3.9)\n",
      "  Downloading pydantic_settings-2.7.1-py3-none-any.whl.metadata (3.5 kB)\n",
      "Requirement already satisfied: jsonpatch<2.0,>=1.33 in c:\\users\\l03564299\\appdata\\local\\miniconda3\\lib\\site-packages (from langchain-core==0.3.21) (1.33)\n",
      "Requirement already satisfied: packaging<25,>=23.2 in c:\\users\\l03564299\\appdata\\local\\miniconda3\\lib\\site-packages (from langchain-core==0.3.21) (24.1)\n",
      "Requirement already satisfied: typing-extensions>=4.7 in c:\\users\\l03564299\\appdata\\local\\miniconda3\\lib\\site-packages (from langchain-core==0.3.21) (4.12.2)\n",
      "Collecting filelock (from huggingface-hub==0.23.2)\n",
      "  Downloading filelock-3.16.1-py3-none-any.whl.metadata (2.9 kB)\n",
      "Collecting fsspec>=2023.5.0 (from huggingface-hub==0.23.2)\n",
      "  Downloading fsspec-2024.12.0-py3-none-any.whl.metadata (11 kB)\n",
      "Requirement already satisfied: tqdm>=4.42.1 in c:\\users\\l03564299\\appdata\\local\\miniconda3\\lib\\site-packages (from huggingface-hub==0.23.2) (4.66.5)\n",
      "Collecting docstring-parser<0.17,>=0.16 (from instructor==1.7.0)\n",
      "  Downloading docstring_parser-0.16-py3-none-any.whl.metadata (3.0 kB)\n",
      "Collecting jinja2<4.0.0,>=3.1.4 (from instructor==1.7.0)\n",
      "  Downloading jinja2-3.1.5-py3-none-any.whl.metadata (2.6 kB)\n",
      "Collecting jiter<0.7,>=0.6.1 (from instructor==1.7.0)\n",
      "  Downloading jiter-0.6.1-cp312-none-win_amd64.whl.metadata (5.3 kB)\n",
      "Collecting openai<2.0.0,>=1.52.0 (from instructor==1.7.0)\n",
      "  Downloading openai-1.59.7-py3-none-any.whl.metadata (27 kB)\n",
      "Requirement already satisfied: pydantic-core<3.0.0,>=2.18.0 in c:\\users\\l03564299\\appdata\\local\\miniconda3\\lib\\site-packages (from instructor==1.7.0) (2.27.2)\n",
      "Collecting rich<14.0.0,>=13.7.0 (from instructor==1.7.0)\n",
      "  Downloading rich-13.9.4-py3-none-any.whl.metadata (18 kB)\n",
      "Collecting typer<1.0.0,>=0.9.0 (from instructor==1.7.0)\n",
      "  Downloading typer-0.15.1-py3-none-any.whl.metadata (15 kB)\n",
      "Collecting transformers<5.0.0,>=4.6.0 (from sentence-transformers==2.2.2)\n",
      "  Downloading transformers-4.48.0-py3-none-any.whl.metadata (44 kB)\n",
      "Collecting torchvision (from sentence-transformers==2.2.2)\n",
      "  Downloading torchvision-0.20.1-cp312-cp312-win_amd64.whl.metadata (6.2 kB)\n",
      "Collecting scikit-learn (from sentence-transformers==2.2.2)\n",
      "  Downloading scikit_learn-1.6.1-cp312-cp312-win_amd64.whl.metadata (15 kB)\n",
      "Collecting scipy (from sentence-transformers==2.2.2)\n",
      "  Downloading scipy-1.15.1-cp312-cp312-win_amd64.whl.metadata (60 kB)\n",
      "Collecting nltk (from sentence-transformers==2.2.2)\n",
      "  Downloading nltk-3.9.1-py3-none-any.whl.metadata (2.9 kB)\n",
      "Collecting sentencepiece (from sentence-transformers==2.2.2)\n",
      "  Downloading sentencepiece-0.2.0-cp312-cp312-win_amd64.whl.metadata (8.3 kB)\n",
      "Collecting networkx (from torch)\n",
      "  Downloading networkx-3.4.2-py3-none-any.whl.metadata (6.3 kB)\n",
      "Requirement already satisfied: setuptools in c:\\users\\l03564299\\appdata\\local\\miniconda3\\lib\\site-packages (from torch) (75.1.0)\n",
      "Collecting sympy==1.13.1 (from torch)\n",
      "  Downloading sympy-1.13.1-py3-none-any.whl.metadata (12 kB)\n",
      "Collecting mpmath<1.4,>=1.1.0 (from sympy==1.13.1->torch)\n",
      "  Downloading mpmath-1.3.0-py3-none-any.whl.metadata (8.6 kB)\n",
      "Collecting pdfminer.six==20231228 (from pdfplumber)\n",
      "  Downloading pdfminer.six-20231228-py3-none-any.whl.metadata (4.2 kB)\n",
      "Collecting Pillow>=9.1 (from pdfplumber)\n",
      "  Downloading pillow-11.1.0-cp312-cp312-win_amd64.whl.metadata (9.3 kB)\n",
      "Collecting pypdfium2>=4.18.0 (from pdfplumber)\n",
      "  Downloading pypdfium2-4.30.1-py3-none-win_amd64.whl.metadata (48 kB)\n",
      "Requirement already satisfied: charset-normalizer>=2.0.0 in c:\\users\\l03564299\\appdata\\local\\miniconda3\\lib\\site-packages (from pdfminer.six==20231228->pdfplumber) (3.3.2)\n",
      "Requirement already satisfied: cryptography>=36.0.0 in c:\\users\\l03564299\\appdata\\local\\miniconda3\\lib\\site-packages (from pdfminer.six==20231228->pdfplumber) (43.0.0)\n",
      "Requirement already satisfied: aiohappyeyeballs>=2.3.0 in c:\\users\\l03564299\\appdata\\local\\miniconda3\\lib\\site-packages (from aiohttp<4.0.0,>=3.8.3->langchain==0.3.9) (2.4.4)\n",
      "Requirement already satisfied: aiosignal>=1.1.2 in c:\\users\\l03564299\\appdata\\local\\miniconda3\\lib\\site-packages (from aiohttp<4.0.0,>=3.8.3->langchain==0.3.9) (1.3.2)\n",
      "Requirement already satisfied: attrs>=17.3.0 in c:\\users\\l03564299\\appdata\\local\\miniconda3\\lib\\site-packages (from aiohttp<4.0.0,>=3.8.3->langchain==0.3.9) (24.3.0)\n",
      "Requirement already satisfied: frozenlist>=1.1.1 in c:\\users\\l03564299\\appdata\\local\\miniconda3\\lib\\site-packages (from aiohttp<4.0.0,>=3.8.3->langchain==0.3.9) (1.5.0)\n",
      "Requirement already satisfied: multidict<7.0,>=4.5 in c:\\users\\l03564299\\appdata\\local\\miniconda3\\lib\\site-packages (from aiohttp<4.0.0,>=3.8.3->langchain==0.3.9) (6.1.0)\n",
      "Requirement already satisfied: propcache>=0.2.0 in c:\\users\\l03564299\\appdata\\local\\miniconda3\\lib\\site-packages (from aiohttp<4.0.0,>=3.8.3->langchain==0.3.9) (0.2.1)\n",
      "Requirement already satisfied: yarl<2.0,>=1.17.0 in c:\\users\\l03564299\\appdata\\local\\miniconda3\\lib\\site-packages (from aiohttp<4.0.0,>=3.8.3->langchain==0.3.9) (1.18.3)\n",
      "Collecting marshmallow<4.0.0,>=3.18.0 (from dataclasses-json<0.7,>=0.5.7->langchain-community==0.3.9)\n",
      "  Downloading marshmallow-3.25.1-py3-none-any.whl.metadata (7.3 kB)\n",
      "Collecting typing-inspect<1,>=0.4.0 (from dataclasses-json<0.7,>=0.5.7->langchain-community==0.3.9)\n",
      "  Downloading typing_inspect-0.9.0-py3-none-any.whl.metadata (1.5 kB)\n",
      "Collecting MarkupSafe>=2.0 (from jinja2<4.0.0,>=3.1.4->instructor==1.7.0)\n",
      "  Downloading MarkupSafe-3.0.2-cp312-cp312-win_amd64.whl.metadata (4.1 kB)\n",
      "Requirement already satisfied: jsonpointer>=1.9 in c:\\users\\l03564299\\appdata\\local\\miniconda3\\lib\\site-packages (from jsonpatch<2.0,>=1.33->langchain-core==0.3.21) (2.1)\n",
      "Requirement already satisfied: httpx<1,>=0.23.0 in c:\\users\\l03564299\\appdata\\local\\miniconda3\\lib\\site-packages (from langsmith<0.2.0,>=0.1.17->langchain==0.3.9) (0.27.2)\n",
      "Requirement already satisfied: orjson<4.0.0,>=3.9.14 in c:\\users\\l03564299\\appdata\\local\\miniconda3\\lib\\site-packages (from langsmith<0.2.0,>=0.1.17->langchain==0.3.9) (3.10.14)\n",
      "Requirement already satisfied: requests-toolbelt<2.0.0,>=1.0.0 in c:\\users\\l03564299\\appdata\\local\\miniconda3\\lib\\site-packages (from langsmith<0.2.0,>=0.1.17->langchain==0.3.9) (1.0.0)\n",
      "Requirement already satisfied: anyio<5,>=3.5.0 in c:\\users\\l03564299\\appdata\\local\\miniconda3\\lib\\site-packages (from openai<2.0.0,>=1.52.0->instructor==1.7.0) (4.8.0)\n",
      "Requirement already satisfied: distro<2,>=1.7.0 in c:\\users\\l03564299\\appdata\\local\\miniconda3\\lib\\site-packages (from openai<2.0.0,>=1.52.0->instructor==1.7.0) (1.9.0)\n",
      "Requirement already satisfied: sniffio in c:\\users\\l03564299\\appdata\\local\\miniconda3\\lib\\site-packages (from openai<2.0.0,>=1.52.0->instructor==1.7.0) (1.3.1)\n",
      "Requirement already satisfied: annotated-types>=0.6.0 in c:\\users\\l03564299\\appdata\\local\\miniconda3\\lib\\site-packages (from pydantic<3.0.0,>=2.7.4->langchain==0.3.9) (0.7.0)\n",
      "Requirement already satisfied: python-dotenv>=0.21.0 in c:\\users\\l03564299\\appdata\\local\\miniconda3\\lib\\site-packages (from pydantic-settings<3.0.0,>=2.4.0->langchain-community==0.3.9) (1.0.1)\n",
      "Requirement already satisfied: idna<4,>=2.5 in c:\\users\\l03564299\\appdata\\local\\miniconda3\\lib\\site-packages (from requests<3,>=2->langchain==0.3.9) (3.7)\n",
      "Requirement already satisfied: urllib3<3,>=1.21.1 in c:\\users\\l03564299\\appdata\\local\\miniconda3\\lib\\site-packages (from requests<3,>=2->langchain==0.3.9) (2.2.3)\n",
      "Requirement already satisfied: certifi>=2017.4.17 in c:\\users\\l03564299\\appdata\\local\\miniconda3\\lib\\site-packages (from requests<3,>=2->langchain==0.3.9) (2024.12.14)\n",
      "Collecting markdown-it-py>=2.2.0 (from rich<14.0.0,>=13.7.0->instructor==1.7.0)\n",
      "  Downloading markdown_it_py-3.0.0-py3-none-any.whl.metadata (6.9 kB)\n",
      "Requirement already satisfied: pygments<3.0.0,>=2.13.0 in c:\\users\\l03564299\\appdata\\local\\miniconda3\\lib\\site-packages (from rich<14.0.0,>=13.7.0->instructor==1.7.0) (2.19.1)\n",
      "Requirement already satisfied: greenlet!=0.4.17 in c:\\users\\l03564299\\appdata\\local\\miniconda3\\lib\\site-packages (from SQLAlchemy<3,>=1.4->langchain==0.3.9) (3.1.1)\n",
      "Requirement already satisfied: colorama in c:\\users\\l03564299\\appdata\\local\\miniconda3\\lib\\site-packages (from tqdm>=4.42.1->huggingface-hub==0.23.2) (0.4.6)\n",
      "INFO: pip is looking at multiple versions of transformers to determine which version is compatible with other requirements. This could take a while.\n",
      "Collecting transformers<5.0.0,>=4.6.0 (from sentence-transformers==2.2.2)\n",
      "  Downloading transformers-4.47.1-py3-none-any.whl.metadata (44 kB)\n",
      "  Downloading transformers-4.47.0-py3-none-any.whl.metadata (43 kB)\n",
      "  Downloading transformers-4.46.3-py3-none-any.whl.metadata (44 kB)\n",
      "Collecting regex!=2019.12.17 (from transformers<5.0.0,>=4.6.0->sentence-transformers==2.2.2)\n",
      "  Downloading regex-2024.11.6-cp312-cp312-win_amd64.whl.metadata (41 kB)\n",
      "Collecting tokenizers<0.21,>=0.20 (from transformers<5.0.0,>=4.6.0->sentence-transformers==2.2.2)\n",
      "  Downloading tokenizers-0.20.3-cp312-none-win_amd64.whl.metadata (6.9 kB)\n",
      "Collecting safetensors>=0.4.1 (from transformers<5.0.0,>=4.6.0->sentence-transformers==2.2.2)\n",
      "  Downloading safetensors-0.5.2-cp38-abi3-win_amd64.whl.metadata (3.9 kB)\n",
      "Collecting click>=8.0.0 (from typer<1.0.0,>=0.9.0->instructor==1.7.0)\n",
      "  Downloading click-8.1.8-py3-none-any.whl.metadata (2.3 kB)\n",
      "Collecting shellingham>=1.3.0 (from typer<1.0.0,>=0.9.0->instructor==1.7.0)\n",
      "  Downloading shellingham-1.5.4-py2.py3-none-any.whl.metadata (3.5 kB)\n",
      "Collecting joblib (from nltk->sentence-transformers==2.2.2)\n",
      "  Downloading joblib-1.4.2-py3-none-any.whl.metadata (5.4 kB)\n",
      "Collecting threadpoolctl>=3.1.0 (from scikit-learn->sentence-transformers==2.2.2)\n",
      "  Downloading threadpoolctl-3.5.0-py3-none-any.whl.metadata (13 kB)\n",
      "Requirement already satisfied: cffi>=1.12 in c:\\users\\l03564299\\appdata\\local\\miniconda3\\lib\\site-packages (from cryptography>=36.0.0->pdfminer.six==20231228->pdfplumber) (1.17.1)\n",
      "Requirement already satisfied: httpcore==1.* in c:\\users\\l03564299\\appdata\\local\\miniconda3\\lib\\site-packages (from httpx<1,>=0.23.0->langsmith<0.2.0,>=0.1.17->langchain==0.3.9) (1.0.7)\n",
      "Requirement already satisfied: h11<0.15,>=0.13 in c:\\users\\l03564299\\appdata\\local\\miniconda3\\lib\\site-packages (from httpcore==1.*->httpx<1,>=0.23.0->langsmith<0.2.0,>=0.1.17->langchain==0.3.9) (0.14.0)\n",
      "Collecting mdurl~=0.1 (from markdown-it-py>=2.2.0->rich<14.0.0,>=13.7.0->instructor==1.7.0)\n",
      "  Downloading mdurl-0.1.2-py3-none-any.whl.metadata (1.6 kB)\n",
      "Collecting mypy-extensions>=0.3.0 (from typing-inspect<1,>=0.4.0->dataclasses-json<0.7,>=0.5.7->langchain-community==0.3.9)\n",
      "  Downloading mypy_extensions-1.0.0-py3-none-any.whl.metadata (1.1 kB)\n",
      "Requirement already satisfied: pycparser in c:\\users\\l03564299\\appdata\\local\\miniconda3\\lib\\site-packages (from cffi>=1.12->cryptography>=36.0.0->pdfminer.six==20231228->pdfplumber) (2.21)\n",
      "Downloading langchain_community-0.3.9-py3-none-any.whl (2.4 MB)\n",
      "   ---------------------------------------- 0.0/2.4 MB ? eta -:--:--\n",
      "   ----------------- ---------------------- 1.0/2.4 MB 7.1 MB/s eta 0:00:01\n",
      "   ---------------------------------------- 2.4/2.4 MB 7.0 MB/s eta 0:00:00\n",
      "Downloading langchain_experimental-0.3.3-py3-none-any.whl (208 kB)\n",
      "Downloading huggingface_hub-0.23.2-py3-none-any.whl (401 kB)\n",
      "Downloading instructor-1.7.0-py3-none-any.whl (70 kB)\n",
      "Downloading InstructorEmbedding-1.0.1-py2.py3-none-any.whl (19 kB)\n",
      "Downloading pypdf2-3.0.1-py3-none-any.whl (232 kB)\n",
      "Downloading torch-2.5.1-cp312-cp312-win_amd64.whl (203.0 MB)\n",
      "   ---------------------------------------- 0.0/203.0 MB ? eta -:--:--\n",
      "   ---------------------------------------- 2.1/203.0 MB 9.8 MB/s eta 0:00:21\n",
      "    --------------------------------------- 3.9/203.0 MB 9.0 MB/s eta 0:00:23\n",
      "   - -------------------------------------- 6.3/203.0 MB 9.9 MB/s eta 0:00:20\n",
      "   - -------------------------------------- 8.4/203.0 MB 9.8 MB/s eta 0:00:20\n",
      "   -- ------------------------------------- 10.7/203.0 MB 10.0 MB/s eta 0:00:20\n",
      "   -- ------------------------------------- 13.4/203.0 MB 10.4 MB/s eta 0:00:19\n",
      "   --- ------------------------------------ 16.3/203.0 MB 10.8 MB/s eta 0:00:18\n",
      "   --- ------------------------------------ 19.1/203.0 MB 11.1 MB/s eta 0:00:17\n",
      "   ---- ----------------------------------- 21.8/203.0 MB 11.3 MB/s eta 0:00:17\n",
      "   ---- ----------------------------------- 24.6/203.0 MB 11.5 MB/s eta 0:00:16\n",
      "   ----- ---------------------------------- 27.0/203.0 MB 11.4 MB/s eta 0:00:16\n",
      "   ----- ---------------------------------- 29.9/203.0 MB 11.6 MB/s eta 0:00:15\n",
      "   ------ --------------------------------- 32.5/203.0 MB 11.5 MB/s eta 0:00:15\n",
      "   ------ --------------------------------- 35.1/203.0 MB 11.6 MB/s eta 0:00:15\n",
      "   ------- -------------------------------- 37.5/203.0 MB 11.6 MB/s eta 0:00:15\n",
      "   ------- -------------------------------- 40.1/203.0 MB 11.6 MB/s eta 0:00:14\n",
      "   -------- ------------------------------- 42.5/203.0 MB 11.6 MB/s eta 0:00:14\n",
      "   -------- ------------------------------- 44.3/203.0 MB 11.4 MB/s eta 0:00:14\n",
      "   --------- ------------------------------ 46.7/203.0 MB 11.3 MB/s eta 0:00:14\n",
      "   --------- ------------------------------ 49.3/203.0 MB 11.5 MB/s eta 0:00:14\n",
      "   ---------- ----------------------------- 51.9/203.0 MB 11.4 MB/s eta 0:00:14\n",
      "   ---------- ----------------------------- 55.8/203.0 MB 11.7 MB/s eta 0:00:13\n",
      "   ----------- ---------------------------- 60.0/203.0 MB 12.1 MB/s eta 0:00:12\n",
      "   ------------ --------------------------- 64.2/203.0 MB 12.4 MB/s eta 0:00:12\n",
      "   ------------- -------------------------- 68.4/203.0 MB 12.7 MB/s eta 0:00:11\n",
      "   -------------- ------------------------- 72.6/203.0 MB 12.9 MB/s eta 0:00:11\n",
      "   -------------- ------------------------- 75.5/203.0 MB 13.0 MB/s eta 0:00:10\n",
      "   --------------- ------------------------ 79.4/203.0 MB 13.2 MB/s eta 0:00:10\n",
      "   ---------------- ----------------------- 84.4/203.0 MB 13.5 MB/s eta 0:00:09\n",
      "   ----------------- ---------------------- 89.1/203.0 MB 13.8 MB/s eta 0:00:09\n",
      "   ------------------ --------------------- 93.1/203.0 MB 13.9 MB/s eta 0:00:08\n",
      "   ------------------ --------------------- 94.1/203.0 MB 13.9 MB/s eta 0:00:08\n",
      "   ------------------- -------------------- 97.0/203.0 MB 13.6 MB/s eta 0:00:08\n",
      "   ------------------- -------------------- 99.1/203.0 MB 13.5 MB/s eta 0:00:08\n",
      "   ------------------- ------------------- 100.9/203.0 MB 13.4 MB/s eta 0:00:08\n",
      "   ------------------- ------------------- 103.0/203.0 MB 13.3 MB/s eta 0:00:08\n",
      "   -------------------- ------------------ 105.9/203.0 MB 13.3 MB/s eta 0:00:08\n",
      "   -------------------- ------------------ 107.7/203.0 MB 13.2 MB/s eta 0:00:08\n",
      "   -------------------- ------------------ 109.3/203.0 MB 13.0 MB/s eta 0:00:08\n",
      "   --------------------- ----------------- 111.9/203.0 MB 13.0 MB/s eta 0:00:08\n",
      "   ---------------------- ---------------- 114.6/203.0 MB 12.9 MB/s eta 0:00:07\n",
      "   ---------------------- ---------------- 116.9/203.0 MB 12.9 MB/s eta 0:00:07\n",
      "   ---------------------- ---------------- 119.3/203.0 MB 12.8 MB/s eta 0:00:07\n",
      "   ----------------------- --------------- 121.6/203.0 MB 12.8 MB/s eta 0:00:07\n",
      "   ----------------------- --------------- 123.7/203.0 MB 12.7 MB/s eta 0:00:07\n",
      "   ------------------------ -------------- 126.4/203.0 MB 12.7 MB/s eta 0:00:07\n",
      "   ------------------------ -------------- 128.2/203.0 MB 12.7 MB/s eta 0:00:06\n",
      "   ------------------------- ------------- 130.3/203.0 MB 12.6 MB/s eta 0:00:06\n",
      "   ------------------------- ------------- 132.9/203.0 MB 12.6 MB/s eta 0:00:06\n",
      "   ------------------------- ------------- 134.5/203.0 MB 12.4 MB/s eta 0:00:06\n",
      "   -------------------------- ------------ 136.8/203.0 MB 12.4 MB/s eta 0:00:06\n",
      "   -------------------------- ------------ 139.5/203.0 MB 12.4 MB/s eta 0:00:06\n",
      "   --------------------------- ----------- 141.6/203.0 MB 12.4 MB/s eta 0:00:05\n",
      "   --------------------------- ----------- 144.2/203.0 MB 12.3 MB/s eta 0:00:05\n",
      "   ---------------------------- ---------- 146.8/203.0 MB 12.3 MB/s eta 0:00:05\n",
      "   ---------------------------- ---------- 148.9/203.0 MB 12.4 MB/s eta 0:00:05\n",
      "   ----------------------------- --------- 153.1/203.0 MB 12.4 MB/s eta 0:00:05\n",
      "   ------------------------------ -------- 157.0/203.0 MB 12.5 MB/s eta 0:00:04\n",
      "   ------------------------------ -------- 160.7/203.0 MB 12.6 MB/s eta 0:00:04\n",
      "   ------------------------------- ------- 164.6/203.0 MB 12.7 MB/s eta 0:00:04\n",
      "   -------------------------------- ------ 167.8/203.0 MB 12.7 MB/s eta 0:00:03\n",
      "   -------------------------------- ------ 171.7/203.0 MB 12.8 MB/s eta 0:00:03\n",
      "   --------------------------------- ----- 175.9/203.0 MB 12.9 MB/s eta 0:00:03\n",
      "   ---------------------------------- ---- 179.0/203.0 MB 12.9 MB/s eta 0:00:02\n",
      "   ----------------------------------- --- 183.5/203.0 MB 13.1 MB/s eta 0:00:02\n",
      "   ------------------------------------ -- 187.7/203.0 MB 13.2 MB/s eta 0:00:02\n",
      "   ------------------------------------ -- 191.1/203.0 MB 13.2 MB/s eta 0:00:01\n",
      "   ------------------------------------- - 194.5/203.0 MB 13.2 MB/s eta 0:00:01\n",
      "   --------------------------------------  198.7/203.0 MB 13.3 MB/s eta 0:00:01\n",
      "   --------------------------------------  201.9/203.0 MB 13.4 MB/s eta 0:00:01\n",
      "   --------------------------------------  202.9/203.0 MB 13.4 MB/s eta 0:00:01\n",
      "   --------------------------------------  202.9/203.0 MB 13.4 MB/s eta 0:00:01\n",
      "   --------------------------------------  202.9/203.0 MB 13.4 MB/s eta 0:00:01\n",
      "   --------------------------------------- 203.0/203.0 MB 12.8 MB/s eta 0:00:00\n",
      "Downloading sympy-1.13.1-py3-none-any.whl (6.2 MB)\n",
      "   ---------------------------------------- 0.0/6.2 MB ? eta -:--:--\n",
      "   ----------------------- ---------------- 3.7/6.2 MB 19.8 MB/s eta 0:00:01\n",
      "   -------------------------------------- - 6.0/6.2 MB 14.7 MB/s eta 0:00:01\n",
      "   ---------------------------------------- 6.2/6.2 MB 12.6 MB/s eta 0:00:00\n",
      "Downloading pdfplumber-0.11.5-py3-none-any.whl (59 kB)\n",
      "Downloading pdfminer.six-20231228-py3-none-any.whl (5.6 MB)\n",
      "   ---------------------------------------- 0.0/5.6 MB ? eta -:--:--\n",
      "   -------------------------- ------------- 3.7/5.6 MB 19.9 MB/s eta 0:00:01\n",
      "   ---------------------------------------  5.5/5.6 MB 14.6 MB/s eta 0:00:01\n",
      "   ---------------------------------------- 5.6/5.6 MB 12.2 MB/s eta 0:00:00\n",
      "Downloading faiss_cpu-1.9.0.post1-cp312-cp312-win_amd64.whl (13.8 MB)\n",
      "   ---------------------------------------- 0.0/13.8 MB ? eta -:--:--\n",
      "   ---------- ----------------------------- 3.7/13.8 MB 16.8 MB/s eta 0:00:01\n",
      "   --------------------- ------------------ 7.3/13.8 MB 16.8 MB/s eta 0:00:01\n",
      "   --------------------------------- ------ 11.5/13.8 MB 18.0 MB/s eta 0:00:01\n",
      "   ---------------------------------------- 13.8/13.8 MB 16.1 MB/s eta 0:00:00\n",
      "Downloading dataclasses_json-0.6.7-py3-none-any.whl (28 kB)\n",
      "Downloading docstring_parser-0.16-py3-none-any.whl (36 kB)\n",
      "Downloading fsspec-2024.12.0-py3-none-any.whl (183 kB)\n",
      "Downloading httpx_sse-0.4.0-py3-none-any.whl (7.8 kB)\n",
      "Downloading jinja2-3.1.5-py3-none-any.whl (134 kB)\n",
      "Downloading jiter-0.6.1-cp312-none-win_amd64.whl (198 kB)\n",
      "Downloading openai-1.59.7-py3-none-any.whl (454 kB)\n",
      "Downloading pillow-11.1.0-cp312-cp312-win_amd64.whl (2.6 MB)\n",
      "   ---------------------------------------- 0.0/2.6 MB ? eta -:--:--\n",
      "   ---------------------------------------- 2.6/2.6 MB 16.8 MB/s eta 0:00:00\n",
      "Downloading pydantic_settings-2.7.1-py3-none-any.whl (29 kB)\n",
      "Downloading pypdfium2-4.30.1-py3-none-win_amd64.whl (3.0 MB)\n",
      "   ---------------------------------------- 0.0/3.0 MB ? eta -:--:--\n",
      "   ---------------------------------------- 3.0/3.0 MB 14.4 MB/s eta 0:00:00\n",
      "Downloading rich-13.9.4-py3-none-any.whl (242 kB)\n",
      "Downloading transformers-4.46.3-py3-none-any.whl (10.0 MB)\n",
      "   ---------------------------------------- 0.0/10.0 MB ? eta -:--:--\n",
      "   ---------------- ----------------------- 4.2/10.0 MB 19.4 MB/s eta 0:00:01\n",
      "   --------------------------- ------------ 6.8/10.0 MB 16.1 MB/s eta 0:00:01\n",
      "   -------------------------------------- - 9.7/10.0 MB 15.1 MB/s eta 0:00:01\n",
      "   ---------------------------------------- 10.0/10.0 MB 13.9 MB/s eta 0:00:00\n",
      "Downloading typer-0.15.1-py3-none-any.whl (44 kB)\n",
      "Downloading filelock-3.16.1-py3-none-any.whl (16 kB)\n",
      "Downloading networkx-3.4.2-py3-none-any.whl (1.7 MB)\n",
      "   ---------------------------------------- 0.0/1.7 MB ? eta -:--:--\n",
      "   ---------------------------------------- 1.7/1.7 MB 11.7 MB/s eta 0:00:00\n",
      "Downloading nltk-3.9.1-py3-none-any.whl (1.5 MB)\n",
      "   ---------------------------------------- 0.0/1.5 MB ? eta -:--:--\n",
      "   ---------------------------------------- 1.5/1.5 MB 20.1 MB/s eta 0:00:00\n",
      "Downloading scikit_learn-1.6.1-cp312-cp312-win_amd64.whl (11.1 MB)\n",
      "   ---------------------------------------- 0.0/11.1 MB ? eta -:--:--\n",
      "   ---------------- ----------------------- 4.5/11.1 MB 20.7 MB/s eta 0:00:01\n",
      "   ----------------------------- ---------- 8.1/11.1 MB 18.6 MB/s eta 0:00:01\n",
      "   ---------------------------------------- 11.1/11.1 MB 16.9 MB/s eta 0:00:00\n",
      "Downloading scipy-1.15.1-cp312-cp312-win_amd64.whl (43.6 MB)\n",
      "   ---------------------------------------- 0.0/43.6 MB ? eta -:--:--\n",
      "   --- ------------------------------------ 4.2/43.6 MB 20.9 MB/s eta 0:00:02\n",
      "   ------- -------------------------------- 8.4/43.6 MB 19.3 MB/s eta 0:00:02\n",
      "   ----------- ---------------------------- 12.3/43.6 MB 18.8 MB/s eta 0:00:02\n",
      "   --------------- ------------------------ 16.8/43.6 MB 19.2 MB/s eta 0:00:02\n",
      "   ------------------ --------------------- 20.4/43.6 MB 18.7 MB/s eta 0:00:02\n",
      "   ---------------------- ----------------- 24.6/43.6 MB 19.0 MB/s eta 0:00:01\n",
      "   -------------------------- ------------- 28.8/43.6 MB 18.8 MB/s eta 0:00:01\n",
      "   ----------------------------- ---------- 32.2/43.6 MB 18.9 MB/s eta 0:00:01\n",
      "   --------------------------------- ------ 36.4/43.6 MB 18.7 MB/s eta 0:00:01\n",
      "   ------------------------------------- -- 40.4/43.6 MB 18.7 MB/s eta 0:00:01\n",
      "   ---------------------------------------  43.5/43.6 MB 18.3 MB/s eta 0:00:01\n",
      "   ---------------------------------------- 43.6/43.6 MB 17.0 MB/s eta 0:00:00\n",
      "Downloading sentencepiece-0.2.0-cp312-cp312-win_amd64.whl (991 kB)\n",
      "   ---------------------------------------- 0.0/992.0 kB ? eta -:--:--\n",
      "   --------------------------------------- 992.0/992.0 kB 11.6 MB/s eta 0:00:00\n",
      "Downloading torchvision-0.20.1-cp312-cp312-win_amd64.whl (1.6 MB)\n",
      "   ---------------------------------------- 0.0/1.6 MB ? eta -:--:--\n",
      "   ---------------------------------------- 1.6/1.6 MB 11.8 MB/s eta 0:00:00\n",
      "Downloading click-8.1.8-py3-none-any.whl (98 kB)\n",
      "Downloading joblib-1.4.2-py3-none-any.whl (301 kB)\n",
      "Downloading markdown_it_py-3.0.0-py3-none-any.whl (87 kB)\n",
      "Downloading MarkupSafe-3.0.2-cp312-cp312-win_amd64.whl (15 kB)\n",
      "Downloading marshmallow-3.25.1-py3-none-any.whl (49 kB)\n",
      "Downloading mpmath-1.3.0-py3-none-any.whl (536 kB)\n",
      "   ---------------------------------------- 0.0/536.2 kB ? eta -:--:--\n",
      "   ---------------------------------------- 536.2/536.2 kB 5.8 MB/s eta 0:00:00\n",
      "Downloading regex-2024.11.6-cp312-cp312-win_amd64.whl (273 kB)\n",
      "Downloading safetensors-0.5.2-cp38-abi3-win_amd64.whl (303 kB)\n",
      "Downloading shellingham-1.5.4-py2.py3-none-any.whl (9.8 kB)\n",
      "Downloading threadpoolctl-3.5.0-py3-none-any.whl (18 kB)\n",
      "Downloading tokenizers-0.20.3-cp312-none-win_amd64.whl (2.4 MB)\n",
      "   ---------------------------------------- 0.0/2.4 MB ? eta -:--:--\n",
      "   ---------------------------------------- 2.4/2.4 MB 15.0 MB/s eta 0:00:00\n",
      "Downloading typing_inspect-0.9.0-py3-none-any.whl (8.8 kB)\n",
      "Downloading mdurl-0.1.2-py3-none-any.whl (10.0 kB)\n",
      "Downloading mypy_extensions-1.0.0-py3-none-any.whl (4.7 kB)\n",
      "Building wheels for collected packages: sentence-transformers\n",
      "  Building wheel for sentence-transformers (setup.py): started\n",
      "  Building wheel for sentence-transformers (setup.py): finished with status 'done'\n",
      "  Created wheel for sentence-transformers: filename=sentence_transformers-2.2.2-py3-none-any.whl size=125957 sha256=a6058b43e256e1684212c8fccb554a44cc89d078a3955238d908ac8f8be3ef2f\n",
      "  Stored in directory: c:\\users\\l03564299\\appdata\\local\\pip\\cache\\wheels\\d9\\3b\\21\\aa025e9c81a6cda4b8358756a756677b0969b4bc69be6dd5da\n",
      "Successfully built sentence-transformers\n",
      "Installing collected packages: sentencepiece, mpmath, InstructorEmbedding, threadpoolctl, sympy, shellingham, scipy, safetensors, regex, pypdfium2, PyPDF2, Pillow, networkx, mypy-extensions, mdurl, marshmallow, MarkupSafe, joblib, jiter, httpx-sse, fsspec, filelock, faiss-cpu, docstring-parser, click, typing-inspect, scikit-learn, nltk, markdown-it-py, jinja2, huggingface-hub, torch, tokenizers, rich, pydantic-settings, pdfminer.six, openai, dataclasses-json, typer, transformers, torchvision, pdfplumber, sentence-transformers, instructor, langchain-community, langchain-experimental\n",
      "Successfully installed InstructorEmbedding-1.0.1 MarkupSafe-3.0.2 Pillow-11.1.0 PyPDF2-3.0.1 click-8.1.8 dataclasses-json-0.6.7 docstring-parser-0.16 faiss-cpu-1.9.0.post1 filelock-3.16.1 fsspec-2024.12.0 httpx-sse-0.4.0 huggingface-hub-0.23.2 instructor-1.7.0 jinja2-3.1.5 jiter-0.6.1 joblib-1.4.2 langchain-community-0.3.9 langchain-experimental-0.3.3 markdown-it-py-3.0.0 marshmallow-3.25.1 mdurl-0.1.2 mpmath-1.3.0 mypy-extensions-1.0.0 networkx-3.4.2 nltk-3.9.1 openai-1.59.7 pdfminer.six-20231228 pdfplumber-0.11.5 pydantic-settings-2.7.1 pypdfium2-4.30.1 regex-2024.11.6 rich-13.9.4 safetensors-0.5.2 scikit-learn-1.6.1 scipy-1.15.1 sentence-transformers-2.2.2 sentencepiece-0.2.0 shellingham-1.5.4 sympy-1.13.1 threadpoolctl-3.5.0 tokenizers-0.20.3 torch-2.5.1 torchvision-0.20.1 transformers-4.46.3 typer-0.15.1 typing-inspect-0.9.0\n"
     ]
    }
   ],
   "source": [
    "!pip3 install PyPDF2 langchain==0.3.9 langchain-community==0.3.9 langchain-core==0.3.21 langchain-experimental==0.3.3 huggingface-hub==0.23.2 instructor==1.7.0 InstructorEmbedding==1.0.1 sentence-transformers==2.2.2 torch pdfplumber faiss-cpu\n"
   ]
  },
  {
   "cell_type": "code",
   "execution_count": 2,
   "id": "initial_id",
   "metadata": {
    "ExecuteTime": {
     "end_time": "2024-12-04T14:31:42.439865Z",
     "start_time": "2024-12-04T14:31:39.886605Z"
    },
    "collapsed": true
   },
   "outputs": [
    {
     "name": "stderr",
     "output_type": "stream",
     "text": [
      "c:\\Users\\L03564299\\AppData\\Local\\miniconda3\\Lib\\site-packages\\InstructorEmbedding\\instructor.py:7: TqdmWarning: IProgress not found. Please update jupyter and ipywidgets. See https://ipywidgets.readthedocs.io/en/stable/user_install.html\n",
      "  from tqdm.autonotebook import trange\n"
     ]
    }
   ],
   "source": [
    "from PyPDF2 import PdfReader\n",
    "from langchain.text_splitter import CharacterTextSplitter, RecursiveCharacterTextSplitter\n",
    "from langchain.vectorstores import DocArrayInMemorySearch\n",
    "from langchain.document_loaders import TextLoader, PyPDFLoader\n",
    "from langchain_community.vectorstores import FAISS\n",
    "#from dotenv import load_dotenv\n",
    "from langchain_experimental.text_splitter import SemanticChunker\n",
    "import os\n",
    "from langchain.embeddings import OllamaEmbeddings\n",
    "import pdfplumber\n",
    "from langchain_community.embeddings import HuggingFaceInstructEmbeddings\n",
    "from langchain_community.embeddings import HuggingFaceEmbeddings\n",
    "from langchain_community.embeddings import SentenceTransformerEmbeddings\n",
    "from InstructorEmbedding import INSTRUCTOR\n"
   ]
  },
  {
   "cell_type": "markdown",
   "id": "68f34c170b8d61dd",
   "metadata": {},
   "source": [
    "### Text embeddings \n",
    "\n"
   ]
  },
  {
   "cell_type": "code",
   "execution_count": 6,
   "id": "de811181f589a1c7",
   "metadata": {
    "ExecuteTime": {
     "end_time": "2024-12-04T14:31:51.015235Z",
     "start_time": "2024-12-04T14:31:47.626375Z"
    }
   },
   "outputs": [],
   "source": [
    "#embeddings = HuggingFaceInstructEmbeddings(model_name='hkunlp/instructor-xl')  #Problem with Python 12\n",
    "#embeddings = SentenceTransformerEmbeddings(model_name=\"all-MiniLM-L6-v2\")\n",
    "embeddings = OllamaEmbeddings(\n",
    "    model=\"llama3.2\",\n",
    ")"
   ]
  },
  {
   "cell_type": "code",
   "execution_count": 7,
   "id": "6075e3c2",
   "metadata": {},
   "outputs": [
    {
     "name": "stdout",
     "output_type": "stream",
     "text": [
      "[-0.7404394149780273, -1.803025245666504, 4.060121059417725, -0.8889495730400085, 0.2498321235179901, 0.962736964225769, 1.561875581741333, -0.7627670764923096, -0.6247386932373047, -1.2378244400024414, 0.04657385125756264, 0.5642500519752502, 3.319350242614746, 1.2903879880905151, -1.0973732471466064, -1.1954660415649414, 1.4598197937011719, -0.05195207893848419, 0.6194881796836853, 1.0011619329452515, -1.7244963645935059, -1.2395309209823608, 1.5592174530029297, 0.01529963780194521, 1.4213370084762573, 0.41600483655929565, 0.8442690968513489, -2.175764322280884, 0.7842884063720703, 0.54567950963974, 1.3880348205566406, 0.2598465383052826, -0.9658294320106506, 2.203990936279297, 0.4654935598373413, -0.36726143956184387, 0.1535971462726593, 0.855857253074646, -0.6525095105171204, 0.36654409766197205, 1.054890513420105, -1.6926548480987549, 3.3145482540130615, -0.6008889675140381, -0.9950042963027954, 0.9266526103019714, -0.7899807095527649, 0.26270362734794617, 0.89438796043396, -1.9839019775390625, -0.5755879878997803, -0.8582755923271179, -0.2810894548892975, 1.6045887470245361, -0.35242384672164917, -1.8332815170288086, 0.8933271765708923, -1.0671989917755127, -1.29869544506073, -2.942673921585083, 0.36350947618484497, 0.5235043168067932, -1.6406044960021973, 1.1765624284744263, 9.648752212524414, -4.801931381225586, -0.9530907273292542, 0.0975094884634018, 0.724449634552002, -1.1977134943008423, 1.9085792303085327, 2.2707552909851074, 1.293609857559204, -0.1482977569103241, 0.5029915571212769, -1.7023152112960815, 0.5656381845474243, 1.7783747911453247, -2.6329870223999023, 0.6609205007553101, 2.553508758544922, -0.4384327232837677, 2.664321184158325, 0.5758947730064392, -1.582280158996582, -0.3559548854827881, 1.4364432096481323, 0.23306316137313843, -0.4738456904888153, 0.46313101053237915, -2.707669973373413, 2.5620663166046143, -1.0039700269699097, 0.8483033776283264, -0.954054594039917, 1.696528434753418, -0.5280318856239319, -0.7558048963546753, 0.40177983045578003, 2.1442575454711914, -0.015450404025614262, 0.42449045181274414, 0.6992658376693726, 0.525482177734375, 0.2612238824367523, -1.3789805173873901, 1.2099140882492065, 0.254800945520401, 0.5936248302459717, -1.7315247058868408, 1.4885098934173584, 2.349220037460327, 1.1569981575012207, 1.370145320892334, -0.6613953709602356, 0.5166774392127991, 2.4579265117645264, -0.14228104054927826, 0.7300913333892822, 1.7859340906143188, 0.662837028503418, 1.7494992017745972, 0.6013419032096863, -1.2266733646392822, 0.6476044654846191, 1.2802702188491821, -0.27385690808296204, 0.4181026518344879, -0.1782446950674057, -0.883763313293457, -0.373848021030426, 1.0059784650802612, -0.40184643864631653, 1.317260980606079, 1.2662618160247803, 1.5744975805282593, -1.1813910007476807, 0.6344736218452454, -0.42673778533935547, -0.19904755055904388, -0.39512595534324646, -3.5361404418945312, -2.4214518070220947, -0.4172392189502716, -1.7995394468307495, 1.5637426376342773, 1.1230169534683228, 0.3067709505558014, -0.42462435364723206, -0.5990932583808899, 2.5968055725097656, -2.4973349571228027, 0.6448343396186829, -0.8033450841903687, 0.4033967852592468, -0.20445387065410614, -1.3092697858810425, -0.3642454743385315, -0.8821385502815247, -1.6495623588562012, -1.6346430778503418, 0.5808601379394531, 0.7060692310333252, -1.4808738231658936, -0.42584505677223206, -0.10303789377212524, 0.8443494439125061, -1.608603596687317, -0.7332817912101746, 1.2699673175811768, 0.41761112213134766, 1.7180861234664917, 0.7845694422721863, 0.2094598412513733, 1.4704164266586304, 0.6927936673164368, -1.379926085472107, 0.4926600456237793, 0.8756346702575684, -1.1916924715042114, -0.12477056682109833, -0.8657194972038269, 2.65761399269104, 0.2679128050804138, 0.5384079813957214, 1.2443325519561768, -0.08166144788265228, 2.4862072467803955, 1.299923300743103, 0.5260137915611267, -0.7361478209495544, -1.3516088724136353, -0.8109185099601746, 0.5842201709747314, 1.3095879554748535, -0.1302180290222168, 0.09564138203859329, -4.245722770690918, 0.9312299489974976, -0.14420244097709656, -1.1640149354934692, -1.4444910287857056, -0.12448137253522873, -0.8150779604911804, 0.6884171366691589, -2.639582872390747, 0.5980876684188843, 0.7858875393867493, -0.9703946709632874, 0.3460279703140259, 1.206277847290039, 0.35098227858543396, -1.1509817838668823, 0.1749158501625061, 0.16852271556854248, -3.627645492553711, 0.42898979783058167, 2.094001531600952, 3.098479986190796, 1.9289069175720215, 0.4681485593318939, 1.1942226886749268, 0.7744803428649902, -0.48721376061439514, 1.0125776529312134, -1.001181721687317, 2.6074488162994385, 0.2801998257637024, 0.6862137317657471, 0.921271026134491, -0.20840603113174438, -1.2211412191390991, -0.24496926367282867, -0.10521997511386871, 0.42384541034698486, -0.7178950905799866, 2.053972005844116, 0.5364498496055603, -1.591243863105774, -0.48791104555130005, -1.9841002225875854, 0.14880822598934174, 0.47684788703918457, -0.23763272166252136, -0.47724485397338867, 1.9446104764938354, 2.678879976272583, -1.3507615327835083, 1.5291599035263062, -0.921722948551178, -1.197005033493042, -0.2715432643890381, 0.11456885933876038, 0.2615099251270294, 0.012323269620537758, -0.40912848711013794, 1.1934027671813965, 0.8772321343421936, -0.8399590849876404, 1.7241034507751465, -1.2381600141525269, 0.6398237347602844, -0.42209941148757935, -1.7283297777175903, 0.5271064639091492, -2.058043956756592, 0.8146747946739197, 0.02867540344595909, 1.636282205581665, -0.4706934988498688, -1.3355835676193237, 1.1089794635772705, -0.6744970083236694, 0.3309887647628784, -0.8954488039016724, 0.9661620855331421, 0.4852389991283417, 1.1027522087097168, -1.6373684406280518, -0.6553013324737549, 1.4397704601287842, -1.3322478532791138, -0.06962048262357712, -0.2360978126525879, -0.40789490938186646, -0.38284868001937866, 1.3587905168533325, -1.0816458463668823, -0.1324661374092102, 1.0154895782470703, 1.8035473823547363, -0.47808322310447693, -0.7599121332168579, -0.16115885972976685, 0.3049677908420563, -0.755970299243927, -2.559678316116333, -0.5173702836036682, -0.9613766074180603, 1.5837234258651733, -0.2347150295972824, 0.14427189528942108, -0.3580021858215332, 1.5982096195220947, -0.09016667306423187, -1.4152408838272095, -1.063471794128418, 0.10211945325136185, 0.9142959117889404, -0.8720335364341736, -1.3167847394943237, -1.675370216369629, -1.0264272689819336, 0.35313865542411804, -0.4878588318824768, 1.387161374092102, 2.036097526550293, -0.5219829082489014, 0.5164605975151062, -0.7842115759849548, 1.3771252632141113, 0.8430453538894653, -0.6273960471153259, 0.5431663990020752, 0.06418006122112274, -0.6643856763839722, -1.383957862854004, -1.5918258428573608, 1.6400269269943237, 0.7307101488113403, -0.7672590613365173, -0.8059884905815125, 2.391541004180908, 1.5013847351074219, -0.28785544633865356, 0.30472519993782043, -0.343668669462204, 2.1454594135284424, 0.9279505610466003, -1.3551714420318604, -1.2476896047592163, 2.295958995819092, 2.043306350708008, 0.6102412939071655, -0.8224135041236877, -2.830573797225952, -1.1383347511291504, 1.8344205617904663, 1.511324405670166, -1.6305749416351318, 1.33942711353302, 2.567124605178833, -0.5776580572128296, 0.27273592352867126, -2.4054205417633057, -1.1721521615982056, 1.1485717296600342, 0.3563929498195648, 2.1581406593322754, 0.7200875282287598, 0.6655588746070862, -0.4979800581932068, 0.060661640018224716, -0.5552246570587158, -1.892950415611267, -0.28722989559173584, 0.36606496572494507, 1.261095404624939, 2.7789692878723145, 1.1965025663375854, 2.7657034397125244, -0.9998607039451599, 2.293985605239868, 0.44859862327575684, -0.7589731812477112, -1.323002815246582, 1.7712600231170654, 1.3013532161712646, 2.109884738922119, -0.10069328546524048, -0.3102740943431854, -1.0608644485473633, 0.7719055414199829, -1.6636178493499756, -1.7335140705108643, 1.5201094150543213, 1.5199633836746216, 1.0388685464859009, -0.7922347784042358, 1.9186633825302124, 1.9089555740356445, 0.5656511187553406, -2.17822527885437, 1.2411046028137207, 1.9801771640777588, 0.10762136429548264, 2.1732823848724365, -2.7597012519836426, -0.07199982553720474, 2.690563678741455, -0.29432764649391174, -0.05737249553203583, -0.11152185499668121, 1.3595685958862305, 0.27426642179489136, 1.4997389316558838, -1.9505212306976318, 2.198626756668091, -1.3817776441574097, 2.8037445545196533, 0.24654893577098846, -0.1906600296497345, 0.31171342730522156, -1.5257436037063599, 1.9572958946228027, 1.1123826503753662, 0.3590218126773834, 0.9908727407455444, 1.3500263690948486, 1.6293089389801025, 1.9163113832473755, -2.342203140258789, -2.0467662811279297, -0.6114206910133362, -1.1978524923324585, 0.6427098512649536, 0.2708977162837982, 5.0934600830078125, 0.7098592519760132, -0.32722190022468567, 2.6993110179901123, -2.4100141525268555, 0.7695963978767395, 0.44171860814094543, -1.5245791673660278, 1.7767422199249268, 0.47305890917778015, -0.6138375997543335, 1.876145601272583, 0.31971481442451477, 1.8057706356048584, 2.9299068450927734, 0.42729082703590393, 3.630188465118408, 0.6074455976486206, 0.7111486792564392, -1.4519171714782715, 1.236802577972412, 1.553554892539978, 1.6422531604766846, 0.0448484905064106, 0.05130967125296593, 1.1404714584350586, 0.3757174611091614, 0.7457744479179382, 0.6027241349220276, 0.9398517608642578, 1.0404411554336548, 2.1632635593414307, 1.1670836210250854, -1.795621395111084, -1.6453572511672974, 2.574881076812744, -0.8890575170516968, -1.0184301137924194, -0.5734167695045471, 0.9356529116630554, -1.789739966392517, -0.3590480089187622, -0.17677466571331024, -1.7445067167282104, -0.6878319382667542, -0.042160190641880035, 1.3660961389541626, -2.1804745197296143, -0.8681691884994507, -0.4632824957370758, 0.03329206258058548, -0.2721373736858368, 0.06789319217205048, 1.6821080446243286, 1.4807416200637817, 0.38094374537467957, 0.4370734691619873, 0.9287471175193787, 1.5185213088989258, 1.4574395418167114, 1.5229562520980835, -0.8230562806129456, -2.27060604095459, -1.1074414253234863, -0.5950299501419067, -0.2764335870742798, 2.314640998840332, 2.183980941772461, 3.201956033706665, 0.433678537607193, -1.0087451934814453, -0.6513466238975525, -1.6141835451126099, -1.654575228691101, -1.9245967864990234, 2.1420507431030273, 0.8438903093338013, -0.10104221105575562, 0.4211694300174713, 0.8970030546188354, 1.1734580993652344, -0.6731000542640686, 3.133164167404175, 0.1546378880739212, 0.5611850619316101, -1.3263630867004395, -2.701167583465576, 0.8023033142089844, -0.14544449746608734, 1.1869025230407715, 0.33545738458633423, 0.11256837099790573, -2.778235912322998, 1.999968409538269, 0.04209703579545021, -2.4325318336486816, -0.3522902727127075, 1.5237253904342651, -2.5678391456604004, -3.0604851245880127, 0.05368179455399513, 1.3810570240020752, 1.066065788269043, 3.0289559364318848, -0.7872525453567505, 0.8253690600395203, -0.5710338950157166, 1.6065958738327026, 1.702957034111023, 0.23129314184188843, -1.7823220491409302, 0.14876215159893036, 2.313683032989502, -1.3566492795944214, -2.361924171447754, 0.8719942569732666, 0.2018284797668457, -1.6121028661727905, -1.3244805335998535, -0.2358590066432953, -0.603800892829895, 0.24024975299835205, 0.4867900311946869, -1.936705470085144, -0.8867737054824829, 0.6119557619094849, -0.016826137900352478, -0.9426892995834351, 1.1193888187408447, 1.1754390001296997, -1.8102632761001587, -0.7224276661872864, -0.10873749852180481, -0.9702162146568298, -0.9161259531974792, 1.6769527196884155, -0.24572505056858063, -1.9464643001556396, -0.04916374385356903, 0.8021482229232788, 1.202430248260498, 0.325440376996994, -0.48525068163871765, 1.1040300130844116, -0.4508291780948639, -0.5443233251571655, 1.8219518661499023, 1.140283226966858, -0.8135135173797607, 1.1489824056625366, -0.3562714159488678, -2.9143223762512207, -0.6357349157333374, -2.5473508834838867, -1.0890170335769653, 0.3713749349117279, -0.5112955570220947, 0.25349679589271545, -0.3397665321826935, -0.3241915702819824, 0.10751180350780487, 2.465000867843628, -1.914993405342102, -0.6228199005126953, -0.6076968908309937, 2.9642248153686523, -1.8319529294967651, -1.168678641319275, -0.6651678681373596, -0.5588839054107666, -1.90292489528656, -0.5426127910614014, -0.4022926390171051, -0.8253714442253113, 0.2212546169757843, -0.455647736787796, -1.701910376548767, -0.7465463280677795, -1.2093833684921265, -0.3443336486816406, -0.340063214302063, 1.5529637336730957, 1.1460978984832764, -0.20669443905353546, 0.05989405885338783, -0.6475651860237122, -0.857476532459259, 1.4986002445220947, 1.0957767963409424, 0.4034540355205536, -1.884114384651184, 1.0128306150436401, 1.7244930267333984, -1.6030751466751099, -0.07124388217926025, -1.582628846168518, 1.821244239807129, -1.556694746017456, -2.355677843093872, -2.3942830562591553, 1.2456779479980469, -0.7080468535423279, -1.0421384572982788, 0.5581663846969604, -0.8493856191635132, -0.6382258534431458, -2.248549222946167, -0.10023600608110428, 1.6615933179855347, -0.9820249676704407, -2.144824266433716, -0.01921531744301319, -0.26026198267936707, 0.023402709513902664, 2.8634040355682373, -1.7646591663360596, -2.482159376144409, 2.030252456665039, 2.3303487300872803, 0.6916146278381348, 1.8134510517120361, -0.5277773141860962, -1.0559476613998413, -0.3579120337963104, 1.1239124536514282, -1.439799189567566, -0.7834529280662537, -0.8342097401618958, 2.716498374938965, -1.111327886581421, 0.2613256573677063, -1.5297331809997559, -1.4491935968399048, 1.2147983312606812, 10.733428955078125, -0.47760725021362305, 0.6110065579414368, -0.5104436278343201, 0.40914246439933777, 0.24403426051139832, -0.695399820804596, 0.2167334258556366, 0.3985694944858551, 0.294457346200943, -0.6647268533706665, -0.0957108587026596, -0.03808891773223877, -0.6656904816627502, -2.0860965251922607, 8.571788787841797, 3.4026715755462646, -0.6570844650268555, 0.2048199474811554, 0.012654954567551613, 1.1055275201797485, 0.08705177158117294, 1.0442160367965698, -0.07935293018817902, -1.5052073001861572, 1.1198203563690186, 0.3766401410102844, -0.6832532286643982, -0.29430755972862244, 0.798378050327301, 1.5633524656295776, -1.4101439714431763, 1.4296599626541138, 0.4698611795902252, 2.373399019241333, 0.6821315288543701, 1.8787554502487183, 0.7113871574401855, -0.7733591198921204, 0.9135819673538208, -2.5764689445495605, 1.159373164176941, -2.4564833641052246, 0.7509027123451233, -2.0327649116516113, 1.0137519836425781, -1.0875601768493652, -0.3882482051849365, 0.4868173599243164, 2.0615367889404297, -0.060976676642894745, 0.8126863241195679, 0.6229051351547241, -0.21795229613780975, -0.09777990728616714, -0.5838363766670227, -1.6236222982406616, 1.3268049955368042, 0.6365631222724915, 1.1233171224594116, 1.2460315227508545, -1.1508675813674927, 1.2144994735717773, -1.4079533815383911, -0.052735693752765656, 0.033613648265600204, -0.26401248574256897, 2.4018282890319824, -1.2439758777618408, -1.2167861461639404, -1.3956080675125122, 0.1616588681936264, -2.1629490852355957, 0.3885602355003357, 1.2586835622787476, -1.3992446660995483, 0.5963935852050781, 0.019408950582146645, -0.4211544096469879, 0.5338951349258423, 1.6172538995742798, -1.5564448833465576, 0.11654184013605118, -0.2651643455028534, 0.7215944528579712, 0.858142077922821, 0.07404381036758423, -1.7038544416427612, -1.6534353494644165, -0.029291125014424324, 1.913054347038269, -0.2963674068450928, -0.08048327267169952, -1.2529969215393066, 2.560828924179077, -1.0204133987426758, -0.926377534866333, 2.497375726699829, -2.034862518310547, -0.1250847578048706, 0.7172026634216309, -0.480713814496994, 2.456744909286499, 2.5238258838653564, -1.4600114822387695, -0.2841252386569977, 2.092716693878174, 0.0028638734947890043, 0.38013479113578796, -1.665995717048645, 0.9264996647834778, 0.7703767418861389, 2.5040998458862305, 2.1822962760925293, 1.8357915878295898, -1.6985822916030884, -0.05175728723406792, 1.133684515953064, -1.147979736328125, 0.8446012735366821, 0.999491810798645, -0.5844497084617615, -0.02308015339076519, -1.742260217666626, -2.562903642654419, -0.6942967772483826, 0.34602442383766174, -1.2799235582351685, 1.3877240419387817, -0.4981483817100525, -2.0740933418273926, 0.17472507059574127, 1.2475403547286987, -0.682495653629303, -0.592612624168396, -2.1267411708831787, 1.8270912170410156, 2.7907705307006836, 0.015933383256196976, -0.0811009332537651, -2.1474862098693848, -0.9952737092971802, -0.8665310144424438, -1.0955326557159424, -1.3823033571243286, 0.5829444527626038, -1.3187854290008545, -1.5609031915664673, 2.1031947135925293, 0.009469163604080677, -1.4693833589553833, 0.9369396567344666, -2.2119059562683105, -0.24143384397029877, -0.46531376242637634, -0.2952335476875305, -3.063363790512085, 1.481856107711792, -0.20530545711517334, 2.2389469146728516, 1.1872327327728271, -2.08931827545166, -0.8652990460395813, -0.024649614468216896, 1.34163498878479, -0.08078896999359131, -0.5913402438163757, 0.681865930557251, 1.5138814449310303, -0.5786091089248657, -0.64443439245224, -0.4955856502056122, -0.036935459822416306, -2.2853517532348633, 0.7183571457862854, -1.0383232831954956, 1.2856032848358154, -0.8823089599609375, -2.5198400020599365, 0.2216748297214508, -2.0331289768218994, -1.5177427530288696, -0.828451931476593, 1.9890551567077637, 1.0530498027801514, 1.4588615894317627, -0.3690381646156311, -1.6684918403625488, 0.8106163740158081, 0.7173442244529724, -3.272604465484619, -1.3247427940368652, 0.7149320840835571, -0.9300475716590881, 3.019195318222046, -1.3098270893096924, 0.041925881057977676, 0.1070941761136055, 3.4607739448547363, -0.49706578254699707, -1.8757935762405396, 1.3629974126815796, -0.6573847532272339, -1.468491792678833, -0.27580177783966064, 0.8609662652015686, 1.4937471151351929, 0.17536890506744385, 0.8649792671203613, 0.7704889178276062, 2.432497501373291, 2.8189473152160645, -1.4503885507583618, -0.7452093958854675, -1.0209122896194458, -1.7107542753219604, 0.7254846692085266, 3.040701389312744, 2.6391472816467285, 0.5944054126739502, -4.2205915451049805, -0.23951949179172516, 2.990650177001953, -0.8281906247138977, 0.6657698154449463, 1.320420265197754, 2.5627472400665283, 0.446239173412323, -0.1148194819688797, -0.8319005370140076, 0.8655166029930115, 0.28831514716148376, -1.2134809494018555, 0.2538624107837677, 0.3971829414367676, 1.1505701541900635, -1.151182770729065, 3.7729480266571045, 0.37652724981307983, -1.2085721492767334, 2.6396238803863525, 3.12332820892334, -1.8973106145858765, -1.5874563455581665, 0.9099449515342712, -0.7988762855529785, 0.4385581612586975, 1.5583909749984741, 0.5921363830566406, 0.6517433524131775, 0.7408336400985718, 0.665895938873291, 0.1719028204679489, 0.4045569598674774, 0.0025170189328491688, 1.6964818239212036, -0.2742195725440979, 0.21626994013786316, -1.3434830904006958, -0.9096603989601135, -1.423999309539795, 2.2760674953460693, 1.3091850280761719, -1.271130084991455, -3.6433489322662354, -0.6161550879478455, -1.904809594154358, 1.8809081315994263, 1.0566391944885254, 0.028685690835118294, 0.018009640276432037, -0.4665713310241699, -1.6165955066680908, 0.34429800510406494, -0.18538449704647064, 0.05246302857995033, 1.9687329530715942, 2.248352289199829, 0.9012702703475952, 2.6629176139831543, -1.8907290697097778, -1.0386295318603516, 0.6103668212890625, -0.5459144115447998, 1.7679716348648071, 0.8528630137443542, -0.8639098405838013, 1.5336638689041138, 0.14175350964069366, 1.1053534746170044, -0.3591369688510895, 1.5644091367721558, -0.4297695457935333, 1.3711649179458618, -0.3955964148044586, 0.8771582841873169, 1.3931567668914795, 1.6324470043182373, -1.2405821084976196, -1.493542194366455, -1.4026185274124146, -1.1717349290847778, 1.9138609170913696, -1.6554651260375977, -0.9890555143356323, 1.4207673072814941, 1.1115731000900269, -1.0373237133026123, 0.1419905126094818, -0.4482150375843048, -0.3935288190841675, -1.231954574584961, -3.477381944656372, 0.42769426107406616, 3.4102487564086914, 0.6331300139427185, 0.8173640966415405, 0.8492183089256287, 0.6220999956130981, -0.7942524552345276, 2.192126750946045, -0.312304824590683, -0.09580878913402557, 2.098428964614868, 0.06424780935049057, -1.344581961631775, -2.174215316772461, -1.423749566078186, -0.728821873664856, 1.58388090133667, 1.0954993963241577, 0.9311103820800781, 1.667932152748108, 0.7280260324478149, -1.1823935508728027, 1.72316575050354, -0.8356327414512634, -0.11988677829504013, 0.26863208413124084, 0.9906771183013916, -0.7626258730888367, -0.8805059194564819, 3.6635539531707764, -0.7563948631286621, 0.006818261928856373, 1.0037600994110107, -0.23758724331855774, -0.6471071243286133, 1.5373945236206055, 0.8313984274864197, 1.5865306854248047, -1.340078592300415, -0.5315185785293579, -2.389190435409546, -0.38505443930625916, 1.150972843170166, -1.1494388580322266, -0.22839199006557465, 2.082590103149414, 1.8033100366592407, 0.25470051169395447, 0.543143093585968, 1.9161632061004639, 3.406525135040283, -1.2447004318237305, 3.5885672569274902, 2.0521888732910156, 0.7808582186698914, -0.8764985799789429, 0.5086214542388916, 1.8215546607971191, 0.959784984588623, -0.7344760298728943, 1.1580430269241333, -1.5149874687194824, -0.7696605324745178, 0.5922195911407471, 0.6063609719276428, 0.43074336647987366, -1.8921433687210083, -0.25450822710990906, 0.15412205457687378, 0.10111888498067856, -0.003777130041271448, -0.4652303159236908, -0.20472784340381622, -0.028174983337521553, 2.027662992477417, 1.8012864589691162, -0.08038588613271713, 0.4330867826938629, 0.18345996737480164, -1.1849281787872314, -1.1109230518341064, -0.18585260212421417, -1.5629032850265503, -0.2940254211425781, 0.7058165669441223, 1.5655373334884644, -0.30061089992523193, -0.24089398980140686, -0.36656078696250916, -0.5834256410598755, -0.161678284406662, -0.13457751274108887, -0.6104158759117126, 0.7296957969665527, -0.8521041870117188, 0.5753899216651917, -1.242355465888977, -2.754298686981201, 0.9611937403678894, -1.0589509010314941, -0.16339954733848572, 1.7379873991012573, -1.8619076013565063, -0.3551204204559326, -1.2473580837249756, 2.2938547134399414, -0.4305915832519531, 1.2075761556625366, 1.7637296915054321, -0.5703281164169312, -0.9300219416618347, 1.0361937284469604, 1.5257411003112793, -0.585597574710846, 0.624875009059906, 2.075866937637329, 0.8707587718963623, 1.1961127519607544, 1.439261555671692, 1.71641206741333, -0.7856264710426331, -0.0035932613536715508, 1.1460838317871094, -0.6665353178977966, 0.9095406532287598, -0.8939929604530334, -0.9899299740791321, -0.841293215751648, 2.065361738204956, 0.7747747302055359, -1.6069797277450562, -0.6860012412071228, -0.7280027270317078, 0.13956670463085175, 0.9302743077278137, 0.6903260946273804, 1.4409934282302856, 1.6730618476867676, 0.19919343292713165, 0.0040926807560026646, -0.5469090938568115, -0.5682761669158936, -0.3175145387649536, 0.27987420558929443, -0.23726360499858856, -2.545696973800659, 0.690686821937561, 1.2801188230514526, 0.5538544654846191, -0.254733145236969, -0.13455447554588318, -1.7417984008789062, -0.7994064092636108, -1.3685792684555054, -2.014188289642334, -0.19339385628700256, 1.344643473625183, -0.5179981589317322, -1.5041844844818115, 0.31435367465019226, 0.8565985560417175, -1.0735256671905518, 1.4012123346328735, 0.5356897711753845, 2.172989845275879, 5.4287567138671875, -2.0318291187286377, 1.4627093076705933, -1.3328595161437988, 2.204631805419922, 0.7580834031105042, 0.05425959452986717, -0.31084588170051575, 1.009993314743042, 0.29650944471359253, -0.8456217646598816, 0.18802322447299957, 2.412257194519043, -2.284494638442993, -1.5478770732879639, -0.7868990898132324, -0.191889688372612, 1.3266247510910034, -0.33786916732788086, 0.02717709355056286, -1.2366974353790283, -2.2184669971466064, 0.14527834951877594, 2.18928599357605, 1.2976540327072144, 1.6438080072402954, 0.4337591826915741, 1.1182094812393188, 2.211791753768921, -0.6549559831619263, 0.46544399857521057, 2.0723860263824463, -0.6212130784988403, 3.622371196746826, 0.5284505486488342, 1.9267975091934204, 1.2250170707702637, 1.9048779010772705, -0.7275678515434265, -0.6419830918312073, 0.835376501083374, -0.049125682562589645, -1.1661767959594727, -0.6020059585571289, -0.8629579544067383, -0.2326013147830963, -0.3435380458831787, -2.6386115550994873, 1.7774357795715332, 2.1910312175750732, -1.6096349954605103, 1.0207479000091553, 0.36770355701446533, 1.0856796503067017, -0.6135582327842712, 1.1124372482299805, 1.0371068716049194, -0.7814773917198181, -0.5380383133888245, 0.5580309629440308, -0.8411182165145874, -0.3027750253677368, 0.1930999904870987, -1.5598242282867432, 1.1553888320922852, -1.7044693231582642, 1.3378437757492065, 0.4605400860309601, 0.4715856611728668, -0.22726862132549286, -0.0019247094169259071, 0.2989496886730194, 0.16507591307163239, 1.20696222782135, -0.9104241728782654, 0.8744581341743469, 0.7089632153511047, -0.8009026646614075, -0.15289060771465302, -0.2826904058456421, -0.719356894493103, 1.231847882270813, 0.3237728476524353, -0.18415512144565582, -2.9836134910583496, -1.6958097219467163, -1.0145885944366455, -0.8717148900032043, -2.00270414352417, -0.2315126359462738, 0.3450295329093933, 1.8511348962783813, 0.913094162940979, -0.6304725408554077, -0.6068994998931885, -0.002238308545202017, -1.6580606698989868, -1.3388874530792236, -2.1309964656829834, 2.8039231300354004, -1.432497262954712, -0.39622169733047485, -1.4486716985702515, -1.8614944219589233, 0.030533164739608765, -0.6853166818618774, 1.9069286584854126, -0.36477893590927124, 1.78968346118927, -0.07234842330217361, 1.4250589609146118, -0.22354565560817719, -0.5777296423912048, 0.030704455450177193, 1.1598337888717651, 0.8151378035545349, 3.716284990310669, 1.2466161251068115, 0.7528294324874878, -0.6800457239151001, -0.9120841026306152, 0.8267819285392761, -1.5648906230926514, 1.1536171436309814, -1.4699229001998901, 0.7542101144790649, -0.3854815363883972, 0.7179155945777893, 3.003941535949707, 0.38548529148101807, 1.863805890083313, -1.2294087409973145, 1.8339089155197144, 2.094151735305786, 0.650997519493103, 0.05248027294874191, 1.8863083124160767, 1.537872314453125, 1.6889106035232544, 0.3362431526184082, 1.2763359546661377, 0.17541393637657166, -1.7713613510131836, -0.1958785504102707, -1.911656141281128, 0.987786054611206, 0.10584583878517151, 0.05303320288658142, 2.568617582321167, 0.49036988615989685, -0.8812941908836365, -0.4900546371936798, 1.8939036130905151, 0.00955583993345499, -0.6529057621955872, 0.529163122177124, 0.6272794008255005, -0.5202549695968628, 0.6776893734931946, 1.7095203399658203, -0.07992353290319443, -0.7194697260856628, -0.5779426693916321, -0.9640994668006897, 0.5269324779510498, -2.3795571327209473, 0.9448362588882446, 0.9704379439353943, -0.19457289576530457, 1.6927130222320557, 0.8520640134811401, -0.1726536899805069, 1.542719841003418, 1.0777568817138672, -0.962470531463623, 0.837166428565979, 2.3919758796691895, -0.3555198311805725, -0.5088171362876892, -1.0339646339416504, 0.027489420026540756, -1.080469012260437, -0.6898619532585144, 1.224414348602295, 2.5033581256866455, -0.40754422545433044, -0.30071407556533813, 1.0480164289474487, 3.390085220336914, 1.6562647819519043, -2.806953191757202, -0.9880589246749878, -1.428088903427124, 2.4880306720733643, 3.017207384109497, 0.6497886180877686, 1.2651894092559814, -0.21500056982040405, 0.1133781149983406, -0.8461443781852722, 0.173729807138443, 0.6431218981742859, -0.5533169507980347, 0.942270815372467, -0.5600100159645081, 1.5856133699417114, -1.3442710638046265, 0.184311643242836, 0.9511229395866394, 1.7552019357681274, 0.5392922163009644, -0.06927337497472763, -0.27064114809036255, -0.9744343161582947, -0.7731255888938904, 1.5430623292922974, -1.7901949882507324, -2.04213285446167, -0.22699740529060364, -1.6119616031646729, 0.927992582321167, 0.007770258001983166, 0.02032613195478916, 2.449385166168213, 8.26765251159668, -0.8315763473510742, 1.9430925846099854, -0.04539749398827553, -0.4669152796268463, 0.1489713191986084, -6.850067138671875, 0.18324026465415955, -1.6901848316192627, 0.4989229440689087, -1.2558271884918213, 0.06569616496562958, -1.9276399612426758, 0.26665472984313965, 0.25946664810180664, -0.45058611035346985, -1.0442249774932861, -0.10019509494304657, 0.5108587741851807, -1.3054444789886475, -0.5542269945144653, 0.5262025594711304, 0.6638672947883606, -0.8008887767791748, -0.5513659119606018, 1.7737146615982056, -1.9026265144348145, -0.705369234085083, 3.4417781829833984, -1.358480453491211, -2.0080997943878174, 0.206196129322052, 1.416379690170288, 0.629401445388794, 0.39032405614852905, -0.573489248752594, 0.6883392333984375, -1.284432053565979, 1.3901342153549194, -0.6455914974212646, -0.03943531960248947, 0.2692432999610901, 1.4583581686019897, -0.665276288986206, 1.5321426391601562, -1.5389872789382935, 0.11651543527841568, -1.6946433782577515, -1.264811396598816, -0.807611882686615, -1.0949127674102783, 0.4193195700645447, 0.015944458544254303, -2.477475643157959, 0.1340150684118271, -1.6331932544708252, 1.5677685737609863, 0.544989824295044, -1.4924060106277466, -0.355823278427124, -0.9638538360595703, -0.06660518050193787, 2.667757272720337, 1.3422813415527344, -2.5837597846984863, 2.5561344623565674, 1.0783675909042358, -0.361882746219635, 2.433419704437256, 0.7028687596321106, 1.7607403993606567, 1.9428926706314087, -1.6412413120269775, -2.3645880222320557, -1.752447485923767, 0.34082913398742676, 0.7992081046104431, 3.8779850006103516, 2.7753260135650635, -1.4204102754592896, -1.672802448272705, -0.21942110359668732, 0.8917069435119629, -2.0102241039276123, -0.07427385449409485, 1.815716028213501, -3.9202969074249268, -2.5086123943328857, 0.061018429696559906, 1.0542665719985962, 0.4410076141357422, 2.197770357131958, -0.1990482062101364, 1.1511850357055664, 1.4614367485046387, 3.221121311187744, -0.8380250334739685, -0.08182227611541748, 0.24819329380989075, -0.5457298755645752, 1.071518898010254, 1.0696899890899658, -3.4493517875671387, -0.42023542523384094, -1.6182725429534912, -1.2511136531829834, 0.7684268951416016, -2.584688901901245, 1.6623444557189941, 0.3814030885696411, 1.6456233263015747, -0.8552649617195129, 1.676797866821289, -0.5054805874824524, -0.18197153508663177, 0.4467582106590271, 0.588047981262207, -0.9863203763961792, -2.658317804336548, 1.0240188837051392, 0.0038026622496545315, -0.504014253616333, 2.4497084617614746, 0.6130600571632385, 2.953671455383301, -0.56175696849823, -0.9615495800971985, 1.4252077341079712, -1.071109652519226, 2.1541271209716797, -0.5741174221038818, 1.3086588382720947, -1.217161774635315, -0.6515987515449524, 1.6832318305969238, 0.15503662824630737, 0.7562467455863953, -0.5144749283790588, -0.5886481404304504, 1.1388872861862183, 2.5608019828796387, -1.562220573425293, 1.2886292934417725, -0.22154736518859863, -1.0650118589401245, 1.7290868759155273, -0.718630313873291, 1.515193223953247, -0.6392520666122437, 0.25201183557510376, 0.5189926624298096, 0.7874675393104553, 1.5783140659332275, 2.1064963340759277, 1.3056678771972656, 0.6252197027206421, -0.5082908868789673, 1.6236555576324463, 0.6824671030044556, -0.992989718914032, 0.5805768966674805, 1.3436352014541626, 0.8326840400695801, -0.6083058714866638, -1.3403215408325195, -0.8231725096702576, -0.1993563026189804, 1.0720317363739014, -1.065488338470459, -0.5380938053131104, -0.9205437302589417, 1.0900458097457886, 0.8589048981666565, -2.068024158477783, 1.5476150512695312, 1.9125165939331055, -0.8093743324279785, 0.8112541437149048, -0.8550099730491638, -0.5486295223236084, 1.0655726194381714, 0.8735799193382263, -2.18695330619812, -1.8679825067520142, 0.29778146743774414, -0.6003479361534119, -0.29266953468322754, -0.7338561415672302, 0.840610682964325, -1.5731370449066162, -0.49708616733551025, -2.767655372619629, 0.8848484754562378, 0.35150930285453796, 3.0067355632781982, -0.502329409122467, -0.04684450104832649, 0.6214920282363892, -0.2548302710056305, 1.8001065254211426, 0.7573552131652832, 0.2994372248649597, 0.2998829782009125, 2.181476593017578, -0.8300613164901733, 1.3952758312225342, 0.8190113306045532, 0.026955779641866684, -0.7671681046485901, -0.47991177439689636, 1.2312524318695068, 1.4460705518722534, 1.4290629625320435, -0.4803124666213989, 1.227577567100525, -0.6333567500114441, 2.0717432498931885, 2.401350975036621, 0.6689496040344238, -0.4790419936180115, -2.2382564544677734, 0.45579150319099426, 3.017930030822754, -1.3070950508117676, -0.9459198713302612, 0.8384806513786316, -0.703892171382904, -1.5905072689056396, -0.21028254926204681, 0.3633476495742798, -0.4741549491882324, -0.11122134327888489, 0.8421253561973572, 1.0183806419372559, -2.330667018890381, -0.214961975812912, -1.6121565103530884, 0.28522875905036926, 2.607151746749878, -2.3601224422454834, -0.5378714203834534, 1.5501363277435303, -0.3919204771518707, 1.9206435680389404, 0.6874281167984009, -0.46221601963043213, -0.4993879497051239, -1.6130515336990356, -0.6677671670913696, -0.5350836515426636, -0.7942691445350647, -0.5469866991043091, 0.3506373465061188, -0.7829956412315369, -0.4739164710044861, -1.1181391477584839, 0.7115654945373535, 2.791611433029175, -1.6459108591079712, 5.1986846923828125, -0.3225220739841461, -0.5407336354255676, 0.049661699682474136, -0.6992905139923096, -2.625286340713501, -0.6276699900627136, 1.5509892702102661, -2.7479746341705322, 1.0310410261154175, -0.5258732438087463, 0.09204250574111938, 0.35819560289382935, -0.6402654051780701, 0.3435072898864746, 0.3832905888557434, -1.4260014295578003, 0.7157270312309265, -0.8894783854484558, -1.5964329242706299, 0.10107432305812836, 1.409606695175171, 2.749791383743286, -0.4491392970085144, -0.1425304412841797, -1.7610338926315308, 0.9379633665084839, -0.7039573788642883, 0.07404612004756927, 1.0243637561798096, 1.91878342628479, 2.004948854446411, 0.7027178406715393, -1.165796160697937, -0.15948989987373352, 2.8266210556030273, 0.30498194694519043, -0.324008584022522, -0.5480290651321411, -0.5601223111152649, 0.8781754970550537, -0.5977075099945068, 1.3373124599456787, -1.1589384078979492, -0.6060028672218323, -2.106795072555542, 0.157622292637825, 0.5724676251411438, 0.392546683549881, -1.858709692955017, 2.0314278602600098, -3.5660805702209473, 2.0401980876922607, 0.4325484335422516, 1.3176261186599731, -0.3080538511276245, 0.36874985694885254, -0.6576263904571533, -1.287798523902893, 0.5659355521202087, 0.1180911585688591, -0.09204411506652832, 2.3812825679779053, 2.063331127166748, 7.121645450592041, -1.9455524682998657, -0.617304265499115, -1.0777629613876343, -0.5253196954727173, 2.467651605606079, -0.7666518092155457, 0.8535099625587463, 0.1275871992111206, 0.49521714448928833, 0.9397615194320679, -0.5851958394050598, 0.6893463134765625, -0.6909480094909668, 0.15022246539592743, -0.25022467970848083, -0.9707529544830322, -0.29654520750045776, 0.09388715773820877, -0.05421874672174454, 1.210181713104248, 0.5609193444252014, -0.9747452139854431, -0.8806942105293274, -0.27182480692863464, -0.7014802098274231, 0.20001989603042603, 1.7114945650100708, 0.2777783274650574, -0.8328948020935059, -0.43037232756614685, 1.9298428297042847, -1.556696891784668, 1.7829378843307495, 0.8717275857925415, 1.1569843292236328, -1.9509087800979614, -1.1266728639602661, -1.5186959505081177, -0.07122211158275604, -2.0057930946350098, -0.37284329533576965, -2.0157690048217773, -1.757473111152649, 0.12570598721504211, 0.649534285068512, -1.1316583156585693, -1.7273895740509033, -1.1725538969039917, 0.9245226979255676, 1.5287765264511108, -1.3233879804611206, 1.0268899202346802, 1.610784649848938, -1.964221715927124, -0.22575615346431732, 1.2572076320648193, 1.6368331909179688, 0.3045434057712555, -0.955810546875, -0.051807504147291183, 0.558035135269165, -1.1358623504638672, 3.1744954586029053, -0.7272201776504517, -0.07805582880973816, 0.5732950568199158, 0.9437658190727234, -1.5303577184677124, -1.1496341228485107, -3.002295970916748, -1.1436604261398315, 1.705387830734253, 1.0370334386825562, 1.4280637502670288, -0.31408804655075073, 0.31497395038604736, 0.8425305485725403, -0.015130841173231602, -2.002007484436035, 1.4672660827636719, -0.056623831391334534, 0.4180450737476349, -1.9853566884994507, -0.5356606841087341, 0.08219021558761597, -0.25322502851486206, 0.9124963879585266, -1.9576308727264404, 0.10832604765892029, -0.27142322063446045, -1.0579023361206055, -1.126891851425171, 0.008893010206520557, -0.11959916353225708, -0.37058162689208984, -0.09769513458013535, 0.7961798310279846, -0.43012553453445435, -0.08399558067321777, 0.6348555088043213, 1.9738951921463013, 1.832053303718567, -6.244643688201904, -0.11635497212409973, 1.7010498046875, 1.091970443725586, -0.7377334833145142, 1.4367039203643799, -1.1142884492874146, -2.185319662094116, 0.2647187113761902, -0.7199743986129761, -1.603859305381775, -2.1023218631744385, -0.5305711030960083, 0.016202714294195175, -1.2534656524658203, -1.1222751140594482, 0.02202676795423031, 0.48609957098960876, -1.2320318222045898, 0.47432035207748413, -1.3291019201278687, 1.2556538581848145, 1.7805711030960083, 1.5159978866577148, -1.480852484703064, 3.153348922729492, -1.0266889333724976, 1.1689962148666382, 0.6430848836898804, 0.33580905199050903, -0.3869827389717102, 0.6538848876953125, -1.5282723903656006, -0.25857681035995483, -0.4200651943683624, 0.1578078269958496, -1.8797931671142578, -0.9410098791122437, 1.87685227394104, 0.15010109543800354, -0.22967493534088135, 0.8364989757537842, -0.2069312185049057, -1.6553640365600586, 1.8206270933151245, 0.1939302384853363, -1.2105315923690796, 1.7746696472167969, -1.5565507411956787, -0.5252649188041687, 1.1959308385849, -1.3143192529678345, -1.888697624206543, 0.9201224446296692, 0.5206276178359985, 0.03655921295285225, 0.39236006140708923, 0.5940964818000793, 0.26182594895362854, 0.9859319925308228, -1.1495939493179321, 1.4456713199615479, 2.010498285293579, -2.4953982830047607, -2.1060924530029297, -0.43288716673851013, -0.2918426990509033, -0.668881356716156, -0.880918562412262, 1.8586208820343018, 0.08062657713890076, 0.4571908116340637, -0.5048691034317017, -1.6005399227142334, 0.24733442068099976, -0.03442183881998062, -1.0731830596923828, -2.5010740756988525, 0.6154471039772034, -0.8212209939956665, 0.8889684677124023, 1.5661259889602661, -1.3336694240570068, 0.6521629691123962, -1.0542666912078857, -2.291600227355957, -0.4244436025619507, 0.23790964484214783, 1.8321008682250977, 0.33107566833496094, 2.492598533630371, 0.23686641454696655, 1.6122249364852905, -0.9621216654777527, -0.8026750683784485, -0.6061187386512756, -1.902381420135498, -0.9966323971748352, -1.2590794563293457, 1.2155719995498657, 3.2483577728271484, 0.7017428278923035, -0.35305407643318176, 0.8109382390975952, -1.4899893999099731, 0.7893987894058228, -19.971635818481445, -1.7384549379348755, -0.9761728644371033, -0.18813244998455048, -2.6669554710388184, 2.2546274662017822, -0.5319312810897827, -0.28895819187164307, 0.8105993866920471, 0.24843645095825195, -1.2339458465576172, 2.385732412338257, 0.04893316328525543, 0.7345570921897888, -0.3387344479560852, -1.351549744606018, 2.695985794067383, 0.27952438592910767, 1.9679909944534302, 1.9915693998336792, 0.8046786189079285, -1.2423044443130493, -0.596990168094635, -1.2766659259796143, 0.5091038346290588, 0.728806734085083, 1.9492510557174683, -0.24448315799236298, -1.919389009475708, 1.335370421409607, -0.9166249632835388, -1.000272274017334, 1.5171830654144287, -0.9668669700622559, 0.9618971347808838, -0.1875310242176056, 0.014787380583584309, -3.4418983459472656, 0.4920128881931305, 0.5722488760948181, -0.31350401043891907, 0.9536020755767822, 1.9527771472930908, -0.4921717047691345, -0.3938326835632324, 0.3469773530960083, 2.3202829360961914, -0.35937759280204773, -0.8477053642272949, 0.29798445105552673, -1.150757074356079, -1.0514442920684814, -0.1013830378651619, -0.7216649055480957, -0.9796839952468872, 1.261736512184143, -1.1270889043807983, 1.148787260055542, -1.2607638835906982, -0.13515254855155945, 1.3514554500579834, 1.5837522745132446, 1.2381569147109985, -2.914914846420288, 0.04572610557079315, -1.4801344871520996, -1.6674355268478394, -0.6117649078369141, 0.19966021180152893, 1.057396411895752, -0.4018441140651703, -0.15267573297023773, -0.6564202308654785, -0.6351310610771179, 1.369605541229248, -0.2646879255771637, 1.9988458156585693, -0.5294947624206543, -0.09208071231842041, 2.5841562747955322, -0.22243422269821167, -0.7894863486289978, 0.6847538948059082, 0.5264033079147339, 2.819620370864868, -0.6237492561340332, 1.161801815032959, -0.019444474950432777, -0.8847143650054932, 0.4075644016265869, 0.5863816142082214, -1.4033311605453491, -0.6523743867874146, -2.357278347015381, 0.5788408517837524, 0.3622460663318634, -2.566084384918213, 4.644451141357422, 0.2591938376426697, 1.6491655111312866, -1.7845708131790161, 0.22638414800167084, 0.6208553910255432, -0.6461225152015686, -9.575100898742676, 1.5938973426818848, -0.4775727391242981, -0.4766634404659271, -0.2674832046031952, -1.3523470163345337, -2.3620002269744873, 0.7403789758682251, -1.8577978610992432, -0.01985633186995983, -1.6430636644363403, 0.9099018573760986, 1.9852734804153442, -0.0845615491271019, -1.7097405195236206, -1.1133273839950562, 0.7253183722496033, -0.93417888879776, 0.38101038336753845, -1.5003997087478638, -0.19994038343429565, -0.2682150602340698, 0.5571067929267883, 0.2873949110507965, -0.3931058943271637, 1.1297667026519775, -0.03484942391514778, -1.1334267854690552, 1.6547789573669434, 1.7267910242080688, 0.05870004743337631, 0.692637026309967, 3.368058443069458, -0.5097934603691101, -4.426087379455566, 0.28441038727760315, 2.872499704360962, -0.43924662470817566, -0.37188854813575745, -0.8589200973510742, -0.048362333327531815, -1.157618761062622, 0.35981252789497375, 2.1956145763397217, 0.3310026228427887, 0.719099223613739, -2.5938706398010254, 0.6206936836242676, 0.2793276607990265, 1.231902837753296, -1.474212408065796, -0.8901280760765076, -0.10564978420734406, -0.31495457887649536, -1.7654234170913696, -0.0420951209962368, -0.26041799783706665, -1.0575052499771118, 0.9185315370559692, -0.06577913463115692, -0.528959333896637, 0.07405278831720352, 2.307943820953369, -0.0680311918258667, 0.8343915343284607, 1.8890239000320435, -0.989713191986084, -0.5323358178138733, 0.31535953283309937, 1.5298105478286743, -2.773972511291504, 0.12645821273326874, 1.7989552021026611, -0.39264005422592163, 3.2906432151794434, -1.2492934465408325, -1.3600224256515503, -0.8135541081428528, -2.0290350914001465, -0.8149510025978088, 0.16287420690059662, -0.32410749793052673, -0.48418813943862915, -1.2753843069076538, 0.4948115348815918, 2.048521041870117, 0.07417502999305725, 3.5322084426879883, -0.5269909501075745, 2.4343578815460205, 0.5343173146247864, -0.5588669180870056, 1.8879631757736206, 1.6828598976135254, -0.2613939940929413, 1.1470189094543457, 0.4912775754928589, -0.5954956412315369, 1.034094214439392, -0.47453755140304565, 0.12514224648475647, -2.054734230041504, 0.30457842350006104, -0.5416378974914551, -1.2932929992675781, -0.7378886342048645, 0.055688533931970596, -0.43382585048675537, 1.381489634513855, 1.1531589031219482, 0.7506635189056396, 0.11065080016851425, 0.4160667657852173, -0.6172353029251099, 0.9527543783187866, -0.4507785141468048, 0.06134583055973053, -0.5575926899909973, -0.44281449913978577, 1.0477946996688843, -0.5662573575973511, -0.24398581683635712, -0.7190974354743958, -0.7369704842567444, -1.0679957866668701, -0.4474474787712097, -0.5089880228042603, 2.238396406173706, 2.186643600463867, -2.7803196907043457, 0.08612996339797974, 0.39786407351493835, 0.22991153597831726, -0.2800491452217102, 2.1917502880096436, -0.31511104106903076, -1.2392948865890503, 1.6461033821105957, -2.095350742340088, -0.4396525025367737, 0.7413718700408936, -0.22869956493377686, 0.878178060054779, 1.476547122001648, 0.18283015489578247, 1.112492561340332, -0.29021358489990234, -0.8962664604187012, 1.2239896059036255, 0.8148913383483887, 1.493725061416626, 0.7966607213020325, 0.9293897151947021, 1.1822515726089478, 0.30238959193229675, 2.5825283527374268, 0.914421796798706, -1.0570433139801025, 1.916624903678894, 1.799791693687439, 1.3955270051956177, 1.4430383443832397, 0.5767806768417358, -1.2314975261688232, 1.6149853467941284, 1.2635000944137573, -3.0834848880767822, 1.6807719469070435, -0.20659956336021423, -0.32398736476898193, 0.8687610626220703, 0.76566481590271, 0.7846158146858215, 5.595295429229736, 2.187568187713623, -0.11575659364461899, 0.7357592582702637, -2.468700408935547, -2.0825750827789307, -1.3043855428695679, -0.20534619688987732, 0.10219421982765198, -2.5097172260284424, -0.27976882457733154, -1.2664955854415894, 0.5511059165000916, -1.1266275644302368, 0.8888252973556519, 1.7615914344787598, 0.6276456117630005, 2.4486560821533203, 0.7239203453063965, 1.3003913164138794, -1.752005934715271, 0.682052731513977, -0.04436614364385605, 0.2408178299665451, 0.5172919631004333, 2.099552869796753, 0.8886964917182922, -0.9675989151000977, -0.1455882340669632, 0.2653419077396393, -2.272977352142334, 0.8938034772872925, -0.015413188375532627, 0.8100095987319946, 0.9460456371307373, -1.0669927597045898, 0.7275148630142212, 0.46011826395988464, -0.6815071105957031, 0.678428053855896, 0.5433247089385986, -1.0986899137496948, -0.2895275056362152, -0.6163699626922607, -1.2451777458190918, 1.696649193763733, -0.7252131104469299, 0.2275494486093521, -0.6507408618927002, 0.8105078935623169, 0.32804059982299805, -1.7397887706756592, 1.2816709280014038, 1.137544870376587, 2.5783491134643555, -1.7185733318328857, -1.2869365215301514, -1.7374526262283325, 1.3858989477157593, -1.573744535446167, -0.3080269992351532, -0.4656137526035309, 0.039536233991384506, 1.296492099761963, 0.6470268368721008, 0.9076980948448181, 0.9353160858154297, -0.7157048583030701, 1.2743284702301025, -0.36465173959732056, 0.5135241746902466, -0.8797528743743896, 1.2893391847610474, -2.410081148147583, -1.8482871055603027, -0.4421955347061157, -0.8959232568740845, 1.3493739366531372, -0.11590481549501419, 0.9419602751731873, -1.3942420482635498, -1.2476228475570679, 1.4983781576156616, -0.7193501591682434, 1.4250811338424683, 0.5781698226928711, -0.09094028174877167, 0.5303691029548645, 1.5212538242340088, 0.07377941906452179, 0.5991213917732239, 1.3245937824249268, -1.2752630710601807, -2.489834785461426, -1.1675220727920532, -0.3782741129398346, 1.6444309949874878, -0.5446124076843262, -0.9657525420188904, -1.3627946376800537, 1.911562442779541, 1.703794240951538, 0.7064029574394226, 0.44911444187164307, -0.3306087255477905, 0.341010719537735, 0.1595628261566162, 2.2377657890319824, 1.3913657665252686, -0.5166400671005249, -1.0734820365905762, 1.051979660987854, 0.1448231339454651, -1.4402073621749878, -0.03536665812134743, -1.8927757740020752, 1.0427193641662598, -0.9904991388320923, -0.4100485146045685, -1.82712721824646, 0.9147684574127197, -1.7052018642425537, 0.24210545420646667, -2.2443816661834717, -2.012985944747925, 0.07441049069166183, -0.7036551833152771, 1.9291455745697021, 0.6283689141273499, 0.6926229596138, 1.319243311882019, -2.681267499923706, 1.6566864252090454, -0.5562164783477783, 1.8434046506881714, -0.3385833203792572, -0.7768872976303101, 1.8051323890686035, -0.4118184745311737, -0.16720041632652283, -0.6258364319801331, 0.5848996639251709, 0.033893004059791565, 0.13594886660575867, -0.41081780195236206, -0.09331312775611877, -0.1948256492614746, 1.6614603996276855, 0.28145015239715576, -1.3572336435317993, -2.9865927696228027, -0.5032733082771301, -0.26254338026046753, 0.5582429766654968, -0.37479546666145325, 0.732795238494873, 0.8003195524215698, -0.9063413143157959, 10.480480194091797, 2.444453716278076, -2.0941710472106934, 0.19105511903762817, -1.1633390188217163, -0.9271464347839355, -0.5844646096229553, -1.0247105360031128, 0.6945508718490601, -0.4380606412887573, -0.3882659375667572, -0.30944228172302246, -1.1268430948257446, 0.03618132695555687, 2.7068607807159424, -3.251225233078003, -0.5041134357452393, 0.21848274767398834, 0.9072961211204529, 0.11453475058078766, -0.7136757373809814, 0.11688742786645889, 0.481795072555542, -1.2789537906646729, -0.21615269780158997, -0.8314940929412842, -0.13418994843959808, 0.7785932421684265, 1.2649143934249878, -0.8727772235870361, -0.9701178073883057, 1.014566421508789, -0.9475217461585999, -0.48979684710502625, -0.6372299194335938, -0.7740156650543213, 0.0739036574959755, 0.22550317645072937, -0.460519939661026, 0.9555087089538574, -0.9884092211723328, -0.24444739520549774, -2.642408609390259, 0.9277182817459106, -0.007836217060685158, -0.84083491563797, -0.8681988716125488, 0.5579338073730469, -0.46583691239356995, -2.348215341567993, 4.215538501739502, 0.8594162464141846, 0.44909608364105225, -0.8914065361022949, -0.3360661268234253, -0.3165518343448639, -0.9357744455337524, -1.0587694644927979, 0.7047469615936279, 1.0962003469467163, 0.7671054005622864, 0.9495906233787537, -2.537616729736328, 0.2738385796546936, -0.7910047769546509, -0.4629139006137848, 0.3502848744392395, 0.7025472521781921, -1.5361273288726807, 0.24010683596134186, -0.40537044405937195, 0.40082889795303345, -1.9108061790466309, 1.2567681074142456, 0.4879792630672455, -0.9879844784736633, 0.7095828652381897, 0.4281247854232788, -0.6504597663879395, 3.8414409160614014, -1.077449083328247, 0.48167887330055237, -0.5406759977340698, -0.8093084096908569, -0.7144739627838135, 0.6541707515716553, 2.706449508666992, 0.42532429099082947, 0.3496849536895752, 1.2121773958206177, 0.6711621284484863, -1.084627628326416, 0.1353055089712143, -0.2784792184829712, -1.4169268608093262, -0.8897945284843445, -0.6561485528945923, 0.0766349658370018, -1.22962486743927, -0.3080882728099823, 2.7555925846099854, 0.4385436773300171, -0.7524489760398865, 0.775477945804596, 1.2980716228485107, 0.8974868059158325, 0.5838297605514526, -0.6033850908279419, -1.023512840270996, 1.7768476009368896, -0.6890552639961243, 1.821742296218872, 0.3073888421058655, -0.5118666291236877, 1.088826298713684, 0.25673988461494446, 0.26870787143707275, 1.0125828981399536, 0.06909769773483276, 0.7663252353668213, -1.9658693075180054, -1.0680861473083496, 0.5965616703033447, 0.009017483331263065, 2.919966459274292, 0.14928165078163147, -4.490398406982422, 1.1612664461135864, -1.806114673614502, 1.197531819343567, 2.3364269733428955, -0.7254144549369812, 1.948550820350647, -0.03314998373389244, 0.9380978345870972, 1.3783173561096191, -1.4301778078079224, -1.2956559658050537, -0.40460363030433655, -0.4933367967605591, -0.6312091946601868, 2.10502028465271, -0.04166751354932785, -0.8412379026412964, -2.336148738861084, -2.1628682613372803, 0.8824766874313354, 0.3995583653450012, 2.0267629623413086, -0.8496882915496826, -3.239213705062866, -0.4067642092704773, -2.114393711090088, 2.025078535079956, -0.8721938133239746, 2.273296356201172, -0.2738562226295471, 2.6146082878112793, 1.2395397424697876, 0.6414740085601807, -1.9145262241363525, -0.8030833601951599, -1.917933702468872, 1.1515573263168335, 0.5226010680198669, 0.9781239628791809, -0.32946741580963135, -1.2374622821807861, -1.3790061473846436, -0.319889634847641, 0.6968761682510376, 0.7706332206726074, -2.3476924896240234, 0.3152446150779724, 1.1439653635025024, -0.2490117996931076, 0.40879306197166443, 0.5922173857688904, 0.16182401776313782, 0.2843638062477112, 2.046701431274414, -0.6985978484153748, 1.6978580951690674, 4.648860454559326, -2.1208462715148926, 0.8340646624565125, -0.33694469928741455, 1.506900668144226, -0.0728907510638237, -0.2923429310321808, -1.2621878385543823, 0.7623165845870972, 1.5671006441116333, -0.7119346857070923, -0.36678028106689453, 0.9053744673728943, -0.08828070014715195, -0.5733630061149597, 0.9272063970565796, -0.019801296293735504, 0.12083693593740463, -1.284272313117981, 0.1436709612607956, -0.2396950125694275, 1.9411457777023315, -0.4198077321052551, 0.4637107253074646, 0.2655559778213501, -0.04960693046450615, -0.8758004903793335, -1.0495938062667847, 1.437912940979004, 2.480926275253296, 0.6153144836425781, 0.5273621082305908, -0.6130529046058655, 1.622088074684143, 1.3246119022369385, -1.3921430110931396, -2.0621492862701416, -0.03257045894861221, 0.009166643023490906, -1.0975360870361328, 1.884278655052185, 2.261892557144165, 1.0180517435073853, 1.0329982042312622, 0.5648267865180969, -1.2426364421844482, 0.23587073385715485, -3.2910845279693604, 1.281567931175232, -0.35130104422569275, 1.0486851930618286, 0.7826445698738098, 1.4492677450180054, -0.35492220520973206, -0.7351964712142944, 1.7395473718643188, 1.1054251194000244, -1.224291443824768, -1.9987585544586182, -0.14486637711524963, 0.4610278308391571, -1.6176427602767944, 0.6685338616371155, -0.38924288749694824, 0.6127235293388367, 0.39671871066093445, -1.5397499799728394, -0.5913020372390747, 1.6122612953186035, -0.9336251616477966, -0.8891804814338684, -1.313092827796936, -3.134319305419922, -0.4093708097934723, 9.544205665588379, 1.2137407064437866, 0.33612629771232605, 0.3441920280456543, 1.298557162284851, -0.558219313621521, 1.7611967325210571, 1.0620949268341064, 0.22875678539276123, 0.44696980714797974, 1.1022154092788696, -0.5426860451698303, -0.4587833285331726, 0.7616351842880249, -0.9088743925094604, -1.747135043144226, -0.4885443449020386, 5.98811149597168, 0.4944724142551422, -0.8350523710250854, 1.9118099212646484, 0.8556327223777771, -0.07591931521892548, 7.629628658294678, -2.3711204528808594, 1.561293601989746, 0.9366270899772644, -0.5345580577850342, -1.221640944480896, 2.981678009033203, 0.770560085773468, -0.05360561981797218, 0.5803342461585999, -0.568744957447052, 0.08916297554969788, 0.08014818280935287, 1.3939485549926758, 0.13043662905693054, -0.45704278349876404, -1.0327154397964478, 0.5106377601623535, -0.28197887539863586, 2.582669973373413, -1.8407185077667236, -3.83475923538208, 1.0726004838943481, 1.097368597984314, -0.43464186787605286, -2.743208885192871, -0.0798221006989479, 1.2498425245285034, 1.5469802618026733, -0.7579048871994019, -0.492357075214386, 2.214048385620117, -1.2518030405044556, 1.0351414680480957, -0.8374497890472412, 1.355564832687378, 0.731525719165802, 0.4091041386127472, 0.5217496752738953, -0.040808454155921936, 1.227352261543274, 1.585134506225586, 0.5306967496871948, 1.956946849822998, 0.8802028298377991, 0.9282774329185486, 2.5725603103637695, 1.5851833820343018, 0.3866352438926697, -0.8519294261932373, -0.49586498737335205, -1.7943435907363892, 1.8626387119293213, 0.9403979182243347, -2.296236515045166, 0.7424890995025635, -2.1177279949188232, -0.7354467511177063, -1.1633617877960205, -2.7472150325775146, -0.5715490579605103, -0.5358451008796692, 0.919072151184082, 2.0061140060424805, -1.194710373878479, -1.3157024383544922, 0.23851221799850464, 3.492548942565918, 0.3615959882736206, -0.32614561915397644, -2.136044979095459, -0.7821731567382812, -2.2708654403686523, 1.1118855476379395, -0.6282389163970947, -1.4030792713165283, 0.2742553651332855, -0.20653311908245087, -1.5757160186767578, 1.0852676630020142, -0.44845128059387207, -0.8669084906578064, 0.6230945587158203, 1.0886695384979248, 0.038849640637636185, -0.0074860164895653725, 1.6137592792510986, 0.10103659331798553, 2.112267255783081, -1.1969965696334839, 1.248659372329712, 1.2358694076538086, 1.1003878116607666, -0.6072786450386047, 2.266598701477051, 1.8494666814804077, -0.17806902527809143, -2.4900460243225098, 1.0054235458374023, 0.7093042135238647, -0.7620400786399841, -1.0924489498138428, 2.2467215061187744, 0.8613788485527039, 1.7088299989700317, -0.9927656054496765, 1.2953295707702637, 0.35504016280174255, -0.7712082862854004, 0.7032055258750916, 0.38011282682418823, 0.38823989033699036, -1.5597829818725586, -0.6393969058990479, 0.47318628430366516, 3.2756187915802, 0.12178835272789001, 0.09980175644159317, -0.6206713318824768, -0.9893007278442383, -0.2813156247138977, 0.35632961988449097, -1.1163796186447144, -0.410573810338974, -0.6222839951515198, 0.5459297895431519, 0.8899361491203308, -0.22971388697624207, -0.5837960839271545, 1.0621877908706665, -1.2020363807678223, -2.1003224849700928, -2.7457096576690674, -0.20782802999019623, 2.7907943725585938, 0.6569065451622009, 0.2375561147928238, 0.8668259978294373, 0.4345877170562744, 0.12437054514884949, -1.3736845254898071, -1.4984114170074463, 0.013034750707447529, -0.28289684653282166, 1.2486220598220825, 0.21981701254844666, -3.3666515350341797, 0.31617966294288635, -2.1572368144989014, -0.4712090492248535, 0.8708591461181641, 1.7021077871322632, 0.3170827031135559, 0.7378759384155273, -1.0113576650619507, -1.9909640550613403, -0.29632484912872314, -3.226109266281128, 2.903125762939453, -1.4214471578598022, 1.1692333221435547, 3.1764910221099854, -0.2573508322238922, 0.08601130545139313, 2.020861864089966, 1.6038601398468018, 2.5421671867370605, 0.42143112421035767, 1.9321980476379395, 0.5063053965568542, 0.02619011141359806, 1.5113228559494019, 0.040642134845256805, -0.981791079044342, 1.6451444625854492, 2.4048054218292236, -0.8215861916542053, 0.855589747428894, -2.12498140335083, 1.421223759651184, 1.1707476377487183, -0.7791087031364441, -1.5238944292068481, -0.8603243827819824, 1.5940357446670532, 2.1940767765045166, 0.4272288978099823, 0.6448524594306946, -0.6446719765663147, 0.07424093037843704, 0.7904539704322815, -0.6873279213905334, 1.8454492092132568, -2.2866313457489014, 0.16284868121147156, -0.8538795709609985, -1.5760045051574707, -0.9874741435050964, -6.638947010040283, -1.6845561265945435, -1.4256411790847778, -0.5020808577537537, -0.7862692475318909, -0.5368119478225708, 0.07092592865228653, -0.08661539107561111, 1.3484166860580444, -0.9934634566307068, 0.38439786434173584, -1.1439690589904785, -0.3861296772956848, -0.1093694269657135, -3.947463274002075, 2.2098491191864014, -2.1700868606567383, -2.53633189201355, 1.7881721258163452, -0.5652779936790466, 1.3270738124847412, -0.8645955920219421, -1.941823959350586, 2.0502843856811523, 0.9217851758003235, -0.44403335452079773, -0.05954679101705551, 0.9798369407653809, -0.49661150574684143, -1.0783501863479614, 0.02288452349603176, -1.913511872291565, -0.5158041715621948, 0.8172163963317871, -2.0672333240509033, 0.639032781124115, -0.3803181052207947, -0.0036838005762547255, -1.1032838821411133, 3.1390554904937744, -0.08767400681972504, -0.8712103366851807, 1.8665919303894043, 1.7451173067092896, 1.330260992050171, -0.20281794667243958, 0.41364672780036926, 1.9187352657318115, 1.6312960386276245, -1.4541044235229492, 1.2776435613632202, -0.24221843481063843, 1.4116747379302979, -1.0273911952972412, 0.11996135115623474, -1.177587628364563, 2.476832151412964, 0.03620867058634758, -0.04963206499814987, 3.046875, -1.2505059242248535, 0.3945661187171936, -0.42965057492256165, 2.1220102310180664, -1.1289212703704834, 0.844342052936554, 0.7635671496391296, -3.751101016998291, 3.5031888484954834, 1.9752570390701294, 0.05810214579105377, 1.969159722328186, -1.866531491279602, 1.8846160173416138, 1.9851993322372437, -2.2278034687042236, 1.0596866607666016, -0.2182295024394989, -1.763047456741333, 0.8118866682052612, 0.7580263614654541, -0.22971166670322418, -0.23980991542339325, 0.9405701756477356, 0.22349388897418976, -0.24451622366905212, 0.23697766661643982, -0.8084549903869629, 2.131629467010498, -1.3063445091247559, -0.394239604473114, -1.2668036222457886, -0.33293449878692627, -1.1515319347381592, -0.1904032826423645, -0.0022995772305876017, 2.520913600921631, -0.3292059898376465, -0.8732765913009644, -0.8256253004074097, 0.4003623127937317, 0.5318997502326965, -0.1781860888004303, 0.5070376992225647, 1.1990087032318115, -1.813031792640686, -0.6898319125175476, -1.6754968166351318, 1.4588146209716797, 1.5320534706115723, -0.63267982006073, 0.8908805847167969, 0.47656649351119995, 0.5483992695808411, 0.13535986840724945, -1.7099641561508179, -1.6360929012298584, -1.7706835269927979, 1.1217354536056519, -0.24067237973213196, -0.041468821465969086, 0.4508132338523865, -1.3171453475952148, -1.2917624711990356, -0.4408749043941498, 1.2466953992843628, 0.8117535710334778, -0.09463564306497574, -0.5108743906021118, 1.7871726751327515, -1.494370460510254, -1.0999127626419067, -0.576580286026001, -8.034598350524902, -0.9038809537887573, 2.6243979930877686, 1.0288770198822021, -0.4147227704524994, 1.8332788944244385, 0.6336740255355835, 1.0329174995422363, -7.728291988372803, -0.42308858036994934, -0.8193963766098022, 0.8260611295700073, 1.497290015220642, 0.6279443502426147, -0.9385788440704346, 0.3687593340873718, 0.040442608296871185, 1.4056882858276367, 0.9108413457870483, 0.8166320323944092, -2.1711792945861816, -0.977782666683197, -0.4808619022369385, 1.8556804656982422, -0.33307886123657227, 0.6686730980873108, 2.737738847732544, -1.2368888854980469, 1.1197662353515625, 1.176751971244812, -0.193414106965065, 2.491344451904297, 0.23027053475379944, -1.0549941062927246, -0.955284059047699, -0.20402029156684875, -1.8181315660476685, 0.013804298825562, 0.6519739627838135, 0.21160173416137695, 0.31311145424842834, -0.325597882270813, -1.2310914993286133, 0.11369511485099792, 1.226955771446228, -0.15314863622188568, -1.2625932693481445, -1.1941509246826172, 0.30041128396987915, 0.6763310432434082, -0.909990668296814, -0.13586142659187317, 1.3359404802322388, 0.5250130295753479, 1.0153363943099976, 1.0926192998886108, 1.9746220111846924, -0.9433037638664246, -1.1659032106399536, -1.4662219285964966, -0.7993911504745483, 1.5768358707427979, 0.46690547466278076, 0.18430642783641815, 0.32143786549568176, -0.6901620626449585, 0.38303324580192566, -0.10144786536693573, -1.456470251083374, -1.5950309038162231, -0.4130334258079529, -0.8358302712440491, -1.1707351207733154, -1.8779908418655396, -0.5584478974342346, 0.17647406458854675, 0.7028874158859253, -1.3912718296051025, -1.8719028234481812, 1.9380475282669067, 0.9435733556747437, 1.1951059103012085, -0.2043159008026123, 0.35425031185150146, -1.5121684074401855, 1.8810625076293945, -1.5236575603485107, -2.392482042312622, -1.1602399349212646, 1.7294400930404663, -1.4358702898025513, 0.3514344394207001, -0.3019219934940338, -1.9055655002593994, -1.4509880542755127, -0.7889146208763123, 0.2583208978176117, -1.6864609718322754, -0.3546122908592224, 0.3875279128551483, 2.5577569007873535, -0.6659202575683594, 0.9831896424293518, -0.037961702793836594, 0.34660932421684265, 1.266108512878418, 0.2550455629825592, -0.7016502022743225, 1.811272382736206, 2.146519422531128, 1.702466368675232, -2.0141117572784424, -0.39852720499038696, -0.3198963701725006, -2.1576404571533203, 1.4707974195480347, 0.5186379551887512, 1.1977797746658325, -0.044423528015613556, -0.2550674080848694, -1.840351939201355, 1.405043601989746, 0.7789722084999084, 0.5143291354179382, -0.039178185164928436, 2.2744534015655518, 0.36877548694610596, -0.5544809699058533, -1.424544095993042, -1.9605913162231445, 0.4021269381046295]\n"
     ]
    }
   ],
   "source": [
    "input_text = \"happy\"\n",
    "vector = embeddings.embed_query(input_text)\n",
    "print(vector)"
   ]
  },
  {
   "cell_type": "code",
   "execution_count": 9,
   "id": "540644bd",
   "metadata": {},
   "outputs": [
    {
     "name": "stdout",
     "output_type": "stream",
     "text": [
      "[-0.3830258548259735, -0.31182101368904114, 4.646028518676758, -0.7912827730178833, -0.3810964524745941, -0.48601022362709045, 1.4306904077529907, 0.04653507471084595, 0.24543750286102295, -0.675326406955719, -0.30564048886299133, -0.37109407782554626, 1.7531663179397583, 1.9200289249420166, 0.9448559284210205, 1.6564337015151978, 1.1297881603240967, -1.324067234992981, 0.43169426918029785, 0.20937509834766388, -1.8435941934585571, -0.8672895431518555, 2.8181471824645996, -0.5931394696235657, -0.43622785806655884, -0.595561146736145, 3.033567190170288, -2.567687749862671, 2.6689882278442383, 0.5217175483703613, 1.031145453453064, 0.4931899905204773, 0.034657981246709824, 0.3744562268257141, 0.6116977334022522, -0.008993696421384811, -1.087975263595581, 2.436589002609253, -0.9069212079048157, 1.7450343370437622, -0.8620107769966125, -0.48102042078971863, 0.5372318625450134, 1.5532275438308716, -1.7458878755569458, 1.8065487146377563, -0.194774329662323, 1.1312943696975708, 0.8791170716285706, -1.0754120349884033, 0.050126541405916214, -0.012413663789629936, -0.774915874004364, 2.2063302993774414, -0.6851435303688049, -0.4149162471294403, 2.0848677158355713, -2.816467523574829, -0.8680782914161682, 0.2008388191461563, -0.023835038766264915, -1.487162470817566, 0.23353290557861328, -0.012461019679903984, 4.304455757141113, -6.4959940910339355, -0.9775218367576599, 1.4912922382354736, -0.8271603584289551, -0.012975211255252361, -0.555134654045105, 2.6828575134277344, 0.9749139547348022, 0.4378206133842468, 1.3409420251846313, -0.6538125276565552, -0.13100148737430573, -1.7208718061447144, -3.744554042816162, 3.2663919925689697, 2.7486259937286377, 0.6094210743904114, 1.608088493347168, -0.050956644117832184, -2.939201831817627, 0.1665608137845993, -0.4941871464252472, 1.0440016984939575, 0.5587143301963806, -1.294918179512024, -2.596097469329834, 1.0824131965637207, -0.6522671580314636, 0.3759421110153198, -1.7456624507904053, 1.4191735982894897, -0.40980371832847595, -0.1665123850107193, 2.5562195777893066, 1.9418652057647705, 0.08171822875738144, -0.43953627347946167, -0.07542357593774796, 1.3871012926101685, 0.04283038154244423, -1.1976014375686646, 0.7374662756919861, -0.3879302442073822, -0.29555293917655945, -1.1297361850738525, 0.9255161881446838, 2.292161226272583, 0.27798035740852356, -2.4099040031433105, -1.0108206272125244, 1.0679548978805542, 2.179668426513672, 0.29151299595832825, 0.6263116598129272, 0.08517442643642426, -0.05837498977780342, 0.9148560762405396, 0.45307841897010803, -1.9641207456588745, -0.4279531240463257, 0.7264186143875122, 0.1785459667444229, 1.0255141258239746, 1.8321236371994019, -2.4403374195098877, 0.09510679543018341, 0.49380233883857727, -1.2084945440292358, 1.0775432586669922, 1.520491361618042, 0.21836122870445251, -0.9336368441581726, 1.100162148475647, -2.4967284202575684, -0.8239919543266296, -0.33238667249679565, -0.9519841074943542, 0.14031194150447845, 1.3617486953735352, -0.8170660138130188, 1.082075834274292, 1.3294508457183838, 0.45035791397094727, -1.5551676750183105, -1.9144126176834106, 0.7074913382530212, -1.8300807476043701, 0.854810893535614, 1.3318547010421753, -0.39976853132247925, -0.9965922236442566, -0.6570336222648621, -0.9863941669464111, 0.3596852123737335, 1.0294572114944458, 0.8460903167724609, 2.5679397583007812, 0.9945918917655945, 1.188075065612793, 0.3691057562828064, 1.5440577268600464, 0.859679102897644, -1.8174629211425781, -1.3802189826965332, 0.25217124819755554, 2.0135529041290283, 0.09688836336135864, 1.0241247415542603, -1.976258635520935, 0.7026823163032532, 0.5571374893188477, -1.5327295064926147, 1.3324486017227173, -0.7805855870246887, -0.20771467685699463, 0.5634575486183167, -1.0148115158081055, -0.5135208964347839, -1.5467480421066284, 0.6298987865447998, -0.05502131208777428, 1.1221377849578857, 0.7127801775932312, 1.1971266269683838, 1.4231345653533936, 0.03423001617193222, -0.6296548843383789, -2.8252577781677246, -0.3737545311450958, 2.440823793411255, -1.790544867515564, 2.412184238433838, -1.8422945737838745, -0.6137952208518982, -0.433460533618927, -1.5946542024612427, -2.077484130859375, -0.1885872781276703, -0.43102091550827026, 0.007366867270320654, -1.39336359500885, 0.4438205063343048, -0.5896186828613281, -0.036412592977285385, -0.6416975855827332, 0.05322904512286186, -1.910383939743042, 1.0962761640548706, 1.0016710758209229, 0.9979215264320374, -4.964570045471191, 0.9396284818649292, 2.6288018226623535, 0.3059785068035126, 1.7345008850097656, 1.7944295406341553, 0.06029713526368141, 0.5129327178001404, -0.726248562335968, -0.37262263894081116, -1.4593689441680908, 0.9669274091720581, 0.24817530810832977, 0.4271494746208191, 0.17098096013069153, 0.21567606925964355, -0.650445282459259, -1.2576723098754883, -1.0208356380462646, 1.2414883375167847, 0.2500090003013611, 1.1597059965133667, 1.9668413400650024, -2.6856939792633057, -0.38901185989379883, -1.2841901779174805, -0.050678789615631104, -0.09125911444425583, 1.9279272556304932, -0.44071707129478455, 0.6491430997848511, 3.198174476623535, 0.15078505873680115, 2.1199727058410645, -0.37438374757766724, 0.13960115611553192, 0.48808446526527405, 1.4731694459915161, 2.081171989440918, -0.42844250798225403, -0.21336013078689575, -0.7170571088790894, -0.6753389239311218, -1.0011869668960571, 0.9418701529502869, -0.4463299512863159, 0.10217452794313431, 1.1668058633804321, -1.2193102836608887, 2.561126232147217, -1.6653029918670654, -1.6306829452514648, -1.6397415399551392, 0.0002860899257939309, -1.9346299171447754, -1.6175776720046997, 0.622499406337738, 0.7292739748954773, 1.295664668083191, -0.3706284761428833, 0.8245073556900024, 0.7979753613471985, 0.03320644050836563, -1.4315276145935059, -0.23504015803337097, 0.782377302646637, -2.6247613430023193, -1.0383281707763672, 1.3512264490127563, -1.682235836982727, -0.7428135275840759, 0.924613356590271, -0.422518253326416, -1.2685452699661255, -0.1458083689212799, -0.9559000730514526, 0.46557632088661194, 0.679905116558075, -1.7964603900909424, 0.2928025424480438, -0.9490657448768616, 0.07967934757471085, -1.8497992753982544, -0.11291134357452393, -0.523201584815979, -1.0209301710128784, -0.6415954232215881, 0.6717025637626648, 2.2273924350738525, 0.15525329113006592, -0.16702570021152496, -0.7240238189697266, 1.1345248222351074, 0.2703763246536255, -1.565164566040039, 0.8197083473205566, -0.569038450717926, -1.0776764154434204, 2.0436012744903564, -0.7738869190216064, 1.2318893671035767, 0.9314823746681213, -1.7340185642242432, 0.18648788332939148, 0.3490378260612488, 2.480999708175659, 0.06294196844100952, -1.2220432758331299, 0.6059635877609253, -1.0575079917907715, -0.25386685132980347, 0.6429908275604248, -2.3823139667510986, 3.5880093574523926, 2.212245464324951, -1.4487957954406738, -0.9010704755783081, 1.2322264909744263, 0.3629317283630371, 0.09413909167051315, 1.9388666152954102, 0.18821445107460022, 2.490673780441284, 0.46717989444732666, -1.7089731693267822, -1.8541444540023804, 0.014907765202224255, 1.3213505744934082, 1.434458613395691, 0.9728827476501465, -1.247439980506897, -2.300560712814331, -1.5054391622543335, 0.8695911169052124, -0.540895938873291, 2.05545973777771, -0.8778904676437378, 1.6171437501907349, -0.25419142842292786, -0.9562695026397705, -0.4139113426208496, 1.0426069498062134, 1.0419673919677734, 0.6199042201042175, -0.004062436521053314, -1.8292118310928345, 1.2566800117492676, -0.753774881362915, 0.43487775325775146, 0.3029516637325287, 0.8053358197212219, 1.2883877754211426, 0.4092037081718445, 0.9197226166725159, -0.579951286315918, 3.4437432289123535, -0.6157572865486145, 3.3585362434387207, 0.893814742565155, -0.4837803542613983, -1.053665280342102, 2.976936101913452, 0.7367615699768066, 1.3938674926757812, -0.5474083423614502, -0.6421675682067871, -0.1856074035167694, 0.41666844487190247, -2.787477493286133, 1.6846504211425781, 0.3813575804233551, 1.0622578859329224, -0.1683516800403595, -0.34531688690185547, 1.7862606048583984, 0.721705436706543, 0.18031111359596252, -3.4725191593170166, 3.445859432220459, 0.5776464939117432, -1.1694917678833008, 1.882508635520935, -1.85736882686615, 0.5342023968696594, 3.2775652408599854, 1.8010224103927612, -0.19561269879341125, -0.9474029541015625, 1.0751323699951172, 0.9393491148948669, 1.4909628629684448, -1.2890760898590088, 0.4124309718608856, -0.011843688786029816, 2.3725621700286865, -0.8107393980026245, 0.6448305249214172, -1.0620901584625244, 0.33663907647132874, 1.1956777572631836, -0.402264267206192, -0.26522380113601685, -0.6845912933349609, 1.128435730934143, 2.0913591384887695, 2.2521958351135254, -2.4501731395721436, -1.0397741794586182, 1.1061122417449951, 0.6712355613708496, 0.9703684449195862, 0.32689017057418823, 4.013566017150879, 0.9274296164512634, -0.013556203804910183, 0.8491554260253906, -1.0952086448669434, 0.030096201226115227, -1.1702576875686646, -1.1727659702301025, -1.2850925922393799, -0.017661863937973976, 0.40850672125816345, 0.87037193775177, 0.8949628472328186, 1.847916603088379, 4.0326056480407715, -0.8283947706222534, 2.9655935764312744, 0.42516687512397766, 1.0606096982955933, -1.1326966285705566, 0.47136256098747253, -0.2306550294160843, 2.1367201805114746, 0.0791449174284935, 0.3120671212673187, -0.31760138273239136, -0.9577601552009583, -2.0791685581207275, 0.3817349672317505, 1.2006288766860962, -0.9256566762924194, 0.7663081884384155, 1.0864315032958984, 0.5230068564414978, -1.8785133361816406, 3.5451741218566895, -1.6582173109054565, 0.4928549826145172, -0.5926940441131592, 0.4518500566482544, -1.4179766178131104, -0.6382314562797546, -0.6864219903945923, -0.6813504099845886, 0.9085226655006409, -0.10645437240600586, 1.4238500595092773, -0.8921722173690796, -0.5182434320449829, -1.7261276245117188, 0.5165360569953918, 1.0434679985046387, 1.4286941289901733, 1.4102129936218262, 2.160342216491699, -0.11740133166313171, 0.06112426519393921, 2.7380051612854004, 1.267613172531128, 1.6422423124313354, 0.2912747859954834, -1.7560104131698608, 1.5656776428222656, -0.9444478750228882, -1.7166202068328857, -0.6580953001976013, 2.5513370037078857, 1.0519553422927856, 3.3023014068603516, 1.8634533882141113, -2.040130138397217, -0.43448150157928467, -1.9411731958389282, -2.076812982559204, -4.198212146759033, 0.49131470918655396, 1.457494854927063, 0.8350564241409302, 1.9368975162506104, 0.6671342253684998, 0.49553707242012024, 0.016332639381289482, 2.8237314224243164, 1.2537193298339844, 0.9327943921089172, 0.5389105677604675, -3.770407199859619, 0.021087616682052612, -0.8736651539802551, 1.6846979856491089, -0.17050763964653015, 1.0744212865829468, -2.7217042446136475, 1.6066911220550537, 0.0015115021960809827, -1.157526969909668, 1.4841337203979492, 0.851778507232666, -2.710582971572876, -1.418034553527832, 3.6009771823883057, -0.36798420548439026, 0.9221453666687012, 1.210857629776001, -0.8803309798240662, -0.3961968421936035, -0.4430205225944519, 1.1784703731536865, 2.177955150604248, -0.6505885720252991, -0.839830756187439, 0.7422505617141724, 1.3871721029281616, -1.8579708337783813, -0.8552361726760864, 2.4032087326049805, 0.6432446837425232, 0.09131922572851181, -1.0323188304901123, -1.456675410270691, -2.0233871936798096, 1.4408526420593262, -0.32583388686180115, -0.9742674827575684, -0.3996712267398834, 0.34004977345466614, -1.46893310546875, 1.4823921918869019, 2.091193199157715, 0.30500414967536926, 0.40945184230804443, -0.236137256026268, 0.1465718299150467, 0.04730818048119545, -1.4070253372192383, 1.049967885017395, 0.7959967851638794, -1.2429298162460327, 0.08086451888084412, -0.5174049139022827, 1.3355399370193481, -0.4516427218914032, -1.0118930339813232, 1.0406466722488403, 1.4870506525039673, -0.4060559868812561, 1.884450912475586, 1.3902091979980469, -2.2752907276153564, 0.6078752875328064, 0.8084790706634521, -0.7645536661148071, -1.3126434087753296, -1.9145687818527222, -0.5160022377967834, 1.3572089672088623, -1.1022592782974243, 0.37025368213653564, -0.40832582116127014, -1.096815824508667, 1.23445463180542, 2.058547258377075, -2.996710777282715, 0.35464030504226685, -1.0591211318969727, 2.5217790603637695, -1.152720332145691, -0.8372620344161987, 0.2872341275215149, -1.08503258228302, 0.24112462997436523, 0.8748181462287903, -0.20707106590270996, -1.180607795715332, 1.2054630517959595, 0.05337182804942131, -1.0714796781539917, 0.9972925782203674, -1.5043578147888184, -1.1088755130767822, -1.0726498365402222, 0.48075270652770996, 0.04828318953514099, 0.38066011667251587, 0.680281937122345, -0.11916050314903259, -1.7287951707839966, -1.9155080318450928, 3.432645797729492, 0.861553966999054, -2.0156702995300293, 0.09120381623506546, 2.724214792251587, -2.390695095062256, -1.3187808990478516, -0.07572834938764572, 1.6721792221069336, -1.0887054204940796, -0.3125140964984894, -1.5887991189956665, 1.325644850730896, -1.346435546875, -1.1898590326309204, 0.2457566261291504, -0.8182066082954407, 0.27009207010269165, -1.5112277269363403, -0.05630546063184738, 0.9190340638160706, -0.13907140493392944, -0.47125712037086487, -0.9603378176689148, -1.4946949481964111, 0.4168037176132202, 1.3093003034591675, -4.84659481048584, 0.15973521769046783, 1.1802401542663574, 0.9370810985565186, -0.7102557420730591, 3.472478151321411, 0.9487634301185608, -2.3646531105041504, 0.5618548393249512, 1.9833171367645264, -0.31607580184936523, -2.6001603603363037, -1.3951369524002075, 2.1237080097198486, -0.530903697013855, 1.6632869243621826, -1.6583178043365479, -1.8088752031326294, 0.9894431829452515, 7.1926140785217285, 0.7758499383926392, 0.235229030251503, 0.2911738157272339, 1.3677833080291748, 0.7575709819793701, 0.17669382691383362, -1.0038490295410156, 1.3095953464508057, 1.788994312286377, 0.02545897103846073, -1.7331788539886475, 0.7957756519317627, -1.1867961883544922, -0.3536061942577362, 7.171240329742432, 1.332414150238037, -0.45773231983184814, 0.5105751156806946, -1.3141224384307861, 0.2516648471355438, -1.6727157831192017, 1.2766700983047485, -0.06290189921855927, -2.498481512069702, 0.013829980976879597, 0.1933489292860031, 1.4698553085327148, 0.19083163142204285, 0.997981071472168, 2.3712360858917236, -0.9551445841789246, 1.542645812034607, 0.541070818901062, 0.9634807705879211, 0.6391180157661438, 2.260993719100952, 0.058908648788928986, -1.2973119020462036, 0.03258165717124939, -0.8815988302230835, 3.6114232540130615, -3.619809865951538, 0.4975507855415344, -1.0186703205108643, -0.7411390542984009, -2.2046453952789307, -1.4084335565567017, -1.5507233142852783, 0.4107503294944763, 0.5031922459602356, -0.49421724677085876, 1.0231527090072632, 0.4879451394081116, -0.5978406667709351, -1.2396187782287598, 0.08833032101392746, 0.39023131132125854, 0.2194649875164032, 1.3597110509872437, 0.21992456912994385, 0.8134045004844666, -0.11659753322601318, -1.1217542886734009, -0.03195023909211159, -0.9594879746437073, 0.5744136571884155, 2.7817978858947754, -0.5658233761787415, -0.7473586797714233, -0.01835378259420395, -1.2672793865203857, -1.3726732730865479, -1.3920235633850098, 1.0553621053695679, -1.5810528993606567, 2.0469796657562256, -0.6354130506515503, -0.9585328102111816, 0.5357128381729126, 1.58694326877594, -2.8773863315582275, 0.030600115656852722, 1.2634332180023193, -1.4888336658477783, -0.09209609031677246, -0.8074657917022705, -1.301700234413147, -2.338017225265503, 1.1915819644927979, 0.5522346496582031, -1.0971431732177734, -0.7822638154029846, -1.0835834741592407, 0.32542604207992554, -2.2977705001831055, 0.4490478038787842, 1.3851792812347412, -4.261220455169678, -0.16829907894134521, 0.8824481964111328, 0.8998105525970459, 2.7060658931732178, 2.807229518890381, -1.2296229600906372, -0.7232072949409485, 3.013737916946411, 0.5564172267913818, 1.193919062614441, -0.6004832983016968, 1.5927612781524658, 0.34987831115722656, 1.3309555053710938, 1.1725528240203857, -0.04722193628549576, -1.184857726097107, -0.883866548538208, 2.6357688903808594, -1.8765387535095215, -0.7525819540023804, -1.1824313402175903, -0.14083735644817352, -0.7160662412643433, -0.22498485445976257, -4.035272598266602, -0.39574673771858215, 1.2744947671890259, -1.8146451711654663, 1.6759902238845825, -1.5031238794326782, -1.647644281387329, -0.7073103785514832, 2.294782876968384, 0.02428785338997841, -0.7472735047340393, -3.8300564289093018, 2.1985607147216797, 2.0533828735351562, 1.2411538362503052, -1.4778939485549927, -2.057405471801758, -0.8018643260002136, -0.9827885031700134, 0.11376997828483582, -0.5387133359909058, 1.5315821170806885, -0.9525067210197449, -0.8820675015449524, 1.1383496522903442, -0.158000648021698, -1.2598193883895874, 0.48572447896003723, -1.7427706718444824, 0.21840044856071472, -1.6387782096862793, -2.7576358318328857, 0.2671854496002197, 1.6652075052261353, 2.0435242652893066, 0.24732328951358795, 0.33712711930274963, -1.8864346742630005, -2.259009599685669, -0.7735511064529419, 1.0663684606552124, 0.6711633205413818, -0.6870461702346802, 0.8983007669448853, 0.7206864356994629, -0.9004130363464355, -2.5362751483917236, 0.025083819404244423, -0.6934699416160583, -1.7910131216049194, -0.5487993955612183, 0.08227923512458801, 0.5969246625900269, -1.083181619644165, -3.209470272064209, 2.0869593620300293, -0.5104920864105225, -0.9049383401870728, 0.5658354163169861, 1.5088118314743042, 0.602076530456543, 0.11650081723928452, 0.5745853185653687, -0.6122159361839294, 0.5224636197090149, -0.009949459694325924, -3.723081111907959, -0.6069138050079346, 2.8990471363067627, 0.29230642318725586, 2.7646398544311523, -0.6877676248550415, -0.2836683392524719, -0.9860449433326721, -0.5424807667732239, -0.5571778416633606, -0.49960532784461975, -0.01615196466445923, 0.5282959342002869, -0.8254070281982422, -1.5694173574447632, -0.2717313766479492, 1.7516827583312988, -1.106608510017395, 4.537891387939453, 2.415076732635498, 1.743948221206665, 1.6791784763336182, -1.7199407815933228, -0.7988581657409668, -1.268219232559204, -1.248264193534851, 0.5018740892410278, 2.7294416427612305, 1.3681182861328125, -0.23966942727565765, -2.1240615844726562, 1.4917325973510742, 2.6803860664367676, 2.222327947616577, 0.30062276124954224, 0.3215866684913635, 1.9086912870407104, 1.1730215549468994, -0.8927822113037109, -1.3011810779571533, -0.8971149325370789, 1.2112137079238892, -1.9736720323562622, -1.186334490776062, -2.0321128368377686, 1.713392972946167, -0.3172505497932434, 3.851336717605591, -0.9280605912208557, -1.7519598007202148, 2.94118595123291, 2.3769805431365967, -1.72796630859375, -2.2492549419403076, -0.18580926954746246, 1.0991401672363281, -0.313844233751297, 1.755732774734497, 1.2703578472137451, 0.6384707689285278, -0.43745481967926025, 0.173921599984169, 0.05574025958776474, -0.21313676238059998, -0.46348148584365845, 0.28645744919776917, -0.5063818097114563, -1.357259750366211, -2.4023807048797607, 0.20722994208335876, -0.96988844871521, 1.0472244024276733, -0.15373460948467255, -1.4365413188934326, -1.996887445449829, -2.192640781402588, -1.117902159690857, 1.449852466583252, 0.14293316006660461, -1.1733455657958984, 2.625234603881836, -1.2686843872070312, 1.1076974868774414, 2.1230859756469727, -2.079777479171753, 0.07926754653453827, -0.4594406187534332, -1.780130386352539, -0.4937609136104584, 1.3734703063964844, -1.6704823970794678, -1.3046956062316895, -0.7497882843017578, 1.023618459701538, 0.8883436322212219, 3.124908447265625, -0.7541118264198303, 0.9888801574707031, -0.6588742136955261, 1.2705094814300537, -0.7792250514030457, 2.4717671871185303, -2.153221845626831, -0.7382136583328247, -0.14519868791103363, 1.7192891836166382, -1.4136697053909302, 1.8011610507965088, -1.8000977039337158, 0.3278019428253174, -1.0510883331298828, 3.465791940689087, 2.682222604751587, -0.4680088758468628, -0.9526063203811646, -0.6387783885002136, 3.7316606044769287, -0.020210223272442818, 0.09368924796581268, -0.9929721355438232, 0.8626275062561035, 0.6660082340240479, -3.9298994541168213, 0.6014420390129089, 3.204998731613159, 0.5724462270736694, -1.005070686340332, 0.9808891415596008, -1.3005691766738892, 0.3003336787223816, 4.260264873504639, 0.5590774416923523, 0.027094660326838493, 1.8657891750335693, -0.870510458946228, 0.7129865884780884, -3.2562098503112793, -1.0881727933883667, -0.16185671091079712, -0.4789586365222931, -0.6476563811302185, 0.849774181842804, 1.638574481010437, -0.2051888257265091, -1.38120698928833, 1.984287977218628, -0.2773204445838928, -0.2349996119737625, -0.2793201804161072, -0.41180235147476196, -1.6107494831085205, -3.236424207687378, 1.516971230506897, 0.7147785425186157, 1.0606763362884521, 2.060530424118042, -0.7946324944496155, 3.155324935913086, 0.38712888956069946, 2.029481887817383, 1.3169360160827637, -0.7398396134376526, 0.6998909711837769, -0.5335485339164734, -0.8362550735473633, 0.21820074319839478, -2.0626368522644043, -1.4121452569961548, 0.9913211464881897, -0.4488140940666199, -0.47265270352363586, 1.4522473812103271, 1.705091953277588, 1.0203042030334473, 0.8109378814697266, 3.7479755878448486, -0.8578956127166748, -0.1261085569858551, 0.6253237724304199, 1.625497579574585, 0.8461834788322449, -0.49021071195602417, -2.462190866470337, -0.5502987504005432, 0.8237186074256897, -0.5615871548652649, -1.1572132110595703, 1.308639645576477, 0.8538963198661804, -2.419872760772705, 2.079974889755249, 1.156734585762024, 0.08104363828897476, -1.0112736225128174, 0.573259174823761, 1.3876765966415405, 0.8798197507858276, 1.481301188468933, -0.012510604225099087, -0.8834084868431091, 0.7114205360412598, 0.32429787516593933, -0.03574845567345619, -0.2561272978782654, -0.95169997215271, 0.2818162143230438, -0.7890500426292419, 0.7160148620605469, 0.03341801464557648, 0.004155408591032028, -0.49358364939689636, -0.4660016894340515, -0.6665773391723633, 0.7125347256660461, 0.8224503993988037, -0.4519008696079254, 0.29638588428497314, 0.6010047793388367, -0.301516056060791, -0.6735122203826904, -0.9180340766906738, -0.002227812074124813, 0.04347975552082062, 1.2692550420761108, 2.807307243347168, -2.9047374725341797, -0.24381323158740997, 0.11209449917078018, 0.4001380503177643, 0.25735393166542053, 2.150257110595703, 1.1817291975021362, -1.1388734579086304, 0.349155068397522, 2.7873992919921875, 1.571033239364624, 0.12915004789829254, -0.02296961098909378, 1.6526747941970825, 0.013465328142046928, -0.8414105772972107, 0.4548579454421997, 1.5976324081420898, -0.5357861518859863, -1.9814058542251587, 1.6123828887939453, 1.4317269325256348, 1.924890160560608, 0.7482696175575256, -1.1825294494628906, -3.474126100540161, 0.41735655069351196, 0.4209766089916229, -2.184544324874878, -2.738394021987915, -0.9961987137794495, -0.08750002831220627, 0.5820274353027344, -0.5043455362319946, -0.3475610911846161, 2.237774133682251, -0.16507083177566528, -1.6802091598510742, -0.3652632534503937, 0.4324668049812317, -0.8186832070350647, 1.3475090265274048, -0.7590271830558777, -0.4876422882080078, 0.29874560236930847, 0.6716642379760742, 1.239115834236145, 0.7416014671325684, -0.6782320737838745, 0.19363275170326233, 0.3482150733470917, -0.6426510810852051, -1.710663080215454, -0.9911448955535889, 0.3192467987537384, -1.8511327505111694, -1.081952452659607, 0.08599887043237686, -1.0241045951843262, -1.341986894607544, 1.246334195137024, 0.9086719155311584, 1.9577335119247437, 4.128203868865967, -1.6658824682235718, 1.3599200248718262, -2.2856552600860596, 1.9263842105865479, -0.04370521381497383, -3.004533052444458, -0.5122602581977844, 1.7743034362792969, -1.2167534828186035, -0.20258407294750214, -1.003648042678833, 1.2489328384399414, -1.6886707544326782, -0.6220423579216003, -3.6653878688812256, 0.8116308450698853, 2.147592067718506, -0.7963414192199707, -1.1474952697753906, -0.3846103549003601, 0.03636114299297333, -0.12483325600624084, -0.05226242169737816, -0.3950352966785431, 0.6532650589942932, 0.4373897910118103, 2.2538530826568604, 1.8225719928741455, 0.8355031609535217, 1.0662120580673218, 0.9387926459312439, -0.4934847354888916, -0.21210332214832306, 2.0825817584991455, 2.796252965927124, 1.9665294885635376, -0.12177685648202896, -1.0948081016540527, -0.7366775870323181, 0.46002447605133057, 0.43789157271385193, -2.2023777961730957, -0.5287160277366638, -0.1213473379611969, -0.49699831008911133, 0.2938326597213745, -2.892421007156372, 0.22364521026611328, -0.07113540172576904, 0.04155902937054634, 2.5398902893066406, -1.022672176361084, -0.3114066421985626, -0.4384181499481201, 1.1031162738800049, 1.1050204038619995, -2.1089937686920166, 0.3175954222679138, 0.6227453351020813, -0.5475790500640869, 0.7629030346870422, -0.8025850057601929, 0.5861206650733948, -0.5468202829360962, -0.4180745780467987, 3.3438782691955566, 1.3344169855117798, 0.24773137271404266, 0.284332275390625, 0.4549085199832916, 1.0699535608291626, 1.2765915393829346, 0.32085102796554565, -0.5116487145423889, 0.040988773107528687, -1.3536429405212402, -1.6506376266479492, -2.739217758178711, -0.5284320116043091, -1.9308397769927979, 0.2935112416744232, -1.6445021629333496, -0.8078659176826477, -0.9980567097663879, -1.4460313320159912, -0.1677696406841278, -1.4810553789138794, -1.9261521100997925, 1.2918704748153687, -1.5445263385772705, 1.3984800577163696, -0.5952209234237671, -1.0315254926681519, -0.007226350251585245, 1.256902813911438, -0.952481210231781, 0.23190227150917053, -2.0074117183685303, 10.012591361999512, -1.9937527179718018, -0.2201158106327057, -1.1642394065856934, -0.6085376739501953, -1.4811824560165405, -1.3792316913604736, 2.2350168228149414, -1.3235845565795898, 1.064247727394104, -0.595262885093689, 0.7832229733467102, -1.307951807975769, -0.5031853318214417, -0.9183007478713989, 0.06569302827119827, 1.059632420539856, 1.7417510747909546, -1.110128402709961, 2.1957590579986572, 0.7566167116165161, -0.7083522081375122, 0.9767296314239502, -0.1243320181965828, 0.9760889410972595, -1.259113073348999, -0.763685405254364, -0.360124796628952, 1.5625067949295044, -0.3905794024467468, 1.4521210193634033, 1.3388135433197021, -2.1492974758148193, 3.0345866680145264, 1.0750778913497925, 0.08296866714954376, -0.8311052322387695, 0.2449217289686203, 0.9251816868782043, 2.763066291809082, 0.25218793749809265, -2.804201126098633, -1.443254828453064, -0.4598771929740906, -0.48160943388938904, -1.2587205171585083, -0.5115714073181152, 0.8272212147712708, -1.4726029634475708, 1.4420742988586426, -0.07254017144441605, -2.206256866455078, -1.0697978734970093, 0.2613726556301117, 1.2070788145065308, 0.5919615030288696, 0.7102137207984924, 0.6331607103347778, 1.8946353197097778, 0.3442316949367523, 0.7606339454650879, 1.9750641584396362, 0.16357369720935822, -0.14780788123607635, -2.464470386505127, 1.542644739151001, 1.653511881828308, 1.2073456048965454, -0.7367935180664062, -1.579239010810852, 3.439025402069092, 0.8359020352363586, -0.35383376479148865, 1.8811612129211426, -0.2422168254852295, -3.019914388656616, 2.4523260593414307, 1.5271192789077759, -1.1584299802780151, 1.3943551778793335, -2.3850934505462646, 0.15255893766880035, 0.018326478078961372, -2.9681508541107178, 2.5793702602386475, 1.682082176208496, 1.4770357608795166, 0.7712695002555847, 0.021034305915236473, 2.0636253356933594, 0.053441718220710754, -2.9494733810424805, 0.30976206064224243, 1.8056433200836182, 2.7504799365997314, 2.2396891117095947, 0.02615082636475563, 1.5647029876708984, 0.5609549880027771, -0.5450422167778015, -0.766687273979187, -0.2232307642698288, -0.8877711892127991, -0.821479320526123, 1.2955272197723389, -0.4297889173030853, 0.5887027978897095, -1.2227386236190796, 1.1036772727966309, 2.755147695541382, 1.8831275701522827, -0.23758545517921448, 0.4327901303768158, 1.088268518447876, -0.9328404068946838, 0.02384013496339321, -0.3729081153869629, -1.7196085453033447, -1.7880131006240845, 0.8757655024528503, -1.851407527923584, -1.577775239944458, 1.478157639503479, 0.8751979470252991, 2.000924825668335, 11.319304466247559, -0.4793906807899475, 0.3789159059524536, 1.5305248498916626, -0.8244015574455261, -1.0608782768249512, -9.08081340789795, 0.3931439518928528, -0.5039352178573608, 0.3273989260196686, -0.7329068183898926, -1.120588779449463, -2.05204439163208, 1.2958509922027588, 0.659000813961029, -0.2196928709745407, -1.8766292333602905, -2.2064709663391113, 1.8303720951080322, -0.521877646446228, 0.3519762456417084, -0.9754460453987122, -1.1797895431518555, 0.14504247903823853, -0.5618324279785156, 1.4022754430770874, -1.9899277687072754, -0.9357894659042358, 2.0221927165985107, -1.2053860425949097, -1.1330019235610962, 2.2672133445739746, 1.2621744871139526, 1.0573633909225464, 2.243807554244995, -0.8653039932250977, 1.4816713333129883, -2.238773822784424, 0.5133719444274902, -1.0992690324783325, 1.9297231435775757, -2.1616291999816895, 0.8433987498283386, -1.5769004821777344, -2.76239013671875, 2.2281270027160645, -6.928970813751221, -0.7200230360031128, -1.8292262554168701, 0.4342208504676819, -0.6621661186218262, 0.378812700510025, -0.14936214685440063, -4.246854305267334, -1.4185171127319336, -0.7940811514854431, 1.0875688791275024, 0.0699116513133049, -0.8666692972183228, -0.3624630570411682, -0.23771609365940094, 0.965606689453125, 1.5584988594055176, -1.6238377094268799, -2.307039260864258, 2.458282709121704, -0.3340398967266083, -1.0056610107421875, 0.9243401288986206, 0.6793016791343689, 1.81689453125, 2.0369138717651367, -2.301588773727417, -0.7486112117767334, -0.5736938714981079, 0.3740230202674866, -0.1954224705696106, 1.7003834247589111, 0.5813395977020264, -0.6001819372177124, -3.0498273372650146, 0.44775933027267456, -0.7134813666343689, -1.8035845756530762, 1.1372249126434326, 1.5031377077102661, -2.702223062515259, -2.371504068374634, 0.42403265833854675, 1.2453582286834717, 0.42975908517837524, 2.1413557529449463, -0.1781705617904663, 2.2099177837371826, 3.0469419956207275, 2.1202452182769775, -0.4269329905509949, 1.038895845413208, 0.7642198801040649, 1.1460055112838745, 1.2196370363235474, 0.2090674638748169, -1.8864705562591553, -0.2756672203540802, -0.662975549697876, -3.4748942852020264, -0.8448252081871033, -0.8768747448921204, 0.7030675411224365, 1.096103549003601, 0.8396657705307007, -0.38831156492233276, 0.7777143716812134, 2.2884774208068848, 0.5077917575836182, -0.3826368749141693, -0.012348232790827751, -1.2935360670089722, -1.4211735725402832, 1.6498839855194092, 0.9825817942619324, 0.9113897681236267, 0.7105060815811157, -0.7497667670249939, 1.0705820322036743, 0.5996220111846924, 1.2310692071914673, 0.8089241981506348, 0.2886407673358917, 1.33199143409729, 0.14165306091308594, 1.7012277841567993, 0.6464918851852417, -0.14595440030097961, 0.9056607484817505, 0.9590648412704468, 1.971228003501892, -1.9780158996582031, 0.0739397183060646, -0.6014060974121094, 0.19943773746490479, 0.18949908018112183, -1.348996877670288, 0.4924972355365753, -2.259157180786133, 2.9092397689819336, 0.1559496819972992, 0.710066556930542, -1.9681824445724487, 0.804080069065094, 0.35437870025634766, 0.7457993030548096, -1.6159776449203491, 1.527612328529358, 1.6376630067825317, -1.50642728805542, 1.6684845685958862, -0.09445004910230637, 0.6553722023963928, -0.30172601342201233, -0.5260087251663208, 2.5738213062286377, 0.31899309158325195, -1.9643126726150513, -2.667736053466797, -0.07980062067508698, -0.23660820722579956, 1.9238084554672241, 0.3254255950450897, 0.04143631085753441, -2.0147461891174316, -0.8941874504089355, 0.11771425604820251, -1.6646262407302856, 0.5063146352767944, 2.132932424545288, 0.01103114802390337, 0.7018458843231201, -0.6219714879989624, -1.1990702152252197, -0.27434009313583374, -0.3609643578529358, -1.3664323091506958, -1.0809776782989502, 0.12843956053256989, 1.02955162525177, -2.7977776527404785, -1.3689132928848267, 0.5926089286804199, -0.9830622673034668, 1.8641819953918457, -3.025287389755249, 1.5131421089172363, -0.30858248472213745, 2.905911445617676, 1.1812442541122437, 0.032966744154691696, 3.4651472568511963, 0.4983673691749573, 3.0693461894989014, -0.3978672921657562, 0.12156467139720917, -1.155586838722229, 0.3812072277069092, 0.3342576026916504, 2.3161234855651855, -0.3382459580898285, 0.16985374689102173, -0.8367941379547119, -1.7010257244110107, 0.763789713382721, 0.44508472084999084, 1.4601292610168457, -0.7086087465286255, 0.9248622059822083, 0.507084846496582, 1.9899110794067383, 2.289870262145996, 1.1888476610183716, 0.8747037649154663, -1.9712755680084229, -0.8513044714927673, 2.9097957611083984, -1.7385225296020508, -0.061117611825466156, 1.674888014793396, -0.828570544719696, -0.10936395078897476, 2.060633897781372, -1.9915051460266113, -1.0633461475372314, -0.1269237995147705, 0.12012229114770889, 2.4679033756256104, -6.233124732971191, -0.33743253350257874, -2.414884567260742, -1.241754174232483, 1.467964768409729, -0.4360167682170868, -1.872129201889038, 2.122755527496338, 0.8248984813690186, 1.6847723722457886, 0.3230469822883606, -2.8027536869049072, 0.3701193928718567, -0.07130173593759537, 1.6989212036132812, -0.3858056664466858, -1.5361336469650269, 0.062383804470300674, 1.0611432790756226, -1.1895296573638916, -1.9652072191238403, -1.5513383150100708, 0.3670913279056549, 0.27454233169555664, -0.5679741501808167, 1.348926067352295, -0.09321446716785431, -1.567474603652954, -0.7159673571586609, 0.8994514346122742, -0.862598180770874, -0.5971980094909668, 1.8379536867141724, 1.2695298194885254, -0.20298384130001068, 0.38267025351524353, -1.1242527961730957, 1.6469287872314453, -1.26385498046875, -0.5312837958335876, 1.4513554573059082, 0.822602391242981, 1.1379120349884033, -2.157912254333496, -2.9016976356506348, 1.0855307579040527, 2.1921896934509277, 2.223444938659668, -1.0411564111709595, -0.5703304409980774, -0.5584785342216492, -1.4465458393096924, -1.9767849445343018, 0.9485531449317932, -0.9980584383010864, 2.93070912361145, 0.25558751821517944, -2.933607339859009, -2.132445812225342, 0.4364890456199646, 1.985697627067566, -0.22712969779968262, 0.22682100534439087, -1.1508711576461792, 0.9068000316619873, -0.029534492641687393, -1.2147436141967773, 1.4319899082183838, -1.1619818210601807, -0.7522371411323547, -0.5830105543136597, -0.11485428363084793, -1.0695017576217651, -1.6065540313720703, -0.9637048244476318, -0.8765245079994202, -2.2302794456481934, 1.7538933753967285, 0.43721771240234375, 0.6889850497245789, 0.055215366184711456, -0.532800555229187, -1.838158130645752, 0.2470676302909851, -0.8502519130706787, -0.6681249141693115, -1.2248972654342651, 1.3681055307388306, 0.6313489675521851, 0.5687381625175476, -1.4346561431884766, 0.4489559531211853, -0.5780444145202637, -2.593797206878662, 1.4645670652389526, 1.6466761827468872, 1.4259285926818848, -1.5975327491760254, 1.0364186763763428, 1.321858286857605, -0.661421000957489, 0.04803716018795967, 0.27112632989883423, -1.234262466430664, 2.1631345748901367, -2.563013792037964, -0.18894915282726288, -1.4362341165542603, -0.08517219871282578, 2.2669475078582764, -0.0595427080988884, 0.3931492865085602, -0.3102041482925415, -1.6866278648376465, -0.8909337520599365, 0.12020401656627655, 2.3537235260009766, 1.362200379371643, -0.2358713448047638, 0.08623874932527542, 1.5399564504623413, -1.9058854579925537, 1.138553500175476, 0.9666333794593811, -0.6483294367790222, -2.943129301071167, -0.563475489616394, -0.4856513738632202, -1.8866676092147827, -1.5091209411621094, 1.8249092102050781, -0.7762999534606934, -1.2067748308181763, -0.1805301010608673, 0.4854622185230255, -0.2040785402059555, -2.549288511276245, -0.9982023239135742, 0.9034346342086792, -0.5873473286628723, -1.3552743196487427, 1.423426628112793, 2.3544647693634033, -0.8323412537574768, 0.3898683488368988, 1.8417000770568848, 2.9257280826568604, 0.9178323149681091, -1.7381508350372314, -1.0249022245407104, 0.8198928236961365, -0.4072909653186798, 1.62739896774292, -1.7702388763427734, 0.36747437715530396, -0.10162366926670074, 1.134751558303833, -0.6127604842185974, 0.3750861585140228, -5.575202941894531, -0.3600521385669708, 1.3894752264022827, 1.0277667045593262, 1.5431339740753174, 2.140824317932129, 1.174383282661438, -1.605034351348877, -0.9246528148651123, -1.4858143329620361, 0.5650103688240051, -0.7118656635284424, 0.10918109118938446, -1.473501443862915, -0.9772087931632996, 0.47844651341438293, 1.0163254737854004, 0.20176899433135986, -1.1146583557128906, -0.22903944551944733, 0.2689857482910156, -1.6762597560882568, -2.0855014324188232, 0.2179836630821228, 0.5418392419815063, -0.4062540531158447, -1.239825963973999, 0.30465826392173767, 0.896342396736145, -0.13573266565799713, 0.8070282936096191, 0.6834842562675476, 1.557064175605774, -4.477434158325195, 0.0323043130338192, 0.3176717758178711, 2.2156450748443604, -0.8635758757591248, 1.67058527469635, -0.28333932161331177, -1.266271948814392, -2.7191874980926514, -0.03358672186732292, -1.5691205263137817, 0.7431730628013611, -1.9729129076004028, -1.1471922397613525, -2.298490524291992, -1.2094194889068604, 0.482452929019928, 1.3918867111206055, -0.6994919180870056, 0.5238518714904785, -2.3371970653533936, 1.3428215980529785, 2.264260768890381, 1.9340506792068481, -1.0587223768234253, 1.5028505325317383, -2.03287410736084, -1.0393074750900269, 1.3376835584640503, 1.0277026891708374, 0.41164281964302063, 0.7587774991989136, -2.376183032989502, -0.2660071551799774, 0.701626718044281, 1.4426236152648926, -1.5865732431411743, 0.5046758651733398, 2.394909620285034, 0.9156689643859863, -0.7219840884208679, 1.34625244140625, -0.0027659335173666477, 0.5092903971672058, 1.0066391229629517, 0.05735422670841217, 0.7580229640007019, 0.6289198398590088, -0.9770561456680298, 0.19459518790245056, -0.6698164939880371, -1.5128802061080933, -0.12405778467655182, 4.390735149383545, 0.7713226675987244, -0.484115332365036, 0.049439623951911926, 1.5882885456085205, -0.8022417426109314, 2.8788294792175293, 0.32611921429634094, 1.9263077974319458, 1.553840160369873, -2.284919261932373, -0.6253806948661804, -0.924427330493927, -1.2040512561798096, -0.3087379038333893, -0.013652083463966846, 1.2363255023956299, -1.048248529434204, 0.3257928490638733, -0.16957847774028778, 0.41941437125205994, 0.2458423227071762, -2.037031412124634, -0.5368333458900452, -0.470101922750473, -0.5797381401062012, -0.740646481513977, 0.3153306245803833, -0.2849641740322113, -0.43620002269744873, 0.9781410098075867, -0.7990117073059082, -0.21945516765117645, -1.2188104391098022, -1.1080985069274902, 1.7014185190200806, -1.4322819709777832, 3.6811587810516357, -2.39933705329895, 1.6488230228424072, -0.792095422744751, -0.01023557037115097, 0.8709592223167419, -1.47298002243042, 0.4728696048259735, 0.23190677165985107, -1.11272394657135, 1.623913049697876, 0.9261692762374878, 0.5113862752914429, -0.6264286041259766, -1.9135922193527222, 1.910053014755249, -18.783628463745117, 0.00017197997658513486, -1.167556881904602, -1.2557464838027954, -0.925277829170227, -0.540227472782135, 0.1504991352558136, -0.634225606918335, 0.5890997648239136, 0.3142293691635132, -1.421323299407959, 1.7653106451034546, 0.5775701999664307, 0.22154739499092102, 0.6333716511726379, 0.6699342727661133, 1.2133985757827759, 0.015588893555104733, 0.22605957090854645, 1.6721152067184448, 0.3931848704814911, -0.19196966290473938, -0.6808071732521057, -1.2130537033081055, 0.00590581214055419, -0.3981766998767853, -0.7016943693161011, 0.8271839618682861, -0.13626913726329803, 0.5443078875541687, -0.6334179043769836, 0.7321522831916809, 1.4307632446289062, 0.15933789312839508, -0.23528791964054108, -0.3901619017124176, 0.04617782309651375, -2.5033316612243652, -0.6560097336769104, 0.5716320872306824, -0.20143121480941772, -1.187910556793213, 1.4486991167068481, 0.23986168205738068, 0.21763049066066742, 0.9329846501350403, 2.073532819747925, -0.5224909782409668, -1.3997106552124023, 0.7074268460273743, -1.6557053327560425, -1.0938187837600708, -1.6195242404937744, 0.17777392268180847, -1.5146559476852417, 1.8367161750793457, 1.570398211479187, -0.23830753564834595, -0.45836371183395386, 0.1734776347875595, 0.6549381613731384, -3.0350053310394287, 1.3034238815307617, 0.309217244386673, 1.1329615116119385, -1.6460771560668945, -2.510366201400757, -2.3043200969696045, 0.5479398965835571, -0.611059308052063, 1.2234631776809692, 1.2360994815826416, 0.43071287870407104, 0.18966051936149597, 1.2271804809570312, 0.12590959668159485, 0.8814825415611267, -1.443245530128479, -1.0122318267822266, 2.285381317138672, -0.23049406707286835, -0.9964134693145752, 0.599807620048523, 1.0496948957443237, -0.41459599137306213, -3.4155027866363525, -0.9024673700332642, -0.13825646042823792, 0.34148815274238586, 1.617053508758545, -0.7220908403396606, -0.20729228854179382, 0.10787124186754227, -1.6154141426086426, 1.2627049684524536, 0.2222953736782074, -1.7320879697799683, 3.48899245262146, 1.0434850454330444, 1.763657808303833, -0.5583927631378174, 1.45954430103302, 0.6676520705223083, 0.2373615950345993, -10.961435317993164, 1.4894524812698364, 1.8157949447631836, -0.7952777743339539, 0.5065074563026428, -2.564784288406372, -2.2100956439971924, -0.3199686110019684, -1.1935373544692993, -0.32283851504325867, -2.5828418731689453, 0.3565525710582733, 1.2923896312713623, 0.16104213893413544, -2.1082324981689453, 1.7843371629714966, -0.7265336513519287, -1.0673831701278687, 0.44212478399276733, -1.2994648218154907, -0.9485226273536682, -0.001264080754481256, -0.7490596175193787, 2.673013210296631, -2.2901883125305176, 1.247712254524231, -1.9015183448791504, 0.36744871735572815, -0.03433636575937271, 0.9559909701347351, -1.1942332983016968, 0.26663196086883545, 2.2681779861450195, -0.230069100856781, -5.5030364990234375, 1.4184675216674805, 1.0775903463363647, -1.1076915264129639, 0.8997893333435059, 0.5306214094161987, -0.8385084867477417, -1.5674465894699097, -1.7367000579833984, 0.27019238471984863, -0.06959633529186249, 0.1560710370540619, -1.2951043844223022, 1.3112648725509644, 1.1484835147857666, 1.0603480339050293, 0.01671171560883522, -0.8774831891059875, 0.06960859149694443, 0.11382521688938141, -1.7499340772628784, 0.7003604769706726, 0.558488130569458, -2.462347984313965, 2.602267026901245, -1.324480414390564, 0.2608790099620819, -0.6479825377464294, 0.10962554812431335, -0.6977815628051758, -0.7203095555305481, 0.7115401029586792, 0.39545056223869324, 0.6679558157920837, -0.14213313162326813, 0.6298170685768127, -1.3137844800949097, 0.8581117391586304, 0.7900881767272949, -1.2121905088424683, 3.807297468185425, -0.9632494449615479, 1.0834674835205078, -0.7545517683029175, 0.4448776841163635, 2.603630542755127, -0.7184942364692688, -0.3918397128582001, 0.18987464904785156, -1.442152500152588, -0.1424158662557602, 1.1705647706985474, -0.6370097994804382, 2.4091451168060303, -0.755840539932251, -1.2540136575698853, 0.6531730890274048, -0.41729578375816345, 1.4239813089370728, 2.1420304775238037, -1.9906965494155884, -0.19708190858364105, -0.8125189542770386, -0.37369003891944885, 0.10964985936880112, 0.8424477577209473, 1.2917402982711792, -1.5533123016357422, 0.24805498123168945, 0.6747696399688721, -1.2080334424972534, 1.057928204536438, 0.5006402134895325, -1.350347876548767, 0.3883081376552582, 1.782424807548523, 2.3167779445648193, -1.170048475265503, 0.013443930074572563, -0.8612678050994873, -2.5600481033325195, -0.967094361782074, -0.3222721815109253, 0.27773675322532654, -0.5123069882392883, 2.362698554992676, -0.5863327980041504, 0.6256827712059021, 0.4599323868751526, 1.4302730560302734, -0.8427428007125854, -0.8772327899932861, 2.7515571117401123, 2.685335397720337, 0.08946795761585236, -2.766805410385132, -0.8324089646339417, -1.5714033842086792, 1.8326891660690308, 0.799281120300293, 0.221965953707695, -1.2640442848205566, -0.35707607865333557, 1.9866719245910645, -1.2215334177017212, 0.27873972058296204, 1.6198694705963135, -1.93120539188385, -0.055282484740018845, 0.9755237698554993, 0.7412741184234619, 1.0711052417755127, -0.5517839193344116, -1.8064134120941162, 0.6469603180885315, 0.22421544790267944, 2.5154356956481934, 0.6217113137245178, -0.9317777752876282, -0.1007569432258606, -0.9296653866767883, 2.784116506576538, -1.1310969591140747, -3.0387933254241943, 1.584989309310913, 0.8135439157485962, 0.5220652222633362, 0.22650782763957977, 0.3448773920536041, -0.19241464138031006, -0.12329470366239548, 2.559504985809326, -3.6014387607574463, 2.3553037643432617, -0.8517444133758545, 0.09886117279529572, -0.5749856233596802, -0.6889228820800781, 2.059133768081665, 4.210704803466797, 1.6886342763900757, 0.2291739284992218, 1.2326054573059082, -1.134881615638733, -1.197170376777649, -1.4678676128387451, -1.266322374343872, 0.7807685732841492, -0.4947758913040161, 0.14162708818912506, -1.5402088165283203, 1.14887273311615, -1.6726155281066895, 2.5312185287475586, 0.3902837634086609, -0.9404801726341248, 2.7952089309692383, 0.4985579252243042, 0.5404077172279358, -2.1324548721313477, 0.4775758981704712, 0.024601738899946213, 0.4423925578594208, -0.5167140364646912, 1.566286325454712, 0.6626152992248535, 1.8094587326049805, 0.4717717170715332, -0.4000319242477417, -1.0445277690887451, -0.06044060364365578, -1.559860348701477, 0.45659053325653076, 0.7295254468917847, -0.8710516691207886, 1.0264155864715576, -0.25383245944976807, 1.4313654899597168, 2.206746816635132, -0.8391070365905762, 0.20019008219242096, -0.9947261214256287, -0.5479356050491333, -2.08465313911438, 2.896218776702881, 1.512343168258667, 1.674888014793396, -0.753576397895813, 0.4494453966617584, 1.4671213626861572, 0.23492641746997833, 1.392572283744812, 0.5580886006355286, 1.7350999116897583, -1.2947797775268555, -2.436558485031128, -2.375880241394043, -0.18039408326148987, -2.793954610824585, -0.25860682129859924, -3.000493288040161, 0.7177934050559998, 0.7278717160224915, 1.0784492492675781, 0.5789922475814819, 0.5625922679901123, -0.003363795578479767, 0.9011026620864868, 1.1146938800811768, 0.7866947650909424, -0.657658576965332, -0.2830640971660614, -2.1884753704071045, -1.9485392570495605, -0.057228945195674896, -0.6364549398422241, 0.24012184143066406, 0.003959108609706163, 0.6494542360305786, -0.06042482331395149, 0.5055817365646362, 2.554546356201172, 1.9539291858673096, 0.5526993274688721, 1.882660984992981, 0.2845543622970581, 0.7617189288139343, 1.7739368677139282, 1.008385181427002, 2.969245195388794, 0.6918616890907288, 0.10928552597761154, -1.8520057201385498, -0.7076399326324463, -0.7085804343223572, 0.5220784544944763, -1.082129716873169, -0.5453093647956848, -0.2553713321685791, 0.9862402677536011, -1.04945969581604, -0.09116828441619873, 0.6412571668624878, -1.208770513534546, 0.7443887591362, 0.4111403226852417, 2.124445915222168, 1.5654380321502686, -0.18645526468753815, -1.037187099456787, 1.1280231475830078, 2.1356356143951416, -0.8988317251205444, -0.31109321117401123, -1.5299888849258423, 2.1738831996917725, -1.166038990020752, 0.4317775070667267, -0.4890553951263428, -0.5906581282615662, -0.8994231820106506, 1.7728796005249023, -1.3678154945373535, -1.060017704963684, -2.724426031112671, 0.7209199070930481, 1.485895037651062, 0.04978291690349579, 0.8277177214622498, 1.6877351999282837, 0.9233672618865967, 1.4624757766723633, -0.38092365860939026, 0.3912483751773834, -0.6601066589355469, -1.488929033279419, 1.5673720836639404, 1.6249587535858154, -0.931749701499939, 1.320413589477539, -0.7029398679733276, 2.520357847213745, 1.3399686813354492, 1.5044091939926147, -1.4110878705978394, -0.9295991063117981, -0.32163816690444946, 0.8183600902557373, -0.8851016163825989, -0.4289613366127014, 0.39358893036842346, -0.9236375093460083, 0.9152132272720337, -0.3798520863056183, -1.932403326034546, 0.9370205402374268, -1.8736648559570312, 0.5579954385757446, 1.519629955291748, -2.546649694442749, 0.5653479099273682, 0.6292915940284729, -1.1982821226119995, -1.7432106733322144, 0.5026019811630249, 0.03680146858096123, -1.118444561958313, -0.016739577054977417, 2.286112070083618, -1.012611985206604, 0.9865864515304565, 2.3163082599639893, -0.9020846486091614, -0.46325844526290894, 2.886655569076538, 1.20241117477417, 1.0955251455307007, -0.9653196930885315, -0.44633913040161133, 2.043834686279297, -0.139125257730484, -0.5456567406654358, -0.7785350680351257, 0.681998074054718, 2.361607551574707, 0.7069845795631409, -1.677855134010315, -0.5764606595039368, -1.0006699562072754, -1.5236549377441406, -1.8830524682998657, -0.16328756511211395, -1.7566330432891846, 0.3326887786388397, 2.1183574199676514, -0.3657783269882202, 1.232932209968567, -1.4902642965316772, -1.6331015825271606, -3.1134145259857178, 1.2398518323898315, -2.3451783657073975, -0.2393052726984024, -0.5616296529769897, 2.3903770446777344, 1.0554611682891846, -2.3743479251861572, 1.145534873008728, 1.2363978624343872, 0.5861163139343262, -0.9380075335502625, 1.502683401107788, -0.07798690348863602, -1.1093612909317017, -0.3995063304901123, 2.2348790168762207, 1.0739728212356567, 0.23027031123638153, 0.5074108242988586, -2.0882081985473633, 0.5683019757270813, -0.6468759775161743, -0.1008923202753067, 0.8374965190887451, 0.7006362676620483, -1.5335873365402222, -0.08649744093418121, -0.8273583650588989, 0.4564724266529083, -2.7190539836883545, 2.616096019744873, 0.46988797187805176, 0.7983614206314087, 0.18942636251449585, -1.3056312799453735, 0.1467820107936859, 2.2420928478240967, -1.544001579284668, -0.4018150866031647, -0.09259988367557526, -1.1952046155929565, 1.023078441619873, 1.7959247827529907, 2.0744612216949463, 2.917656421661377, 0.4408826231956482, 1.8972203731536865, -2.0392837524414062, 1.0906628370285034, 0.2774892747402191, 0.30630072951316833, -0.3909671902656555, -0.2953644096851349, -0.9452228546142578, 0.8203907012939453, -0.20911717414855957, 0.11548974364995956, 2.328017473220825, -0.2945288419723511, -1.5224627256393433, 0.6430277824401855, -0.016459688544273376, 1.0590264797210693, -0.8560165762901306, -0.0843442901968956, 0.17861104011535645, 1.4108229875564575, -0.6401029229164124, 1.3797653913497925, 2.5376102924346924, -1.0876470804214478, 2.057051658630371, -0.9691799283027649, -0.8366775512695312, 0.5536463856697083, -2.308795928955078, 1.1967562437057495, -0.9495419859886169, -0.5114259123802185, -0.20809516310691833, 1.1931095123291016, 6.862068176269531, 0.8814045190811157, -2.5794007778167725, 1.4732699394226074, 0.06535351276397705, 1.0339086055755615, 1.9044781923294067, -1.0696748495101929, 1.5123382806777954, 1.4569525718688965, 0.35356658697128296, 0.23563207685947418, -0.6843826770782471, -2.1742846965789795, -0.11919829249382019, 1.9589873552322388, -0.37063470482826233, 1.0489434003829956, 2.10670804977417, -0.168068528175354, -2.2460813522338867, -2.2431201934814453, -0.11399949342012405, -0.10545926541090012, 1.323707103729248, -0.5259977579116821, -1.209550142288208, 0.4395700991153717, -2.1686627864837646, 0.8388062119483948, -2.1971395015716553, -0.04067973047494888, 1.6080414056777954, 3.7253599166870117, 0.8013584613800049, 0.7040714621543884, 0.2578679323196411, -1.202164649963379, -0.808472752571106, -3.063971757888794, -1.2079073190689087, -0.9410842061042786, -0.8150656819343567, 0.34737828373908997, 0.255439817905426, -0.8335121870040894, 1.585949420928955, 1.148148536682129, -0.9382009506225586, -0.9048696160316467, 1.0592318773269653, 2.0564353466033936, 1.1665375232696533, 0.0015100102173164487, -0.12848719954490662, -1.2449920177459717, -1.010632872581482, -0.624009370803833, 0.30448925495147705, 3.0864951610565186, -2.091190814971924, 0.4940205514431, -0.1394086629152298, 1.3544065952301025, -0.09760677069425583, 2.0664920806884766, -1.2564412355422974, 0.44827428460121155, 1.7439296245574951, -0.43187960982322693, 0.5307101607322693, 0.43062788248062134, 0.7069843411445618, -1.7129426002502441, 1.96187162399292, 1.0333236455917358, 0.4791370928287506, -0.11071138828992844, -0.06449161469936371, 0.3065970242023468, 1.4895222187042236, -1.295493245124817, 1.2396442890167236, -2.702516794204712, 0.762326717376709, -1.4707870483398438, 0.4043342173099518, 0.2691885828971863, 0.8123053312301636, -1.1868393421173096, -0.14014889299869537, -2.638731002807617, 0.4390100836753845, 0.9073377847671509, -1.0628905296325684, -1.3976796865463257, 2.0329346656799316, 0.7454209923744202, 0.3918185234069824, 0.3784634470939636, -0.16828025877475739, 0.011146879754960537, -0.5482683777809143, -0.2434561848640442, -2.8590316772460938, -1.173525094985962, -1.901289463043213, 1.2605386972427368, -1.2431647777557373, 2.36126446723938, -0.025705190375447273, 0.5093188881874084, 1.7212753295898438, 0.630272626876831, 1.2449023723602295, 0.6768803000450134, -0.04442210868000984, 0.3197213113307953, -0.5377205014228821, -0.27466708421707153, -1.1829158067703247, 0.47479739785194397, -0.08671567589044571, 0.2024766206741333, 0.9762635827064514, 0.5881603956222534, -1.1083906888961792, 1.2834880352020264, -1.6998693943023682, -0.0369693748652935, 0.4392796754837036, -3.7022743225097656, -0.11084755510091782, 10.601102828979492, -0.861268937587738, 1.320298433303833, -0.11313977837562561, 1.775783896446228, -0.25018393993377686, 1.9041941165924072, 0.8806678056716919, 1.252487301826477, 0.12894876301288605, -0.017740894109010696, -0.40026524662971497, 0.9353862404823303, 1.6729736328125, 0.06703606992959976, 1.028529167175293, 0.8414196372032166, 1.5212681293487549, 1.740562915802002, -0.10649995505809784, 0.16263434290885925, -0.04205898568034172, -1.0964535474777222, 1.7376670837402344, -2.5413978099823, -0.15474985539913177, 0.8778150081634521, -2.3127028942108154, -0.016702890396118164, 0.9026339054107666, 1.362227439880371, 0.6269549131393433, 0.08545877784490585, 0.3018730878829956, -0.21642614901065826, 0.31129205226898193, 1.253843069076538, -0.09914388507604599, -1.6184648275375366, -2.1767287254333496, 2.5284814834594727, 0.04631422087550163, 1.1432032585144043, -2.0468671321868896, -0.8002279996871948, -0.6268349289894104, 0.9541202187538147, -0.2134053260087967, -2.2773327827453613, 0.6803816556930542, 3.1465160846710205, 1.187491774559021, -1.0487267971038818, -1.1207892894744873, 1.1985256671905518, -0.14591680467128754, 0.9636330604553223, -1.9847345352172852, 2.225836753845215, -1.207281231880188, 1.6364035606384277, 1.4917279481887817, 0.8161118030548096, 1.6149929761886597, 0.7988194823265076, 0.03849460929632187, -0.17063242197036743, -0.16458986699581146, 1.0979045629501343, 2.3732805252075195, 1.5403523445129395, 1.0622527599334717, 0.8680931925773621, 0.43298131227493286, -0.17905639111995697, 2.6775825023651123, -0.5021295547485352, -2.2381060123443604, -1.0991908311843872, -1.9472734928131104, 0.1827431321144104, -1.9153058528900146, -0.29676342010498047, -3.469548463821411, 1.6541668176651, 1.137977957725525, 2.850886344909668, 0.06970838457345963, -1.5415409803390503, -0.7386607527732849, 1.921273946762085, 0.18163812160491943, 0.7408203482627869, 1.3360652923583984, -0.8466127514839172, -1.3180090188980103, 1.6193373203277588, -1.0203890800476074, -3.200801134109497, 1.3303210735321045, 0.9525651931762695, -1.8203421831130981, 2.2216506004333496, 0.3352721929550171, -0.8620293736457825, 0.09429072588682175, 0.7849067449569702, -0.2759803235530853, -0.9609299898147583, 1.1457058191299438, 0.9290739893913269, 3.1588900089263916, -1.1043986082077026, 2.364931106567383, 0.9882513284683228, 0.9515082240104675, 0.8517202138900757, 0.86728835105896, 1.10451340675354, -0.7986174821853638, -2.4773621559143066, -0.46438977122306824, 0.7145398855209351, 0.1858973503112793, 0.7498465180397034, 0.9318565130233765, -1.7492055892944336, -0.708919882774353, -0.022897539660334587, -0.5344236493110657, 1.8266971111297607, 0.5075839757919312, -0.23679713904857635, -0.0361381359398365, -0.34370434284210205, -1.9234659671783447, 1.5627142190933228, 1.6176427602767944, 2.499422788619995, 0.3259304165840149, -0.25674185156822205, -0.3107951581478119, -0.5369725823402405, -0.019010262563824654, -1.476412296295166, -1.5933477878570557, -0.21282252669334412, -1.5059642791748047, 0.6152821779251099, 0.020572485402226448, 0.7318214178085327, 1.3748782873153687, 1.4281762838363647, 0.1011953055858612, -1.533270001411438, -2.5389204025268555, -1.10317862033844, 2.7427573204040527, 0.10402470082044601, -1.3928122520446777, 0.3093777894973755, -0.23179632425308228, 0.27652209997177124, -1.0580655336380005, -1.025115966796875, 1.9387725591659546, 0.33191436529159546, 1.3378275632858276, 0.2648897171020508, -2.955264091491699, -1.4688578844070435, -0.7590169310569763, 0.8053215742111206, 3.4617512226104736, 1.1619951725006104, -0.23731310665607452, 1.4321746826171875, 0.7639198303222656, -0.6787343621253967, -0.18145892024040222, -2.8645823001861572, 2.9525704383850098, -0.9456354975700378, 0.3052317202091217, 2.729752540588379, -1.4584206342697144, -1.007582187652588, 1.7000716924667358, 2.0680363178253174, 3.4096062183380127, 0.41453424096107483, 1.8794084787368774, 0.6455537676811218, 1.8469483852386475, -2.0665793418884277, 0.5913887619972229, -0.9602941274642944, 1.7122434377670288, -0.0792744904756546, -1.9556382894515991, 2.148892879486084, -0.5515832901000977, 3.761003255844116, -1.2328423261642456, 0.5572510361671448, -2.88567852973938, 2.3677353858947754, 0.9554507732391357, 0.10652527958154678, -1.2292126417160034, 0.5869750380516052, -0.5691692233085632, 0.2417987436056137, 0.575555145740509, 0.4442662298679352, 1.6863564252853394, -2.805847406387329, 0.19096821546554565, 0.05520161986351013, -2.0151474475860596, -0.5948758721351624, -3.0585925579071045, -1.2300845384597778, -1.2120200395584106, -0.679031491279602, -0.4465954899787903, -1.5698257684707642, 1.5348774194717407, -0.536215603351593, -0.37766948342323303, 0.42365762591362, 2.5666704177856445, -1.7818419933319092, -2.3345465660095215, -0.653239369392395, -0.956172525882721, 0.7686525583267212, -2.8329904079437256, -1.6149054765701294, 1.9776489734649658, -0.7448781728744507, 1.7670565843582153, -1.4885917901992798, -2.5293681621551514, -0.13996662199497223, -0.21724440157413483, -0.7558435797691345, -0.3380550444126129, 0.3928092420101166, -0.7990326881408691, -1.9748492240905762, -0.30725687742233276, -1.2023135423660278, -0.941279411315918, -2.5744190216064453, -1.5913525819778442, 1.2151949405670166, 1.38166344165802, 0.12064885348081589, 0.33657106757164, 1.4266183376312256, 1.0852272510528564, 2.257248878479004, 0.3006264269351959, 1.637554407119751, 0.1130731850862503, 0.23850640654563904, 0.7393019199371338, 2.591949701309204, 1.0651129484176636, -0.18459179997444153, 3.038599967956543, -0.4645583927631378, 0.434831827878952, -0.258646160364151, 0.22397075593471527, -1.3998112678527832, 1.15740168094635, -0.18826670944690704, -0.5939093828201294, 0.9938307404518127, -3.645207166671753, 0.3770744800567627, 0.5694951415061951, 0.018538331612944603, -1.5963791608810425, 1.1265507936477661, 2.577681064605713, -2.5167956352233887, -2.641364336013794, 0.6480957269668579, 1.8509941101074219, 2.6420950889587402, -2.607558012008667, 1.837808609008789, 1.1059290170669556, 4.4836273193359375, -0.2725203335285187, -0.001604897202923894, 0.6205882430076599, 0.593237042427063, 1.2423665523529053, 1.3980071544647217, 2.3297641277313232, -0.2707827389240265, 0.6550480723381042, 0.10352396965026855, -0.6226930618286133, -0.1688748151063919, 2.929522752761841, -1.0838046073913574, -0.4524824619293213, 0.3457164168357849, 0.09175436198711395, -0.23531080782413483, 0.46514567732810974, 1.1573518514633179, 2.506230592727661, -0.26230084896087646, 0.2058282047510147, -0.1437751203775406, -0.6811164617538452, 0.40862250328063965, -0.6818754076957703, -0.1934390813112259, 2.7479145526885986, -1.0304679870605469, 0.3204711079597473, -0.8938164114952087, 0.9993060827255249, -0.2960886061191559, -1.3988823890686035, 1.8197773694992065, 0.564612627029419, 0.9280065298080444, -0.3535667657852173, -2.075263738632202, 4.743673324584961, -0.39109286665916443, 0.9226303696632385, -0.8041223287582397, -0.40454795956611633, 0.31703582406044006, -2.6613826751708984, 0.5247014760971069, -0.08686082065105438, -0.7841857671737671, 1.4859018325805664, 0.4325863718986511, 0.3022158145904541, 2.9823520183563232, -1.5258479118347168, 0.6398525834083557, 0.9593119025230408, -3.723630666732788, -0.4674564003944397, 4.280242443084717, 0.7693464756011963, -0.8925518989562988, 1.6925761699676514, 1.2401527166366577, 0.8277156352996826, -7.874063014984131, -1.949536681175232, -1.7218865156173706, 1.6219677925109863, -0.3396414518356323, -2.6190388202667236, 0.4960588216781616, -1.0715910196304321, 1.519423484802246, -0.3615209460258484, 1.5748502016067505, 0.4705585837364197, -1.533189058303833, -1.5233750343322754, -1.4649951457977295, 0.9827008247375488, 0.016107292845845222, 0.18104760348796844, 3.7304635047912598, -2.5490634441375732, 0.9154098629951477, 1.3917335271835327, 1.3461778163909912, -1.3295105695724487, 1.0015943050384521, -1.6310211420059204, -0.868954062461853, 1.253456711769104, -0.7635235786437988, -0.7348304986953735, -0.5997849702835083, 0.1524730622768402, 1.7997115850448608, -1.4452818632125854, 0.18911729753017426, -0.10566913336515427, 1.341233253479004, 0.28819939494132996, -0.2047327160835266, -2.8830726146698, 1.3787697553634644, 0.7731708288192749, -0.662415623664856, -0.02199869602918625, 3.120241403579712, 4.509631633758545, 1.330626130104065, -0.5556539297103882, 2.0440852642059326, -0.08779671043157578, 0.050482116639614105, -0.8638772368431091, -1.1741403341293335, 0.8997922539710999, -0.7830692529678345, 1.3631082773208618, 1.4596753120422363, 0.10296311974525452, -0.8438674807548523, -0.4759361743927002, -0.04699762910604477, 0.27236923575401306, -1.625503659248352, -1.8649523258209229, -0.494002103805542, -2.2539823055267334, 0.2649358808994293, -1.267285943031311, 0.048654552549123764, -1.4002691507339478, -1.6233597993850708, 0.5934183597564697, 0.4102468192577362, -0.12018789350986481, -1.6589499711990356, 0.40956273674964905, 0.23068471252918243, 1.6490893363952637, -0.6005152463912964, -2.522129774093628, -0.22289828956127167, 0.6208193302154541, -3.039292335510254, 1.486223816871643, -0.49411770701408386, -0.35608693957328796, -1.2272601127624512, -0.5918933153152466, 0.9053485989570618, -0.054689619690179825, -0.4687441885471344, 0.6259333491325378, 0.6864804625511169, -0.6567138433456421, 1.8938617706298828, 0.26910704374313354, 0.28006190061569214, 0.8849780559539795, -1.0125112533569336, -1.754621148109436, 0.06624343991279602, 1.8706344366073608, -0.5005146265029907, -3.1069986820220947, 0.0523589663207531, 0.10959789156913757, -0.45508238673210144, 0.9111316204071045, -1.8520011901855469, 0.5394166111946106, 0.2517336905002594, -0.38526466488838196, 0.633462131023407, 1.1301811933517456, 2.3475518226623535, -0.231916606426239, -1.421081304550171, 2.5247058868408203, -0.22154644131660461, -0.017617329955101013, -0.7418022155761719, -1.782899260520935, 0.7648663520812988]\n"
     ]
    }
   ],
   "source": [
    "input_text = \"Today I am happy\"\n",
    "vector = embeddings.embed_query(input_text)\n",
    "print(vector)"
   ]
  },
  {
   "cell_type": "markdown",
   "id": "fe80bf94cddd3a4b",
   "metadata": {},
   "source": [
    "### Vectorstore\n",
    "\n",
    "Los embeddings se guardan en databases especiales (aquí se usa FAISS) que permiten almacenar y extraer de manera eficiente la información de los embeddings, comparando  el significado semántico de los queries con el significado semántico de las palabras almacenadas en los embeddings."
   ]
  },
  {
   "cell_type": "markdown",
   "id": "1ad801414caa05a8",
   "metadata": {},
   "source": [
    "### Carga y lee el documento pdf"
   ]
  },
  {
   "cell_type": "code",
   "execution_count": 10,
   "id": "ffd567c46dd02604",
   "metadata": {
    "ExecuteTime": {
     "end_time": "2024-12-04T14:31:59.478646Z",
     "start_time": "2024-12-04T14:31:59.476090Z"
    }
   },
   "outputs": [],
   "source": [
    "pdf_path=\"PeterPan.pdf\""
   ]
  },
  {
   "cell_type": "code",
   "execution_count": 11,
   "id": "1098989cedb45615",
   "metadata": {
    "ExecuteTime": {
     "end_time": "2024-12-04T14:32:01.865069Z",
     "start_time": "2024-12-04T14:32:01.723187Z"
    }
   },
   "outputs": [],
   "source": [
    "text =''\n",
    "with open(pdf_path,'rb') as file:\n",
    "    pdf_reader = PdfReader(file)\n",
    "    for page in pdf_reader.pages:\n",
    "        text += page.extract_text()\n"
   ]
  },
  {
   "cell_type": "code",
   "execution_count": 12,
   "id": "6699b105d9d5a808",
   "metadata": {
    "ExecuteTime": {
     "end_time": "2024-12-04T14:32:03.705858Z",
     "start_time": "2024-12-04T14:32:03.703367Z"
    }
   },
   "outputs": [
    {
     "name": "stdout",
     "output_type": "stream",
     "text": [
      "Hace tiempo, allá por 1880, vivía en la ciudad de Londres la familia Darling. Estaba \n",
      "formada por el señor y la señora Darling y sus hijos: Wendy, Michael y John. Sin \n",
      "olvidarnos de Nana, por supuesto, el perro niñera.  \n",
      " \n",
      "Vivían felices y tranquilos hasta que Peter Pan llegó a sus vidas. Todo comenzó la \n",
      "noche en que Nana tenía el día libre y la señora Darling se quedó a cargo de sus hijos. \n",
      "Cuando todos, incluida ella, estuvieron dormidos el muchacho entró por la ventana. \n",
      "Pero entonces ella se despertó  y se asustó tanto al verle que lanzó un fuerte grito. \n",
      "Entonces apareció Nana, que cerró la ventana para evitar que saliera y acabó \n",
      "atrapando su sombra. Y así fue como la sombra de Peter Pan acabó en un cajón de la \n",
      "casa de los Darling.  \n",
      " \n",
      "Una noche el señor y la señora Darling salieron a cenar a casa de los vecinos del \n",
      "número 27. Los niños se quedaron en casa al cuidado de Nana y no tardaron en \n",
      "quedarse todos dormidos.  \n",
      "Pero cuando la casa estaba en silencio, entró una diminuta hada revoloteando a gran \n",
      "velocidad y tras ella, Peter Pan, dispuesto a recuperar su sombra. La encontró en el \n",
      "cajón en el que la había guardado Nana pero se entristeció mucho cuando comprobó \n",
      "que la sombra no le seguía. Probó a pegársela con jabón pero no dio resultado y \n",
      "desesperado se se ntó en el suelo a llorar.  \n",
      " \n",
      "- ¿Quién está llorando? - preguntó Wendy, a quien despertaron los sollozos.  \n",
      "- Soy yo - contestó Peter  \n",
      "- ¿Cómo te llamas? - preguntó la niña, aunque ella estaba casi segura de saber quien \n",
      "era \n",
      "- Peter Pan  \n",
      "- ¿Y qué te pasa Peter?  \n",
      "- Que no consigo que mi sombra se me quede pegada  \n",
      "- Tranquilo. Creo que podré cosértela  \n",
      " \n",
      "Wendy ayudó a Peter y mientras los dos niños comenzaron a hacerse amigos.  \n",
      " \n",
      "- Yo vivo en el País de Nunca Jamás. Es maravilloso, allí eres siempre un niño y no \n",
      "tienes que  obedecer a nadie. Conmigo viven los Niños perdidos, ya sabes, los niños \n",
      "que caen de los carritos cuando la niñera mira a otro lado. Además hay piratas, \n",
      "hadas, indios y toda clase de seres.  \n",
      " \n",
      "Peter decía que era muy feliz allí aunque reconoció que a él y a los Niños perdidos les \n",
      "gustaría que hubiese alguien que les contara cuentos como hacía ella con sus \n",
      "hermanos. Peter le propuso ir con él al País de Nunca Jamás y a Wendy le pareció de \n",
      "inmediato una idea maravillosa.  \n",
      " \n",
      "- Pero, ¿y mis hermanos? ¿pueden venir ellos también?  \n",
      "- Si tu quieres, ¡claro!  - ¡Estupendo!  \n",
      " \n",
      "Wendy despertó a Michael y John y Peter para iniciar su viaje. Pero antes de partir \n",
      "Peter les explicó que debían aprender a volar. Les echó un poco de polvo de hada por \n",
      "encima y enseguida los tres niños comenzaron a elevarse por el aire. A t odos les \n",
      "pareció muy divertido y comenzaron a dar vueltas y más vueltas por la casa. Armaron \n",
      "tal revuelo que acabaron despertando a Nana.  \n",
      " \n",
      "Peter la oyó venir así que pudieron volver a sus camas rápidamente como si no \n",
      "hubiese pasado nada. Así, cuando la niñ era entró en la habitación creyó que los tres \n",
      "dormían plácidamente.  \n",
      " \n",
      "Pero Nana estaba intranquila y estaba casi segura de que algo raro estaba ocurriendo \n",
      "en el cuarto de los niños, de modo que corrió a avisar a los señores Darling. Pero \n",
      "cuando volvieron, l os niños ya no estaban. Los tres habían partido rumbo a Nunca \n",
      "Jamás nerviosos e ilusionados por vivir aquella fantástica aventura.  \n",
      " \n",
      "Volaron durante días atravesando océanos pero al final llegaron al país de Nunca \n",
      "Jamas.  \n",
      " \n",
      "Al primero que vieron desde el aire  fue al temible capitán Garfio, el peor enemigo de \n",
      "Peter Pan. En una lucha hacía tiempo Peter había logrado arrebatarle la mano \n",
      "derecha y por eso el pirata llevaba en su lugar ahora un garfio. Pero lo manejaba \n",
      "perfectamente y eso, unido a sus ganas de veng anza, lo hacían muy peligroso. \n",
      "Aunque había algo a lo que el capitán Garfio tenía miedo: el cocodrilo. Una vez estuvo \n",
      "a punto de comérselo y por eso ahora no quería otra cosa que no fuese él. Menos mal \n",
      "que el capitán le arrojó un reloj y por eso ahora hací a tic-tac cada vez que se \n",
      "acercaba.  \n",
      " \n",
      "Llegaron hasta el lugar donde estaban los Niños perdidos. Pero Campanilla, que \n",
      "estaba muy celosa de Wendy porque estaba todo el tiempo junto a Peter, se adelantó \n",
      "para tramar algo.  \n",
      " \n",
      "- Peter dice que ataqueis a Wendy - le dijo a los Niños perdidos.  \n",
      "- ¡De acuerdo! - contestaron todos al unísono corriendo a por sus arcos y flechas  \n",
      " \n",
      "Así que los niños comenzaron a disparar sus arcos y flechas hacia Wendy y sus \n",
      "hermanos. Pero afortunadamente no les pasó nada.  \n",
      " \n",
      "En cuanto llegó P eter detrás de todos les echó una gran bronca.  \n",
      " \n",
      "- ¿Pero qué hacéis? ¡Encima que os traigo a una madre para que os cuente cuentos la \n",
      "recibís así!  \n",
      " Los Niños perdidos, que iban vestidos con las pieles de los osos que cazaban, se \n",
      "disculparon y Peter les presentó a Wendy y a los demás.  \n",
      " \n",
      "- Estos son Tootles, Slightly, Nibs, Curly y los gemelos  \n",
      "- Hola - contestó la muchacha - Estos son mis hermanos Michae l y John y yo soy \n",
      "Wendy.  \n",
      " \n",
      "Wendy y sus hermanos decidieron quedarse allí y junto con los Niños perdidos y Peter \n",
      "formaron una gran familia que vivía feliz en su guarida subterránea.  \n",
      " \n",
      "Un día estaban los niños jugando en la laguna de las sirenas, concretamente  en la \n",
      "Roca de los Desamparados, cuando sucedió algo extraño. De repente el Sol \n",
      "desapareció por completo, se hizo de noche y entre las sombras apareció un bote \n",
      "con dos de los piratas de Garfio, Smee y Starkey, que llevaban como prisionera a la \n",
      "princesa ind ia Tigridia. Peter, Wendy y los demás se escondieron y vieron como \n",
      "arrojaban a Tigridia sobre la Roca de los Desamparados. Entonces a Peter se le \n",
      "ocurrió una idea.  \n",
      " \n",
      "- ¡Soltadla! - dijo a los piratas imitando la voz del capitán Garfio  \n",
      "- ¿Capitán? - dijeron los dos piratas mirando a todos los lados  \n",
      "- ¡Ya me habéis oído! ¡Hacedlo!  \n",
      " \n",
      "Así que los piratas cortaron las cuerdas que apresaban a la princesa. Entonces \n",
      "apareció por la laguna el capitán Garfio a bordo de su barco. Iba para contarles que \n",
      "sabía que los Niñ os perdidos habían encontrado una madre y de ninguna manera \n",
      "podían permitirlo.  \n",
      " \n",
      "- Los raptaremos, los obligaremos a lanzarse por la borda y Wendy se convertirá en \n",
      "nuestra madre.  \n",
      "- ¡Sí! ¡Es una idea estupenda capitán!, contestaron Smee y Starkey  \n",
      " \n",
      "Wendy se q uedó pálida al oír aquello y Peter, que no aguantó más callado, de nuevo \n",
      "imitó la voz de Garfio. Pero esta vez el pirata fue más listo que en otras ocasiones y \n",
      "supo que se trataba de Peter Pan. Lo encontró y luchó contra él hasta que logró \n",
      "herirlo con su g arfio, mientras los niños escapaban en el bote. Wendy se salvó gracias \n",
      "a la ayuda de las sirenas y a la cometa que Michael había perdido unos días antes y \n",
      "que apareció por allí, mientras que Peter logró sobrevivir gracias a la ayuda de la \n",
      "pájara de Nunca J amás.  \n",
      " \n",
      "Aquella aventura hizo que Peter se hiciera muy amigo de los indios pieles rojas, pues \n",
      "le estaban agradecidos por haber salvado a la princesa Tigridia y prometieron \n",
      "defenderlo con sus arcos y flechas del ataque de los piratas.  \n",
      " \n",
      "Una noche estaba Wendy  contando a los niños su cuento de antes de ir a dormir cuando habló de las madres, de lo buenas y atentas que son con sus hijos. Peter no \n",
      "estuvo de acuerdo con las ideas de Wendy y discutió con ella y al mismo tiempo los \n",
      "hermanos de la muchacha empezaron a sentir nostalgia por lo que entre todos \n",
      "decidieron que  había llegado el momento de volver a casa.  \n",
      " \n",
      "- Nos iremos esta misma noche - contestó tajante Wendy  \n",
      " \n",
      "Los Niños perdidos se sintieron muy tristes al oír esto y decidieron que se irían con \n",
      "ella. No así Peter, que de ninguna manera quería abandonar el país de  Nunca Jamás. \n",
      "Al menos se preocupó porque Campanilla y los pieles rojas acompañaran a los niños \n",
      "por el bosque en su camino de vuelta a Inglaterra.  \n",
      " \n",
      "Pero en su camino de vuelta surgieron nuevas complicaciones. Los piratas estaban al \n",
      "corriente de que iban a pasar por allí y los esperaban encaramados a los árboles del \n",
      "bosque. Los niños, y tampoco Peter Pan, se podían esperar algo así, así que los \n",
      "cogieron desprevenidos.  \n",
      " \n",
      "Mientras tanto Garfio acudió a la guarida secreta de Peter, donde el muchacho \n",
      "pasaba el ti empo en soledad haciendo ver que no le importaba haberse quedado \n",
      "solo. El pirata y se escondió dentro de un tronco y esperó a que Peter se durmiera para \n",
      "echar en un vaso que tenía el muchacho junto a su cama un poco del veneno secreto \n",
      "y mortal que siempre llevaba consigo. Esta vez conseguiría acabar con él.  \n",
      " \n",
      "Pero en mitad de la noche Campanilla llegó para contarle a Peter lo ocurrido y \n",
      "advertirle de que sabía que el capitán Garfio le había echado veneno en su vaso. Así \n",
      "que Peter salió veloz con sus armas di spuesto a rescatar a los niños.  \n",
      " \n",
      "Peter llegó hasta el barco de los piratas, el Jolly Roger, un barco siniestro en el que los \n",
      "niños estaban a punto de ser obligados a saltar por la pasarela al mar.  \n",
      " \n",
      "Los piratas estaban atando a Wendy al palo mayor en ese mo mento cuando de \n",
      "repente sonó algo que nadie esperaba... Tic- tac, tic-tac, tic-tac...  \n",
      " \n",
      "- ¡Es ese maldito cocodrilo! ¡Rápido Smee escóndeme! ¡No dejes que me coja! - gritó \n",
      "Garfio preso del pánico  \n",
      " \n",
      "Pero allí no había ningún cocodrilo, era Peter, que hábilment e se había hecho pasar \n",
      "por él. en cuanto Garfio fue a su camarote a esconderse Peter apareció en la cubierta \n",
      "del barco de un salto y empezó a acabar con los piratas uno por uno. Pero desde sus \n",
      "aposentos Garfio dejó de oír el tic -tac y creyó que el cocodrilo hab ía huido y podía \n",
      "salir de nuevo.  \n",
      " \n",
      "Al salir Garfio se encontró con varios piratas muertos. Nadie sabía qué había ocurrido \n",
      "exactamente así que todos empezaron a pensar que el barco estaba maldito pues ya se sabe que los piratas son algo supersticiosos. Estaban a punto de lanzar a Wendy \n",
      "por la borda convencidos de que era ella quien atraía a la mala suerte, cuando Peter \n",
      "salió de su escondrijo para evitarlo.  \n",
      " \n",
      "- ¡Joven descarado, prepárate para morir! – dijo Garfio  \n",
      "- ¡De eso nada maldito capitán Garfio! ¡No es mi hora sino la tuya! - contestó el \n",
      "valiente Peter Pan  \n",
      " \n",
      "Se enzarzaron en una violenta lucha de espadas y al final Garfio acabó gravemente \n",
      "herido en las costillas, tanto, que no vio salida y decidió lanza rse por la borda sin \n",
      "saber que el cocodrilo lo estaba  \n",
      " \n",
      " \n",
      " \n"
     ]
    }
   ],
   "source": [
    "print(text)"
   ]
  },
  {
   "cell_type": "markdown",
   "id": "18e973d9f166748b",
   "metadata": {},
   "source": [
    "### Divide el texto "
   ]
  },
  {
   "cell_type": "code",
   "execution_count": 13,
   "id": "25353da34d30a4e8",
   "metadata": {
    "ExecuteTime": {
     "end_time": "2024-12-04T14:32:07.012895Z",
     "start_time": "2024-12-04T14:32:07.010001Z"
    }
   },
   "outputs": [],
   "source": [
    "#text_splitter=SemanticChunker(embeddings, breakpoint_threshold_type=\"percentile\")\n",
    "text_splitter = RecursiveCharacterTextSplitter(chunk_size=1000, chunk_overlap=150)"
   ]
  },
  {
   "cell_type": "code",
   "execution_count": 14,
   "id": "f4d1b1164806d725",
   "metadata": {
    "ExecuteTime": {
     "end_time": "2024-12-04T14:32:09.236510Z",
     "start_time": "2024-12-04T14:32:09.232542Z"
    }
   },
   "outputs": [],
   "source": [
    "docs = text_splitter.split_text(text)"
   ]
  },
  {
   "cell_type": "code",
   "execution_count": 15,
   "id": "3c4fabf18c61c53c",
   "metadata": {
    "ExecuteTime": {
     "end_time": "2024-12-04T14:32:11.789386Z",
     "start_time": "2024-12-04T14:32:11.783638Z"
    }
   },
   "outputs": [
    {
     "data": {
      "text/plain": [
       "list"
      ]
     },
     "execution_count": 15,
     "metadata": {},
     "output_type": "execute_result"
    }
   ],
   "source": [
    "type(docs)"
   ]
  },
  {
   "cell_type": "code",
   "execution_count": 16,
   "id": "8c01f89c563dff99",
   "metadata": {
    "ExecuteTime": {
     "end_time": "2024-12-04T14:32:14.623608Z",
     "start_time": "2024-12-04T14:32:14.619041Z"
    }
   },
   "outputs": [
    {
     "data": {
      "text/plain": [
       "12"
      ]
     },
     "execution_count": 16,
     "metadata": {},
     "output_type": "execute_result"
    }
   ],
   "source": [
    "len(docs)"
   ]
  },
  {
   "cell_type": "code",
   "execution_count": 17,
   "id": "450a5696af94749a",
   "metadata": {
    "ExecuteTime": {
     "end_time": "2024-12-04T14:32:16.887387Z",
     "start_time": "2024-12-04T14:32:16.883469Z"
    }
   },
   "outputs": [
    {
     "data": {
      "text/plain": [
       "'Hace tiempo, allá por 1880, vivía en la ciudad de Londres la familia Darling. Estaba \\nformada por el señor y la señora Darling y sus hijos: Wendy, Michael y John. Sin \\nolvidarnos de Nana, por supuesto, el perro niñera.  \\n \\nVivían felices y tranquilos hasta que Peter Pan llegó a sus vidas. Todo comenzó la \\nnoche en que Nana tenía el día libre y la señora Darling se quedó a cargo de sus hijos. \\nCuando todos, incluida ella, estuvieron dormidos el muchacho entró por la ventana. \\nPero entonces ella se despertó  y se asustó tanto al verle que lanzó un fuerte grito. \\nEntonces apareció Nana, que cerró la ventana para evitar que saliera y acabó \\natrapando su sombra. Y así fue como la sombra de Peter Pan acabó en un cajón de la \\ncasa de los Darling.  \\n \\nUna noche el señor y la señora Darling salieron a cenar a casa de los vecinos del \\nnúmero 27. Los niños se quedaron en casa al cuidado de Nana y no tardaron en \\nquedarse todos dormidos.'"
      ]
     },
     "execution_count": 17,
     "metadata": {},
     "output_type": "execute_result"
    }
   ],
   "source": [
    "docs[0]"
   ]
  },
  {
   "cell_type": "code",
   "execution_count": 22,
   "id": "80205f8a850026b1",
   "metadata": {
    "ExecuteTime": {
     "end_time": "2024-12-04T14:32:19.994279Z",
     "start_time": "2024-12-04T14:32:19.989903Z"
    }
   },
   "outputs": [
    {
     "data": {
      "text/plain": [
       "'encima y enseguida los tres niños comenzaron a elevarse por el aire. A t odos les \\npareció muy divertido y comenzaron a dar vueltas y más vueltas por la casa. Armaron \\ntal revuelo que acabaron despertando a Nana.  \\n \\nPeter la oyó venir así que pudieron volver a sus camas rápidamente como si no \\nhubiese pasado nada. Así, cuando la niñ era entró en la habitación creyó que los tres \\ndormían plácidamente.  \\n \\nPero Nana estaba intranquila y estaba casi segura de que algo raro estaba ocurriendo \\nen el cuarto de los niños, de modo que corrió a avisar a los señores Darling. Pero \\ncuando volvieron, l os niños ya no estaban. Los tres habían partido rumbo a Nunca \\nJamás nerviosos e ilusionados por vivir aquella fantástica aventura.  \\n \\nVolaron durante días atravesando océanos pero al final llegaron al país de Nunca \\nJamas.  \\n \\nAl primero que vieron desde el aire  fue al temible capitán Garfio, el peor enemigo de \\nPeter Pan. En una lucha hacía tiempo Peter había logrado arrebatarle la mano'"
      ]
     },
     "execution_count": 22,
     "metadata": {},
     "output_type": "execute_result"
    }
   ],
   "source": [
    "docs[3]"
   ]
  },
  {
   "cell_type": "markdown",
   "id": "efbca0f0dbb45ce8",
   "metadata": {},
   "source": [
    "### Crea el vectorstore"
   ]
  },
  {
   "cell_type": "code",
   "execution_count": 19,
   "id": "654754889afdf02c",
   "metadata": {
    "ExecuteTime": {
     "end_time": "2024-12-04T14:34:33.214831Z",
     "start_time": "2024-12-04T14:34:05.173938Z"
    }
   },
   "outputs": [],
   "source": [
    "vectorstore = FAISS.from_texts(docs, embeddings)"
   ]
  },
  {
   "cell_type": "markdown",
   "id": "401910360c5ed6b1",
   "metadata": {},
   "source": [
    "### Guardar el vectorstore\n"
   ]
  },
  {
   "cell_type": "code",
   "execution_count": 20,
   "id": "8d9583543a279a85",
   "metadata": {},
   "outputs": [],
   "source": [
    "vectorstore.save_local(\"faiss_index\")"
   ]
  },
  {
   "cell_type": "markdown",
   "id": "64476d7f4a149c92",
   "metadata": {},
   "source": [
    "### Cargar el vectorstore"
   ]
  },
  {
   "cell_type": "code",
   "execution_count": 21,
   "id": "14dd4db11afe45b0",
   "metadata": {},
   "outputs": [],
   "source": [
    "vectorstore = FAISS.load_local(\"faiss_index\",embeddings=embeddings,allow_dangerous_deserialization=True)"
   ]
  }
 ],
 "metadata": {
  "kernelspec": {
   "display_name": "base",
   "language": "python",
   "name": "python3"
  },
  "language_info": {
   "codemirror_mode": {
    "name": "ipython",
    "version": 3
   },
   "file_extension": ".py",
   "mimetype": "text/x-python",
   "name": "python",
   "nbconvert_exporter": "python",
   "pygments_lexer": "ipython3",
   "version": "3.12.3"
  }
 },
 "nbformat": 4,
 "nbformat_minor": 5
}
