{
 "cells": [
  {
   "cell_type": "code",
   "execution_count": 1,
   "metadata": {},
   "outputs": [
    {
     "name": "stdout",
     "output_type": "stream",
     "text": [
      "Requirement already satisfied: PyPDF2 in c:\\users\\l03564299\\appdata\\local\\miniconda3\\lib\\site-packages (3.0.1)\n",
      "Requirement already satisfied: langchain==0.3.9 in c:\\users\\l03564299\\appdata\\local\\miniconda3\\lib\\site-packages (0.3.9)\n",
      "Requirement already satisfied: langchain-community==0.3.9 in c:\\users\\l03564299\\appdata\\local\\miniconda3\\lib\\site-packages (0.3.9)\n",
      "Requirement already satisfied: langchain-core==0.3.21 in c:\\users\\l03564299\\appdata\\local\\miniconda3\\lib\\site-packages (0.3.21)\n",
      "Requirement already satisfied: langchain-experimental==0.3.3 in c:\\users\\l03564299\\appdata\\local\\miniconda3\\lib\\site-packages (0.3.3)\n",
      "Requirement already satisfied: huggingface-hub==0.23.2 in c:\\users\\l03564299\\appdata\\local\\miniconda3\\lib\\site-packages (0.23.2)\n",
      "Requirement already satisfied: instructor==1.7.0 in c:\\users\\l03564299\\appdata\\local\\miniconda3\\lib\\site-packages (1.7.0)\n",
      "Requirement already satisfied: InstructorEmbedding==1.0.1 in c:\\users\\l03564299\\appdata\\local\\miniconda3\\lib\\site-packages (1.0.1)\n",
      "Requirement already satisfied: sentence-transformers==2.2.2 in c:\\users\\l03564299\\appdata\\local\\miniconda3\\lib\\site-packages (2.2.2)\n",
      "Requirement already satisfied: torch in c:\\users\\l03564299\\appdata\\local\\miniconda3\\lib\\site-packages (2.5.1)\n",
      "Requirement already satisfied: pdfplumber in c:\\users\\l03564299\\appdata\\local\\miniconda3\\lib\\site-packages (0.11.5)\n",
      "Requirement already satisfied: faiss-cpu in c:\\users\\l03564299\\appdata\\local\\miniconda3\\lib\\site-packages (1.9.0.post1)\n",
      "Requirement already satisfied: PyYAML>=5.3 in c:\\users\\l03564299\\appdata\\local\\miniconda3\\lib\\site-packages (from langchain==0.3.9) (6.0.2)\n",
      "Requirement already satisfied: SQLAlchemy<3,>=1.4 in c:\\users\\l03564299\\appdata\\local\\miniconda3\\lib\\site-packages (from langchain==0.3.9) (2.0.37)\n",
      "Requirement already satisfied: aiohttp<4.0.0,>=3.8.3 in c:\\users\\l03564299\\appdata\\local\\miniconda3\\lib\\site-packages (from langchain==0.3.9) (3.11.11)\n",
      "Requirement already satisfied: langchain-text-splitters<0.4.0,>=0.3.0 in c:\\users\\l03564299\\appdata\\local\\miniconda3\\lib\\site-packages (from langchain==0.3.9) (0.3.2)\n",
      "Requirement already satisfied: langsmith<0.2.0,>=0.1.17 in c:\\users\\l03564299\\appdata\\local\\miniconda3\\lib\\site-packages (from langchain==0.3.9) (0.1.147)\n",
      "Requirement already satisfied: numpy<3,>=1.26.2 in c:\\users\\l03564299\\appdata\\local\\miniconda3\\lib\\site-packages (from langchain==0.3.9) (2.2.1)\n",
      "Requirement already satisfied: pydantic<3.0.0,>=2.7.4 in c:\\users\\l03564299\\appdata\\local\\miniconda3\\lib\\site-packages (from langchain==0.3.9) (2.10.5)\n",
      "Requirement already satisfied: requests<3,>=2 in c:\\users\\l03564299\\appdata\\local\\miniconda3\\lib\\site-packages (from langchain==0.3.9) (2.32.3)\n",
      "Requirement already satisfied: tenacity!=8.4.0,<10,>=8.1.0 in c:\\users\\l03564299\\appdata\\local\\miniconda3\\lib\\site-packages (from langchain==0.3.9) (9.0.0)\n",
      "Requirement already satisfied: dataclasses-json<0.7,>=0.5.7 in c:\\users\\l03564299\\appdata\\local\\miniconda3\\lib\\site-packages (from langchain-community==0.3.9) (0.6.7)\n",
      "Requirement already satisfied: httpx-sse<0.5.0,>=0.4.0 in c:\\users\\l03564299\\appdata\\local\\miniconda3\\lib\\site-packages (from langchain-community==0.3.9) (0.4.0)\n",
      "Requirement already satisfied: pydantic-settings<3.0.0,>=2.4.0 in c:\\users\\l03564299\\appdata\\local\\miniconda3\\lib\\site-packages (from langchain-community==0.3.9) (2.7.1)\n",
      "Requirement already satisfied: jsonpatch<2.0,>=1.33 in c:\\users\\l03564299\\appdata\\local\\miniconda3\\lib\\site-packages (from langchain-core==0.3.21) (1.33)\n",
      "Requirement already satisfied: packaging<25,>=23.2 in c:\\users\\l03564299\\appdata\\local\\miniconda3\\lib\\site-packages (from langchain-core==0.3.21) (24.1)\n",
      "Requirement already satisfied: typing-extensions>=4.7 in c:\\users\\l03564299\\appdata\\local\\miniconda3\\lib\\site-packages (from langchain-core==0.3.21) (4.12.2)\n",
      "Requirement already satisfied: filelock in c:\\users\\l03564299\\appdata\\local\\miniconda3\\lib\\site-packages (from huggingface-hub==0.23.2) (3.16.1)\n",
      "Requirement already satisfied: fsspec>=2023.5.0 in c:\\users\\l03564299\\appdata\\local\\miniconda3\\lib\\site-packages (from huggingface-hub==0.23.2) (2024.12.0)\n",
      "Requirement already satisfied: tqdm>=4.42.1 in c:\\users\\l03564299\\appdata\\local\\miniconda3\\lib\\site-packages (from huggingface-hub==0.23.2) (4.66.5)\n",
      "Requirement already satisfied: docstring-parser<0.17,>=0.16 in c:\\users\\l03564299\\appdata\\local\\miniconda3\\lib\\site-packages (from instructor==1.7.0) (0.16)\n",
      "Requirement already satisfied: jinja2<4.0.0,>=3.1.4 in c:\\users\\l03564299\\appdata\\local\\miniconda3\\lib\\site-packages (from instructor==1.7.0) (3.1.5)\n",
      "Requirement already satisfied: jiter<0.7,>=0.6.1 in c:\\users\\l03564299\\appdata\\local\\miniconda3\\lib\\site-packages (from instructor==1.7.0) (0.6.1)\n",
      "Requirement already satisfied: openai<2.0.0,>=1.52.0 in c:\\users\\l03564299\\appdata\\local\\miniconda3\\lib\\site-packages (from instructor==1.7.0) (1.59.7)\n",
      "Requirement already satisfied: pydantic-core<3.0.0,>=2.18.0 in c:\\users\\l03564299\\appdata\\local\\miniconda3\\lib\\site-packages (from instructor==1.7.0) (2.27.2)\n",
      "Requirement already satisfied: rich<14.0.0,>=13.7.0 in c:\\users\\l03564299\\appdata\\local\\miniconda3\\lib\\site-packages (from instructor==1.7.0) (13.9.4)\n",
      "Requirement already satisfied: typer<1.0.0,>=0.9.0 in c:\\users\\l03564299\\appdata\\local\\miniconda3\\lib\\site-packages (from instructor==1.7.0) (0.15.1)\n",
      "Requirement already satisfied: transformers<5.0.0,>=4.6.0 in c:\\users\\l03564299\\appdata\\local\\miniconda3\\lib\\site-packages (from sentence-transformers==2.2.2) (4.46.3)\n",
      "Requirement already satisfied: torchvision in c:\\users\\l03564299\\appdata\\local\\miniconda3\\lib\\site-packages (from sentence-transformers==2.2.2) (0.20.1)\n",
      "Requirement already satisfied: scikit-learn in c:\\users\\l03564299\\appdata\\local\\miniconda3\\lib\\site-packages (from sentence-transformers==2.2.2) (1.6.1)\n",
      "Requirement already satisfied: scipy in c:\\users\\l03564299\\appdata\\local\\miniconda3\\lib\\site-packages (from sentence-transformers==2.2.2) (1.15.1)\n",
      "Requirement already satisfied: nltk in c:\\users\\l03564299\\appdata\\local\\miniconda3\\lib\\site-packages (from sentence-transformers==2.2.2) (3.9.1)\n",
      "Requirement already satisfied: sentencepiece in c:\\users\\l03564299\\appdata\\local\\miniconda3\\lib\\site-packages (from sentence-transformers==2.2.2) (0.2.0)\n",
      "Requirement already satisfied: networkx in c:\\users\\l03564299\\appdata\\local\\miniconda3\\lib\\site-packages (from torch) (3.4.2)\n",
      "Requirement already satisfied: setuptools in c:\\users\\l03564299\\appdata\\local\\miniconda3\\lib\\site-packages (from torch) (75.1.0)\n",
      "Requirement already satisfied: sympy==1.13.1 in c:\\users\\l03564299\\appdata\\local\\miniconda3\\lib\\site-packages (from torch) (1.13.1)\n",
      "Requirement already satisfied: mpmath<1.4,>=1.1.0 in c:\\users\\l03564299\\appdata\\local\\miniconda3\\lib\\site-packages (from sympy==1.13.1->torch) (1.3.0)\n",
      "Requirement already satisfied: pdfminer.six==20231228 in c:\\users\\l03564299\\appdata\\local\\miniconda3\\lib\\site-packages (from pdfplumber) (20231228)\n",
      "Requirement already satisfied: Pillow>=9.1 in c:\\users\\l03564299\\appdata\\local\\miniconda3\\lib\\site-packages (from pdfplumber) (11.1.0)\n",
      "Requirement already satisfied: pypdfium2>=4.18.0 in c:\\users\\l03564299\\appdata\\local\\miniconda3\\lib\\site-packages (from pdfplumber) (4.30.1)\n",
      "Requirement already satisfied: charset-normalizer>=2.0.0 in c:\\users\\l03564299\\appdata\\local\\miniconda3\\lib\\site-packages (from pdfminer.six==20231228->pdfplumber) (3.3.2)\n",
      "Requirement already satisfied: cryptography>=36.0.0 in c:\\users\\l03564299\\appdata\\local\\miniconda3\\lib\\site-packages (from pdfminer.six==20231228->pdfplumber) (43.0.0)\n",
      "Requirement already satisfied: aiohappyeyeballs>=2.3.0 in c:\\users\\l03564299\\appdata\\local\\miniconda3\\lib\\site-packages (from aiohttp<4.0.0,>=3.8.3->langchain==0.3.9) (2.4.4)\n",
      "Requirement already satisfied: aiosignal>=1.1.2 in c:\\users\\l03564299\\appdata\\local\\miniconda3\\lib\\site-packages (from aiohttp<4.0.0,>=3.8.3->langchain==0.3.9) (1.3.2)\n",
      "Requirement already satisfied: attrs>=17.3.0 in c:\\users\\l03564299\\appdata\\local\\miniconda3\\lib\\site-packages (from aiohttp<4.0.0,>=3.8.3->langchain==0.3.9) (24.3.0)\n",
      "Requirement already satisfied: frozenlist>=1.1.1 in c:\\users\\l03564299\\appdata\\local\\miniconda3\\lib\\site-packages (from aiohttp<4.0.0,>=3.8.3->langchain==0.3.9) (1.5.0)\n",
      "Requirement already satisfied: multidict<7.0,>=4.5 in c:\\users\\l03564299\\appdata\\local\\miniconda3\\lib\\site-packages (from aiohttp<4.0.0,>=3.8.3->langchain==0.3.9) (6.1.0)\n",
      "Requirement already satisfied: propcache>=0.2.0 in c:\\users\\l03564299\\appdata\\local\\miniconda3\\lib\\site-packages (from aiohttp<4.0.0,>=3.8.3->langchain==0.3.9) (0.2.1)\n",
      "Requirement already satisfied: yarl<2.0,>=1.17.0 in c:\\users\\l03564299\\appdata\\local\\miniconda3\\lib\\site-packages (from aiohttp<4.0.0,>=3.8.3->langchain==0.3.9) (1.18.3)\n",
      "Requirement already satisfied: marshmallow<4.0.0,>=3.18.0 in c:\\users\\l03564299\\appdata\\local\\miniconda3\\lib\\site-packages (from dataclasses-json<0.7,>=0.5.7->langchain-community==0.3.9) (3.25.1)\n",
      "Requirement already satisfied: typing-inspect<1,>=0.4.0 in c:\\users\\l03564299\\appdata\\local\\miniconda3\\lib\\site-packages (from dataclasses-json<0.7,>=0.5.7->langchain-community==0.3.9) (0.9.0)\n",
      "Requirement already satisfied: MarkupSafe>=2.0 in c:\\users\\l03564299\\appdata\\local\\miniconda3\\lib\\site-packages (from jinja2<4.0.0,>=3.1.4->instructor==1.7.0) (3.0.2)\n",
      "Requirement already satisfied: jsonpointer>=1.9 in c:\\users\\l03564299\\appdata\\local\\miniconda3\\lib\\site-packages (from jsonpatch<2.0,>=1.33->langchain-core==0.3.21) (2.1)\n",
      "Requirement already satisfied: httpx<1,>=0.23.0 in c:\\users\\l03564299\\appdata\\local\\miniconda3\\lib\\site-packages (from langsmith<0.2.0,>=0.1.17->langchain==0.3.9) (0.27.2)\n",
      "Requirement already satisfied: orjson<4.0.0,>=3.9.14 in c:\\users\\l03564299\\appdata\\local\\miniconda3\\lib\\site-packages (from langsmith<0.2.0,>=0.1.17->langchain==0.3.9) (3.10.14)\n",
      "Requirement already satisfied: requests-toolbelt<2.0.0,>=1.0.0 in c:\\users\\l03564299\\appdata\\local\\miniconda3\\lib\\site-packages (from langsmith<0.2.0,>=0.1.17->langchain==0.3.9) (1.0.0)\n",
      "Requirement already satisfied: anyio<5,>=3.5.0 in c:\\users\\l03564299\\appdata\\local\\miniconda3\\lib\\site-packages (from openai<2.0.0,>=1.52.0->instructor==1.7.0) (4.8.0)\n",
      "Requirement already satisfied: distro<2,>=1.7.0 in c:\\users\\l03564299\\appdata\\local\\miniconda3\\lib\\site-packages (from openai<2.0.0,>=1.52.0->instructor==1.7.0) (1.9.0)\n",
      "Requirement already satisfied: sniffio in c:\\users\\l03564299\\appdata\\local\\miniconda3\\lib\\site-packages (from openai<2.0.0,>=1.52.0->instructor==1.7.0) (1.3.1)\n",
      "Requirement already satisfied: annotated-types>=0.6.0 in c:\\users\\l03564299\\appdata\\local\\miniconda3\\lib\\site-packages (from pydantic<3.0.0,>=2.7.4->langchain==0.3.9) (0.7.0)\n",
      "Requirement already satisfied: python-dotenv>=0.21.0 in c:\\users\\l03564299\\appdata\\local\\miniconda3\\lib\\site-packages (from pydantic-settings<3.0.0,>=2.4.0->langchain-community==0.3.9) (1.0.1)\n",
      "Requirement already satisfied: idna<4,>=2.5 in c:\\users\\l03564299\\appdata\\local\\miniconda3\\lib\\site-packages (from requests<3,>=2->langchain==0.3.9) (3.7)\n",
      "Requirement already satisfied: urllib3<3,>=1.21.1 in c:\\users\\l03564299\\appdata\\local\\miniconda3\\lib\\site-packages (from requests<3,>=2->langchain==0.3.9) (2.2.3)\n",
      "Requirement already satisfied: certifi>=2017.4.17 in c:\\users\\l03564299\\appdata\\local\\miniconda3\\lib\\site-packages (from requests<3,>=2->langchain==0.3.9) (2024.12.14)\n",
      "Requirement already satisfied: markdown-it-py>=2.2.0 in c:\\users\\l03564299\\appdata\\local\\miniconda3\\lib\\site-packages (from rich<14.0.0,>=13.7.0->instructor==1.7.0) (3.0.0)\n",
      "Requirement already satisfied: pygments<3.0.0,>=2.13.0 in c:\\users\\l03564299\\appdata\\local\\miniconda3\\lib\\site-packages (from rich<14.0.0,>=13.7.0->instructor==1.7.0) (2.19.1)\n",
      "Requirement already satisfied: greenlet!=0.4.17 in c:\\users\\l03564299\\appdata\\local\\miniconda3\\lib\\site-packages (from SQLAlchemy<3,>=1.4->langchain==0.3.9) (3.1.1)\n",
      "Requirement already satisfied: colorama in c:\\users\\l03564299\\appdata\\local\\miniconda3\\lib\\site-packages (from tqdm>=4.42.1->huggingface-hub==0.23.2) (0.4.6)\n",
      "Requirement already satisfied: regex!=2019.12.17 in c:\\users\\l03564299\\appdata\\local\\miniconda3\\lib\\site-packages (from transformers<5.0.0,>=4.6.0->sentence-transformers==2.2.2) (2024.11.6)\n",
      "Requirement already satisfied: tokenizers<0.21,>=0.20 in c:\\users\\l03564299\\appdata\\local\\miniconda3\\lib\\site-packages (from transformers<5.0.0,>=4.6.0->sentence-transformers==2.2.2) (0.20.3)\n",
      "Requirement already satisfied: safetensors>=0.4.1 in c:\\users\\l03564299\\appdata\\local\\miniconda3\\lib\\site-packages (from transformers<5.0.0,>=4.6.0->sentence-transformers==2.2.2) (0.5.2)\n",
      "Requirement already satisfied: click>=8.0.0 in c:\\users\\l03564299\\appdata\\local\\miniconda3\\lib\\site-packages (from typer<1.0.0,>=0.9.0->instructor==1.7.0) (8.1.8)\n",
      "Requirement already satisfied: shellingham>=1.3.0 in c:\\users\\l03564299\\appdata\\local\\miniconda3\\lib\\site-packages (from typer<1.0.0,>=0.9.0->instructor==1.7.0) (1.5.4)\n",
      "Requirement already satisfied: joblib in c:\\users\\l03564299\\appdata\\local\\miniconda3\\lib\\site-packages (from nltk->sentence-transformers==2.2.2) (1.4.2)\n",
      "Requirement already satisfied: threadpoolctl>=3.1.0 in c:\\users\\l03564299\\appdata\\local\\miniconda3\\lib\\site-packages (from scikit-learn->sentence-transformers==2.2.2) (3.5.0)\n",
      "Requirement already satisfied: cffi>=1.12 in c:\\users\\l03564299\\appdata\\local\\miniconda3\\lib\\site-packages (from cryptography>=36.0.0->pdfminer.six==20231228->pdfplumber) (1.17.1)\n",
      "Requirement already satisfied: httpcore==1.* in c:\\users\\l03564299\\appdata\\local\\miniconda3\\lib\\site-packages (from httpx<1,>=0.23.0->langsmith<0.2.0,>=0.1.17->langchain==0.3.9) (1.0.7)\n",
      "Requirement already satisfied: h11<0.15,>=0.13 in c:\\users\\l03564299\\appdata\\local\\miniconda3\\lib\\site-packages (from httpcore==1.*->httpx<1,>=0.23.0->langsmith<0.2.0,>=0.1.17->langchain==0.3.9) (0.14.0)\n",
      "Requirement already satisfied: mdurl~=0.1 in c:\\users\\l03564299\\appdata\\local\\miniconda3\\lib\\site-packages (from markdown-it-py>=2.2.0->rich<14.0.0,>=13.7.0->instructor==1.7.0) (0.1.2)\n",
      "Requirement already satisfied: mypy-extensions>=0.3.0 in c:\\users\\l03564299\\appdata\\local\\miniconda3\\lib\\site-packages (from typing-inspect<1,>=0.4.0->dataclasses-json<0.7,>=0.5.7->langchain-community==0.3.9) (1.0.0)\n",
      "Requirement already satisfied: pycparser in c:\\users\\l03564299\\appdata\\local\\miniconda3\\lib\\site-packages (from cffi>=1.12->cryptography>=36.0.0->pdfminer.six==20231228->pdfplumber) (2.21)\n"
     ]
    }
   ],
   "source": [
    "!pip install PyPDF2 langchain==0.3.9 langchain-community==0.3.9 langchain-core==0.3.21 langchain-experimental==0.3.3 huggingface-hub==0.23.2 instructor==1.7.0 InstructorEmbedding==1.0.1 sentence-transformers==2.2.2 torch pdfplumber faiss-cpu"
   ]
  },
  {
   "cell_type": "code",
   "execution_count": 2,
   "metadata": {},
   "outputs": [
    {
     "name": "stdout",
     "output_type": "stream",
     "text": [
      "Requirement already satisfied: langchain_ollama==0.2.0 in c:\\users\\l03564299\\appdata\\local\\miniconda3\\lib\\site-packages (0.2.0)\n",
      "Requirement already satisfied: langchain-core<0.4.0,>=0.3.0 in c:\\users\\l03564299\\appdata\\local\\miniconda3\\lib\\site-packages (from langchain_ollama==0.2.0) (0.3.21)\n",
      "Requirement already satisfied: ollama<1,>=0.3.0 in c:\\users\\l03564299\\appdata\\local\\miniconda3\\lib\\site-packages (from langchain_ollama==0.2.0) (0.4.6)\n",
      "Requirement already satisfied: PyYAML>=5.3 in c:\\users\\l03564299\\appdata\\local\\miniconda3\\lib\\site-packages (from langchain-core<0.4.0,>=0.3.0->langchain_ollama==0.2.0) (6.0.2)\n",
      "Requirement already satisfied: jsonpatch<2.0,>=1.33 in c:\\users\\l03564299\\appdata\\local\\miniconda3\\lib\\site-packages (from langchain-core<0.4.0,>=0.3.0->langchain_ollama==0.2.0) (1.33)\n",
      "Requirement already satisfied: langsmith<0.2.0,>=0.1.125 in c:\\users\\l03564299\\appdata\\local\\miniconda3\\lib\\site-packages (from langchain-core<0.4.0,>=0.3.0->langchain_ollama==0.2.0) (0.1.147)\n",
      "Requirement already satisfied: packaging<25,>=23.2 in c:\\users\\l03564299\\appdata\\local\\miniconda3\\lib\\site-packages (from langchain-core<0.4.0,>=0.3.0->langchain_ollama==0.2.0) (24.1)\n",
      "Requirement already satisfied: pydantic<3.0.0,>=2.5.2 in c:\\users\\l03564299\\appdata\\local\\miniconda3\\lib\\site-packages (from langchain-core<0.4.0,>=0.3.0->langchain_ollama==0.2.0) (2.10.5)\n",
      "Requirement already satisfied: tenacity!=8.4.0,<10.0.0,>=8.1.0 in c:\\users\\l03564299\\appdata\\local\\miniconda3\\lib\\site-packages (from langchain-core<0.4.0,>=0.3.0->langchain_ollama==0.2.0) (9.0.0)\n",
      "Requirement already satisfied: typing-extensions>=4.7 in c:\\users\\l03564299\\appdata\\local\\miniconda3\\lib\\site-packages (from langchain-core<0.4.0,>=0.3.0->langchain_ollama==0.2.0) (4.12.2)\n",
      "Requirement already satisfied: httpx<0.28.0,>=0.27.0 in c:\\users\\l03564299\\appdata\\local\\miniconda3\\lib\\site-packages (from ollama<1,>=0.3.0->langchain_ollama==0.2.0) (0.27.2)\n",
      "Requirement already satisfied: anyio in c:\\users\\l03564299\\appdata\\local\\miniconda3\\lib\\site-packages (from httpx<0.28.0,>=0.27.0->ollama<1,>=0.3.0->langchain_ollama==0.2.0) (4.8.0)\n",
      "Requirement already satisfied: certifi in c:\\users\\l03564299\\appdata\\local\\miniconda3\\lib\\site-packages (from httpx<0.28.0,>=0.27.0->ollama<1,>=0.3.0->langchain_ollama==0.2.0) (2024.12.14)\n",
      "Requirement already satisfied: httpcore==1.* in c:\\users\\l03564299\\appdata\\local\\miniconda3\\lib\\site-packages (from httpx<0.28.0,>=0.27.0->ollama<1,>=0.3.0->langchain_ollama==0.2.0) (1.0.7)\n",
      "Requirement already satisfied: idna in c:\\users\\l03564299\\appdata\\local\\miniconda3\\lib\\site-packages (from httpx<0.28.0,>=0.27.0->ollama<1,>=0.3.0->langchain_ollama==0.2.0) (3.7)\n",
      "Requirement already satisfied: sniffio in c:\\users\\l03564299\\appdata\\local\\miniconda3\\lib\\site-packages (from httpx<0.28.0,>=0.27.0->ollama<1,>=0.3.0->langchain_ollama==0.2.0) (1.3.1)\n",
      "Requirement already satisfied: h11<0.15,>=0.13 in c:\\users\\l03564299\\appdata\\local\\miniconda3\\lib\\site-packages (from httpcore==1.*->httpx<0.28.0,>=0.27.0->ollama<1,>=0.3.0->langchain_ollama==0.2.0) (0.14.0)\n",
      "Requirement already satisfied: jsonpointer>=1.9 in c:\\users\\l03564299\\appdata\\local\\miniconda3\\lib\\site-packages (from jsonpatch<2.0,>=1.33->langchain-core<0.4.0,>=0.3.0->langchain_ollama==0.2.0) (2.1)\n",
      "Requirement already satisfied: orjson<4.0.0,>=3.9.14 in c:\\users\\l03564299\\appdata\\local\\miniconda3\\lib\\site-packages (from langsmith<0.2.0,>=0.1.125->langchain-core<0.4.0,>=0.3.0->langchain_ollama==0.2.0) (3.10.14)\n",
      "Requirement already satisfied: requests<3,>=2 in c:\\users\\l03564299\\appdata\\local\\miniconda3\\lib\\site-packages (from langsmith<0.2.0,>=0.1.125->langchain-core<0.4.0,>=0.3.0->langchain_ollama==0.2.0) (2.32.3)\n",
      "Requirement already satisfied: requests-toolbelt<2.0.0,>=1.0.0 in c:\\users\\l03564299\\appdata\\local\\miniconda3\\lib\\site-packages (from langsmith<0.2.0,>=0.1.125->langchain-core<0.4.0,>=0.3.0->langchain_ollama==0.2.0) (1.0.0)\n",
      "Requirement already satisfied: annotated-types>=0.6.0 in c:\\users\\l03564299\\appdata\\local\\miniconda3\\lib\\site-packages (from pydantic<3.0.0,>=2.5.2->langchain-core<0.4.0,>=0.3.0->langchain_ollama==0.2.0) (0.7.0)\n",
      "Requirement already satisfied: pydantic-core==2.27.2 in c:\\users\\l03564299\\appdata\\local\\miniconda3\\lib\\site-packages (from pydantic<3.0.0,>=2.5.2->langchain-core<0.4.0,>=0.3.0->langchain_ollama==0.2.0) (2.27.2)\n",
      "Requirement already satisfied: charset-normalizer<4,>=2 in c:\\users\\l03564299\\appdata\\local\\miniconda3\\lib\\site-packages (from requests<3,>=2->langsmith<0.2.0,>=0.1.125->langchain-core<0.4.0,>=0.3.0->langchain_ollama==0.2.0) (3.3.2)\n",
      "Requirement already satisfied: urllib3<3,>=1.21.1 in c:\\users\\l03564299\\appdata\\local\\miniconda3\\lib\\site-packages (from requests<3,>=2->langsmith<0.2.0,>=0.1.125->langchain-core<0.4.0,>=0.3.0->langchain_ollama==0.2.0) (2.2.3)\n"
     ]
    }
   ],
   "source": [
    "!pip install langchain_ollama==0.2.0"
   ]
  },
  {
   "cell_type": "code",
   "execution_count": 3,
   "metadata": {},
   "outputs": [
    {
     "name": "stderr",
     "output_type": "stream",
     "text": [
      "c:\\Users\\L03564299\\AppData\\Local\\miniconda3\\Lib\\site-packages\\InstructorEmbedding\\instructor.py:7: TqdmWarning: IProgress not found. Please update jupyter and ipywidgets. See https://ipywidgets.readthedocs.io/en/stable/user_install.html\n",
      "  from tqdm.autonotebook import trange\n"
     ]
    }
   ],
   "source": [
    "from PyPDF2 import PdfReader\n",
    "from langchain.text_splitter import CharacterTextSplitter, RecursiveCharacterTextSplitter\n",
    "from langchain.vectorstores import DocArrayInMemorySearch\n",
    "from langchain.document_loaders import TextLoader, PyPDFLoader\n",
    "from langchain_community.vectorstores import FAISS\n",
    "from langchain_experimental.text_splitter import SemanticChunker\n",
    "import os\n",
    "from langchain.embeddings import OllamaEmbeddings\n",
    "import pdfplumber\n",
    "from langchain_community.embeddings import HuggingFaceInstructEmbeddings\n",
    "from InstructorEmbedding import INSTRUCTOR\n",
    "from langchain_core.messages import HumanMessage, SystemMessage\n",
    "from langchain_ollama import ChatOllama\n",
    "from langchain_ollama.llms import OllamaLLM\n",
    "from langchain_core.output_parsers import StrOutputParser\n",
    "from langchain_core.prompts import ChatPromptTemplate\n",
    "from langchain_core.output_parsers import JsonOutputParser\n",
    "from langchain_core.prompts import PromptTemplate\n",
    "from langchain.memory import ConversationBufferMemory\n",
    "from langchain.chains import ConversationalRetrievalChain"
   ]
  },
  {
   "cell_type": "markdown",
   "metadata": {},
   "source": [
    "The following function loads the pdf file and returns the vectorstore. Do not modify. You can run it with the command:\n",
    "\n",
    "load_db(embeddings,pdf_path)\n",
    "\n",
    "where \"embeddings\" and \"pdf_path\" have been previously defined."
   ]
  },
  {
   "cell_type": "code",
   "execution_count": 4,
   "metadata": {},
   "outputs": [],
   "source": [
    "## Do not mofify\n",
    "def load_db(embeddings,pdf_path):\n",
    "    text =''\n",
    "    with open(pdf_path,'rb') as file:\n",
    "        pdf_reader = PdfReader(file)\n",
    "        for page in pdf_reader.pages:\n",
    "            text += page.extract_text()\n",
    "\n",
    "    text_splitter=SemanticChunker(embeddings, breakpoint_threshold_type=\"percentile\")\n",
    "    #text_splitter = RecursiveCharacterTextSplitter(chunk_size=1000, chunk_overlap=150)\n",
    "    docs = text_splitter.split_text(text)\n",
    "    # define embedding\n",
    "    vectorstore = FAISS.from_texts(docs, embeddings)\n",
    "    return vectorstore"
   ]
  },
  {
   "cell_type": "markdown",
   "metadata": {},
   "source": [
    "Define the embeddings. You can choose the embeddings you prefer, here we have the option of Instructor Embeddings from huggingface (not local) or Ollama embeddings (local)."
   ]
  },
  {
   "cell_type": "code",
   "execution_count": 5,
   "metadata": {},
   "outputs": [
    {
     "name": "stderr",
     "output_type": "stream",
     "text": [
      "C:\\Users\\L03564299\\AppData\\Local\\Temp\\ipykernel_36052\\943042438.py:3: LangChainDeprecationWarning: The class `OllamaEmbeddings` was deprecated in LangChain 0.3.1 and will be removed in 1.0.0. An updated version of the class exists in the :class:`~langchain-ollama package and should be used instead. To use it run `pip install -U :class:`~langchain-ollama` and import as `from :class:`~langchain_ollama import OllamaEmbeddings``.\n",
      "  embeddings = OllamaEmbeddings(\n"
     ]
    }
   ],
   "source": [
    "#embeddings = HuggingFaceInstructEmbeddings(model_name='hkunlp/instructor-xl')\n",
    "from langchain.embeddings import OllamaEmbeddings\n",
    "embeddings = OllamaEmbeddings(\n",
    "    model=\"llama3.2\",\n",
    ")"
   ]
  },
  {
   "cell_type": "markdown",
   "metadata": {},
   "source": [
    "Define the name and path of the pdf file to load. Modify at your needs:"
   ]
  },
  {
   "cell_type": "code",
   "execution_count": 6,
   "metadata": {},
   "outputs": [],
   "source": [
    "pdf_path = \"PeterPan.pdf\""
   ]
  },
  {
   "cell_type": "markdown",
   "metadata": {},
   "source": [
    "In the following piece of code we check whether the file with the embeddings already exists (stored in a directory called \"faiss_index\"). If the directory doesn't exists the embeddings are created calling the function \"load_db\" previously defined. The embeddings for the same pdf file can be created only once.\n",
    "Do not modify."
   ]
  },
  {
   "cell_type": "code",
   "execution_count": 7,
   "metadata": {},
   "outputs": [
    {
     "name": "stdout",
     "output_type": "stream",
     "text": [
      "loading faiss_index\n"
     ]
    }
   ],
   "source": [
    "#Do not modify \n",
    "import os\n",
    "if not os.path.exists('faiss_index'):\n",
    "    print('faiss_index doesnt exist')\n",
    "    vectorstore=load_db(embeddings,pdf_path)\n",
    "    vectorstore.save_local(\"faiss_index\")\n",
    "else:\n",
    "    print('loading faiss_index')\n",
    "    vectorstore = FAISS.load_local(\"faiss_index\",embeddings=embeddings,allow_dangerous_deserialization=True)\n"
   ]
  },
  {
   "cell_type": "markdown",
   "metadata": {},
   "source": [
    "Create the document retriever:"
   ]
  },
  {
   "cell_type": "code",
   "execution_count": 8,
   "metadata": {},
   "outputs": [],
   "source": [
    "#Do not modify\n",
    "retriever = vectorstore.as_retriever()"
   ]
  },
  {
   "cell_type": "markdown",
   "metadata": {},
   "source": [
    "Personalize your prompt template:"
   ]
  },
  {
   "cell_type": "code",
   "execution_count": 9,
   "metadata": {},
   "outputs": [],
   "source": [
    "template = \"\"\"Eres un asistente para contestar preguntas del ususario sobre el contenido del file subido, que trata de la historia de Peter Pan. \n",
    "    Contesta siempre en español y agradece el usuario por preguntar. Si las preguntas son sobre otro tema, contesta que no puedes contestar.\n",
    "    {context}\n",
    "    Question: {question}\n",
    "    Helpful Answer:\"\"\"\n",
    "qa_prompt = ChatPromptTemplate.from_template(template)"
   ]
  },
  {
   "cell_type": "markdown",
   "metadata": {},
   "source": [
    "Create the comnversation chain. The chain is a \"ConversionalRetrievalChain\" to take information only from the retriever (the pdf file). The llm is used only to interpret the questions and formulate the text of the answers. The chat memory is already included in the chain.\n"
   ]
  },
  {
   "cell_type": "code",
   "execution_count": 10,
   "metadata": {},
   "outputs": [
    {
     "name": "stderr",
     "output_type": "stream",
     "text": [
      "C:\\Users\\L03564299\\AppData\\Local\\Temp\\ipykernel_36052\\2042350049.py:3: LangChainDeprecationWarning: Please see the migration guide at: https://python.langchain.com/docs/versions/migrating_memory/\n",
      "  memory = ConversationBufferMemory(memory_key='chat_history', return_messages=True)\n"
     ]
    }
   ],
   "source": [
    "#Do not modify\n",
    "llm = OllamaLLM(model='llama3.2')\n",
    "memory = ConversationBufferMemory(memory_key='chat_history', return_messages=True)\n",
    "conversation_chain = ConversationalRetrievalChain.from_llm(\n",
    "    llm=llm,\n",
    "    retriever=retriever,\n",
    "    memory=memory,\n",
    "    combine_docs_chain_kwargs={\"prompt\": qa_prompt}\n",
    ")"
   ]
  },
  {
   "cell_type": "code",
   "execution_count": 11,
   "metadata": {},
   "outputs": [],
   "source": [
    "history = []"
   ]
  },
  {
   "cell_type": "markdown",
   "metadata": {},
   "source": [
    "Loop to handle the chat:"
   ]
  },
  {
   "cell_type": "code",
   "execution_count": 13,
   "metadata": {},
   "outputs": [
    {
     "name": "stdout",
     "output_type": "stream",
     "text": [
      "Escribe \"exit\" para salir\n"
     ]
    },
    {
     "name": "stderr",
     "output_type": "stream",
     "text": [
      "C:\\Users\\L03564299\\AppData\\Local\\Temp\\ipykernel_36052\\387802828.py:8: LangChainDeprecationWarning: The method `Chain.__call__` was deprecated in langchain 0.1.0 and will be removed in 1.0. Use :meth:`~invoke` instead.\n",
      "  result = conversation({\"question\": question}, {\"chat_history\": history})\n"
     ]
    },
    {
     "name": "stdout",
     "output_type": "stream",
     "text": [
      "\n"
     ]
    }
   ],
   "source": [
    "def handle_conversation(conversation,history):\n",
    "    print('Escribe \"exit\" para salir')\n",
    "    while True:\n",
    "        question = input('Tu: ')\n",
    "        if question.lower() == 'exit':\n",
    "            break\n",
    "        print(question)\n",
    "        result = conversation({\"question\": question}, {\"chat_history\": history})\n",
    "        history.append((question, result[\"answer\"]))\n",
    "        print(\"Bot: \",result['answer'])\n",
    "\n",
    "handle_conversation(conversation_chain,history)"
   ]
  }
 ],
 "metadata": {
  "kernelspec": {
   "display_name": "base",
   "language": "python",
   "name": "python3"
  },
  "language_info": {
   "codemirror_mode": {
    "name": "ipython",
    "version": 3
   },
   "file_extension": ".py",
   "mimetype": "text/x-python",
   "name": "python",
   "nbconvert_exporter": "python",
   "pygments_lexer": "ipython3",
   "version": "3.12.3"
  }
 },
 "nbformat": 4,
 "nbformat_minor": 2
}
